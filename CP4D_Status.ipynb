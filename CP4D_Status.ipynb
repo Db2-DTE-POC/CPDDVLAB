{
 "cells": [
  {
   "cell_type": "markdown",
   "metadata": {},
   "source": [
    "# Cloud Pak for Data Dashboard - Server Status\n",
    "This notebook can be used to update the server status display.\n",
    "\n",
    "**Note:** The regular dashboard service uses port 7272, while this one uses 7273. Both dashboards use identical API calls but the objects (tiles) that they refer to are different. Make sure you use port 7273 to update the proper display."
   ]
  },
  {
   "cell_type": "code",
   "execution_count": null,
   "metadata": {},
   "outputs": [],
   "source": [
    "%run dashboard.ipynb\n",
    "seturl('http://172.17.0.3:7272')"
   ]
  },
  {
   "cell_type": "markdown",
   "metadata": {},
   "source": [
    "There are 8 slots available for status information. Each tile has a name (server1..8) which are spread over two rows on the screen. Server1..4 are on the top row and server5..8 are on the bottom row.\n",
    "\n",
    "The `publishJustValue` function requires 5 arguments:\n",
    "\n",
    "* Tile name - server1 ... server8\n",
    "* Server name - Any string of characters that describe the server\n",
    "* Description - This could be the IP address of the server or any other key information about the service\n",
    "* Status - A string that represents up time or whether the server is down or not\n",
    "* Color - The background color of the status box. If the color is red, then the box will flash.\n",
    "\n",
    "Valid colors are blue, green, red, yellow, white, black, violet, orange, naval, or tile_background. The tile_backgound color blends in with the form so it is the equivalent of no color.\n",
    "\n",
    "If you do not provide a value for a server tile, it will retain the previous value that was supplied. In other words, if you had provided values for servers 1-4, the values 5-8 would remain blank. If you update server 1, the other tiles will still contain the old values. If you want to delete any tiles you must provide blank values to remove them (and a color of tile_background)."
   ]
  },
  {
   "cell_type": "code",
   "execution_count": null,
   "metadata": {},
   "outputs": [],
   "source": [
    "!wget -O db2.ipynb https://raw.githubusercontent.com/Db2-DTE-POC/CPDDVLAB/master/db2.ipynb \n",
    "%run db2.ipynb"
   ]
  },
  {
   "cell_type": "code",
   "execution_count": null,
   "metadata": {},
   "outputs": [],
   "source": [
    "%run connection.ipynb"
   ]
  },
  {
   "cell_type": "code",
   "execution_count": null,
   "metadata": {},
   "outputs": [],
   "source": [
    "def connectionAvailableTitle(CPOOLSIZE):\n",
    "    if CPOOLSIZE == '0':\n",
    "        return 'Down'\n",
    "    else:\n",
    "        return 'Up'  \n",
    "\n",
    "def connectionAvailableColor(CPOOLSIZE):\n",
    "    if CPOOLSIZE == '0':\n",
    "        return 'red'\n",
    "    else:\n",
    "        return 'green'"
   ]
  },
  {
   "cell_type": "code",
   "execution_count": null,
   "metadata": {},
   "outputs": [],
   "source": [
    "def getConnectionStatus():\n",
    "    virtualizationConnections = %sql SELECT CID, USR, SRCTYPE, SRCHOSTNAME, SRCPORT, DBNAME FROM QPLEXSYS.LISTRDBC ORDER BY CID\n",
    "    connectionStatus = %sql call QPLEXSYS.LISTRDBCDETAILS()\n",
    "\n",
    "    # Join the DV connections to the CPOOLSIZE\n",
    "    arrayPoolSize = []\n",
    "    for index, row in virtualizationConnections.iterrows():\n",
    "        cid = row['CID']\n",
    "        cidToCheck = connectionStatus.loc[connectionStatus['CID'] == cid]\n",
    "        arrayPoolSize.append(cidToCheck['CPOOLSIZE'].iat[0])\n",
    "\n",
    "    server = ['server1','server2','server3','server4','server5','server6','server7','server8']\n",
    "    virtualizationConnections['CPOOLSIZE'] = arrayPoolSize\n",
    "    virtualizationConnections['STATUS'] = arrayPoolSize\n",
    "    virtualizationConnections['COLOR'] = arrayPoolSize\n",
    "\n",
    "    virtualizationConnections['STATUS'] = virtualizationConnections['STATUS'].apply(connectionAvailableTitle)\n",
    "    virtualizationConnections['COLOR'] = virtualizationConnections['COLOR'].apply(connectionAvailableColor)\n",
    "\n",
    "    cs = virtualizationConnections[['SRCTYPE','SRCHOSTNAME','STATUS','COLOR']]\n",
    "    cs.rename(columns={'SRCTYPE':'TITLE'}, inplace=True)\n",
    "    cs.rename(columns={'SRCHOSTNAME':'DESCRIPTION'}, inplace=True)\n",
    "    cs.rename(columns={'STATUS':'VALUE'}, inplace=True)\n",
    "    cs.rename(columns={'COLOR':'COLOR'}, inplace=True)\n",
    "    return cs"
   ]
  },
  {
   "cell_type": "code",
   "execution_count": null,
   "metadata": {},
   "outputs": [],
   "source": [
    "while True: \n",
    "    cs = getConnectionStatus()\n",
    "    publishJustValue(\"server1\",\"AWS Db2\",cs.iloc[2]['DESCRIPTION'],cs.iloc[2]['VALUE'],cs.iloc[2]['COLOR'])\n",
    "    publishJustValue(\"server2\",\"Azure Db2\",cs.iloc[3]['DESCRIPTION'],cs.iloc[3]['VALUE'],cs.iloc[3]['COLOR'])\n",
    "    publishJustValue(\"server3\",\"Azure Postgres\",cs.iloc[7]['DESCRIPTION'],cs.iloc[7]['VALUE'],cs.iloc[7]['COLOR'])\n",
    "    publishJustValue(\"server4\",\"MongoDB\",cs.iloc[6]['DESCRIPTION'],cs.iloc[6]['VALUE'],cs.iloc[6]['COLOR'])\n",
    "    publishJustValue(\"server5\",\"Informix\",cs.iloc[5]['DESCRIPTION'],cs.iloc[5]['VALUE'],cs.iloc[5]['COLOR'])\n",
    "    publishJustValue(\"server6\",\"Db2 Warehouse\",cs.iloc[0]['DESCRIPTION'],cs.iloc[0]['VALUE'],cs.iloc[0]['COLOR'])\n",
    "    publishJustValue(\"server7\",\"z/OS\",cs.iloc[4]['DESCRIPTION'],cs.iloc[4]['VALUE'],cs.iloc[4]['COLOR'])\n",
    "    publishJustValue(\"server8\",\"Db2\",cs.iloc[1]['DESCRIPTION'],cs.iloc[1]['VALUE'],cs.iloc[1]['COLOR'])\n",
    "    \n",
    "    time.sleep(60)\n"
   ]
  },
  {
   "cell_type": "code",
   "execution_count": null,
   "metadata": {},
   "outputs": [],
   "source": []
  }
 ],
 "metadata": {
  "kernelspec": {
   "display_name": "Python 3",
   "language": "python",
   "name": "python3"
  },
  "language_info": {
   "codemirror_mode": {
    "name": "ipython",
    "version": 3
   },
   "file_extension": ".py",
   "mimetype": "text/x-python",
   "name": "python",
   "nbconvert_exporter": "python",
   "pygments_lexer": "ipython3",
   "version": "3.7.6"
  }
 },
 "nbformat": 4,
 "nbformat_minor": 2
}
