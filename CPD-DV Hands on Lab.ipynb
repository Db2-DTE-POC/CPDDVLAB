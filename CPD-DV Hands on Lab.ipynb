{
 "cells": [
  {
   "cell_type": "markdown",
   "metadata": {},
   "source": [
    "# DRAFT- IBM CPD DV Virtualizing Data - DRAFT\n"
   ]
  },
  {
   "cell_type": "markdown",
   "metadata": {},
   "source": [
    "### Where to find this sample online\n",
    "You can find a copy of this notebook at https://github.com/Db2-DTE-POC/db2dmc."
   ]
  },
  {
   "cell_type": "code",
   "execution_count": 1,
   "metadata": {},
   "outputs": [],
   "source": [
    "user = 'DATAENGINEER1'"
   ]
  },
  {
   "cell_type": "markdown",
   "metadata": {},
   "source": [
    "## General prep steps:\n",
    "* In CPD under virtualized data: remove STOCK_SYMBOLS and STOCK_TRANSACTIONS\n",
    "* In PostgreSQL: create table TRADING_PROVIDER\n",
    "* Start Anaconda and open Jupyter notebook CP4D - Stock Queries"
   ]
  },
  {
   "cell_type": "markdown",
   "metadata": {},
   "source": [
    "## Demo sections overview:\n",
    "* Show data source connections\n",
    "* Show virtualize screen and real time updates from source system PostgreSQL\n",
    "* Show virtualization\n",
    "* Show schema folding\n",
    "* Show how to create a join view\n",
    "* Show SQL editor and preconfigured scripts\n",
    "* Show how to deploy the CPD DV service from an external Jupyter notebook"
   ]
  },
  {
   "cell_type": "markdown",
   "metadata": {},
   "source": [
    "### Show data source connections\n",
    "* Logon\n",
    "* Click hamburger menu \n",
    "* Click Data virtualization\n",
    "* Click Menu\n",
    "* Click Data sources\n",
    "* Click table icon\n",
    "* Click 3 dots besides the PostgreSQL data source\n",
    "* Click popup menu Edit connection\n",
    "* Click Cancel"
   ]
  },
  {
   "cell_type": "markdown",
   "metadata": {},
   "source": [
    "### Show virtualization (STOCK_SYMBOLS_VSAM)\n",
    "* In the data virtualization screen type stock_symbols in search bar\n",
    "* Click preview on stock_symbols_vsam\n",
    "* Select stock_symbols_vsam\n",
    "* Click Add to cart\n",
    "* Click View cart\n",
    "* Select project DVDEMO\n",
    "* Change table name to STOCK_SYMBOLS\n",
    "* Change schema name to ONPREMZOS\n",
    "* Click virtualize\n",
    "* Click view my virtualized data\n",
    "* Click the 3 dots beside STOCK_SYMBOLS\n",
    "* Click \"View details\""
   ]
  },
  {
   "cell_type": "code",
   "execution_count": 2,
   "metadata": {},
   "outputs": [
    {
     "name": "stdout",
     "output_type": "stream",
     "text": [
      "Db2 Extensions Loaded.\n"
     ]
    }
   ],
   "source": [
    "%run db2.ipynb"
   ]
  },
  {
   "cell_type": "markdown",
   "metadata": {},
   "source": [
    "## Connections to Db2\n",
    "\n",
    "Before any SQL commands can be issued, a connection needs to be made to the Db2 database that you will be using. The connection can be done manually (through the use of the CONNECT command), or automatically when the first `%sql` command is issued.\n",
    "\n",
    "The Db2 magic command tracks whether or not a connection has occured in the past and saves this information between notebooks and sessions. When you start up a notebook and issue a command, the program will reconnect to the database using your credentials from the last session. In the event that you have not connected before, the system will prompt you for all the information it needs to connect. This information includes:\n",
    "\n",
    "- Database name (SAMPLE) \n",
    "- Hostname - localhost (enter an IP address if you need to connect to a remote server) \n",
    "- PORT - 50000 (this is the default but it could be different) \n",
    "- Userid - DB2INST1 \n",
    "- Password - No password is provided so you have to enter a value \n",
    "- Maximum Rows - 10 lines of output are displayed when a result set is returned \n",
    "\n",
    "There will be default values presented in the panels that you can accept, or enter your own values. All of the information will be stored in the directory that the notebooks are stored on. Once you have entered the information, the system will attempt to connect to the database for you and then you can run all of the SQL scripts. More details on the CONNECT syntax will be found in a section below.\n",
    "\n",
    "If you have credentials available from Db2 on Cloud or DSX, place the contents of the credentials into a variable and then use the `CONNECT CREDENTIALS <var>` syntax to connect to the database.\n",
    "```Python\n",
    "db2blu = { \"uid\" : \"xyz123456\", ...}\n",
    "%sql CONNECT CREDENTIALS db2blu\n",
    "```\n",
    "\n",
    "If the connection is successful using the credentials, the variable will be saved to disk so that you can connected from within another notebook using the same syntax.\n",
    "\n",
    "The next statement will force a CONNECT to occur with the default values. If you have not connected before, it will prompt you for the information."
   ]
  },
  {
   "cell_type": "code",
   "execution_count": 5,
   "metadata": {},
   "outputs": [
    {
     "name": "stdout",
     "output_type": "stream",
     "text": [
      "Connection successful.\n"
     ]
    }
   ],
   "source": [
    "%sql CONNECT TO BLUDB USER user999 USING t1cz?K9-X1_Y-2Wi HOST services-uscentral.skytap.com PORT 9094"
   ]
  },
  {
   "cell_type": "code",
   "execution_count": 7,
   "metadata": {},
   "outputs": [
    {
     "data": {
      "text/html": [
       "<div>\n",
       "<style scoped>\n",
       "    .dataframe tbody tr th:only-of-type {\n",
       "        vertical-align: middle;\n",
       "    }\n",
       "\n",
       "    .dataframe tbody tr th {\n",
       "        vertical-align: top;\n",
       "    }\n",
       "\n",
       "    .dataframe thead th {\n",
       "        text-align: right;\n",
       "    }\n",
       "</style>\n",
       "<table border=\"1\" class=\"dataframe\">\n",
       "  <thead>\n",
       "    <tr style=\"text-align: right;\">\n",
       "      <th></th>\n",
       "      <th>TABNAME</th>\n",
       "      <th>OWNER</th>\n",
       "    </tr>\n",
       "  </thead>\n",
       "  <tbody>\n",
       "    <tr>\n",
       "      <td>0</td>\n",
       "      <td>ACCOUNTS</td>\n",
       "      <td>USER999</td>\n",
       "    </tr>\n",
       "    <tr>\n",
       "      <td>1</td>\n",
       "      <td>CUSTOMERS</td>\n",
       "      <td>USER999</td>\n",
       "    </tr>\n",
       "    <tr>\n",
       "      <td>2</td>\n",
       "      <td>STOCK_HISTORY</td>\n",
       "      <td>USER999</td>\n",
       "    </tr>\n",
       "    <tr>\n",
       "      <td>3</td>\n",
       "      <td>STOCK_SYMBOLS</td>\n",
       "      <td>USER999</td>\n",
       "    </tr>\n",
       "    <tr>\n",
       "      <td>4</td>\n",
       "      <td>STOCK_TRANSACTIONS</td>\n",
       "      <td>USER999</td>\n",
       "    </tr>\n",
       "  </tbody>\n",
       "</table>\n",
       "</div>"
      ],
      "text/plain": [
       "              TABNAME     OWNER\n",
       "0            ACCOUNTS  USER999 \n",
       "1           CUSTOMERS  USER999 \n",
       "2       STOCK_HISTORY  USER999 \n",
       "3       STOCK_SYMBOLS  USER999 \n",
       "4  STOCK_TRANSACTIONS  USER999 "
      ]
     },
     "execution_count": 7,
     "metadata": {},
     "output_type": "execute_result"
    }
   ],
   "source": [
    "%sql select TABNAME, OWNER from syscat.tables where TABSCHEMA = 'DVDEMO'"
   ]
  },
  {
   "cell_type": "code",
   "execution_count": 8,
   "metadata": {},
   "outputs": [
    {
     "data": {
      "text/html": [
       "<p><pre style=\"font-family: monospace; border:2px; border-style:solid; border-color:#008000; background-color:#e6ffe6; padding: 1em;\">SET CURRENT SCHEMA DATAENGINEER1</pre></p>"
      ],
      "text/plain": [
       "<IPython.core.display.HTML object>"
      ]
     },
     "metadata": {},
     "output_type": "display_data"
    },
    {
     "name": "stdout",
     "output_type": "stream",
     "text": [
      "Command completed.\n"
     ]
    }
   ],
   "source": [
    "schema = user\n",
    "%sql -e SET CURRENT SCHEMA {schema}"
   ]
  },
  {
   "cell_type": "code",
   "execution_count": 9,
   "metadata": {},
   "outputs": [
    {
     "data": {
      "text/html": [
       "<p><pre style=\"font-family: monospace; border:2px; border-style:solid; border-color:#008000; background-color:#e6ffe6; padding: 1em;\">CREATE TABLE DISCOVER (A INT)</pre></p>"
      ],
      "text/plain": [
       "<IPython.core.display.HTML object>"
      ]
     },
     "metadata": {},
     "output_type": "display_data"
    },
    {
     "name": "stdout",
     "output_type": "stream",
     "text": [
      "Command completed.\n"
     ]
    }
   ],
   "source": [
    "%sql -e CREATE TABLE DISCOVER (A INT);"
   ]
  },
  {
   "cell_type": "code",
   "execution_count": 10,
   "metadata": {},
   "outputs": [
    {
     "data": {
      "text/html": [
       "<p><pre style=\"font-family: monospace; border:2px; border-style:solid; border-color:#008000; background-color:#e6ffe6; padding: 1em;\">INSERT INTO DISCOVER VALUES 1,2,3,4,5,6,7,8,9,10</pre></p>"
      ],
      "text/plain": [
       "<IPython.core.display.HTML object>"
      ]
     },
     "metadata": {},
     "output_type": "display_data"
    },
    {
     "name": "stdout",
     "output_type": "stream",
     "text": [
      "Command completed.\n"
     ]
    }
   ],
   "source": [
    "%sql -e INSERT INTO DISCOVER VALUES 1,2,3,4,5,6,7,8,9,10"
   ]
  },
  {
   "cell_type": "code",
   "execution_count": 11,
   "metadata": {},
   "outputs": [
    {
     "data": {
      "text/html": [
       "<p><pre style=\"font-family: monospace; border:2px; border-style:solid; border-color:#008000; background-color:#e6ffe6; padding: 1em;\">SELECT * FROM DISCOVER</pre></p>"
      ],
      "text/plain": [
       "<IPython.core.display.HTML object>"
      ]
     },
     "metadata": {},
     "output_type": "display_data"
    },
    {
     "data": {
      "text/html": [
       "<div>\n",
       "<style scoped>\n",
       "    .dataframe tbody tr th:only-of-type {\n",
       "        vertical-align: middle;\n",
       "    }\n",
       "\n",
       "    .dataframe tbody tr th {\n",
       "        vertical-align: top;\n",
       "    }\n",
       "\n",
       "    .dataframe thead th {\n",
       "        text-align: right;\n",
       "    }\n",
       "</style>\n",
       "<table border=\"1\" class=\"dataframe\">\n",
       "  <thead>\n",
       "    <tr style=\"text-align: right;\">\n",
       "      <th></th>\n",
       "      <th>A</th>\n",
       "    </tr>\n",
       "  </thead>\n",
       "  <tbody>\n",
       "    <tr>\n",
       "      <td>0</td>\n",
       "      <td>1</td>\n",
       "    </tr>\n",
       "    <tr>\n",
       "      <td>1</td>\n",
       "      <td>2</td>\n",
       "    </tr>\n",
       "    <tr>\n",
       "      <td>2</td>\n",
       "      <td>3</td>\n",
       "    </tr>\n",
       "    <tr>\n",
       "      <td>3</td>\n",
       "      <td>4</td>\n",
       "    </tr>\n",
       "    <tr>\n",
       "      <td>4</td>\n",
       "      <td>5</td>\n",
       "    </tr>\n",
       "    <tr>\n",
       "      <td>5</td>\n",
       "      <td>6</td>\n",
       "    </tr>\n",
       "    <tr>\n",
       "      <td>6</td>\n",
       "      <td>7</td>\n",
       "    </tr>\n",
       "    <tr>\n",
       "      <td>7</td>\n",
       "      <td>8</td>\n",
       "    </tr>\n",
       "    <tr>\n",
       "      <td>8</td>\n",
       "      <td>9</td>\n",
       "    </tr>\n",
       "    <tr>\n",
       "      <td>9</td>\n",
       "      <td>10</td>\n",
       "    </tr>\n",
       "  </tbody>\n",
       "</table>\n",
       "</div>"
      ],
      "text/plain": [
       "    A\n",
       "0   1\n",
       "1   2\n",
       "2   3\n",
       "3   4\n",
       "4   5\n",
       "5   6\n",
       "6   7\n",
       "7   8\n",
       "8   9\n",
       "9  10"
      ]
     },
     "execution_count": 11,
     "metadata": {},
     "output_type": "execute_result"
    }
   ],
   "source": [
    "%sql -e SELECT * FROM DISCOVER;"
   ]
  },
  {
   "cell_type": "code",
   "execution_count": null,
   "metadata": {},
   "outputs": [],
   "source": [
    "%sql -e DROP TABLE {schema}.DISCOVER;"
   ]
  },
  {
   "cell_type": "markdown",
   "metadata": {},
   "source": [
    "### Show schema folding:\n",
    "* Click Menu \n",
    "* Click Virtualize\n",
    "* Search for \"STOCK_TRANSACTIONS\"\n",
    "* Click \"Automatically group tables\"\n",
    "* Select top entry of grouped STOCK_TRANSACTIONS\n",
    "* Click Add to Cart\n",
    "* Click View cart\n",
    "* Click the 3 dots\n",
    "* Click Edit grouped tables\n",
    "* Deselect all\n",
    "* Click DVDEMO, 34.202.141.171\n",
    "* Click DVDEMO, 13.90.246.239\n",
    "* Click public, 13.90.246.239\n",
    "* Select project DVDEMO\n",
    "* Change Schema name to FOLDING\n",
    "* Click Apply\n",
    "* Click Virtualize\n",
    "* Click view my virtualized data\n",
    "* Click Stock_Transaction -> View Details"
   ]
  },
  {
   "cell_type": "markdown",
   "metadata": {},
   "source": [
    "### Show how to create a join view:\n",
    "* Select table STOCK_TRANSACTIONS\n",
    "* Select table STOCK_SYMBOLS\n",
    "* Click Join View\n",
    "* In table STOCK_SYMBOLS: deselect SYMBOL\n",
    "* In table STOCK_HISTORY: deselct _ID\n",
    "* Click STOCK_TRANSACTION.SYMBOLS and drag to STOCK_SYMBOLS.SYMBOL\n",
    "* Click Open in SQL Editor\n",
    "* Click Back button on top of the screen\n",
    "* Click JOIN\n",
    "* Type view name VIEW__STOCK_TRANSACTIONS__STOCK_SYMBOLS\n",
    "* Type schema name DVDEMO\n",
    "* Click NEXT\n",
    "* Select project DVDEMO\n",
    "* Click CREATE VIEW -> Popup window \"Join view created\" apears\n",
    "* Click View my virtualized data\n",
    "* Click the 3 dots besides object VIEW__STOCK_TRANSACTIONS__STOCK_SYMBOLS\n",
    "* Click Preview\n",
    "* Click Manage Access\n",
    "* Click Grant Access\n",
    "* Select user ctp\n",
    "* Click Add\n",
    "* Click Back button on top of the screen -> take you back to My virtualized data screen\n"
   ]
  },
  {
   "cell_type": "markdown",
   "metadata": {},
   "source": [
    "### Show SQL editor and preconfigured scripts:\n",
    "**Prep steps:**\n",
    "* Go to SQL Editor and open the following scripts: Ohio customers, 30 day moving average\n",
    "* Click Ohio Customers to make sure this is preselected\n",
    "\n",
    "**Steps:**\n",
    "* Click Menu\n",
    "* Click SQL Editor\n",
    "* Click 30 day moving average\n",
    "* Click Script Library\n",
    "* Click arrow besides 3% stocks\n",
    "* Click icon Open a script to edit\n",
    "* Click Run all -> the query result is displayed"
   ]
  },
  {
   "cell_type": "markdown",
   "metadata": {},
   "source": [
    "### Show how to deploy the CPD DV service from an external Jupyter notebook\n",
    "* Open the Connections Info page of the DV service and show the connection information\n",
    "* Switch to different brower window that shows external Jupyter Notebooks console\n",
    "* Run through the notebook from top to bottom and show the connect to the DV layer and the execution of the sample queries."
   ]
  },
  {
   "cell_type": "markdown",
   "metadata": {},
   "source": [
    "#### Credits: IBM 2019, Peter Kohlmann [kohlmann@ca.ibm.com]"
   ]
  },
  {
   "cell_type": "code",
   "execution_count": null,
   "metadata": {},
   "outputs": [],
   "source": []
  }
 ],
 "metadata": {
  "kernelspec": {
   "display_name": "Python 3",
   "language": "python",
   "name": "python3"
  },
  "language_info": {
   "codemirror_mode": {
    "name": "ipython",
    "version": 3
   },
   "file_extension": ".py",
   "mimetype": "text/x-python",
   "name": "python",
   "nbconvert_exporter": "python",
   "pygments_lexer": "ipython3",
   "version": "3.7.4"
  }
 },
 "nbformat": 4,
 "nbformat_minor": 2
}
