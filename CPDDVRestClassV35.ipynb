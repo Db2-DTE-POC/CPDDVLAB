{
 "cells": [
  {
   "cell_type": "markdown",
   "metadata": {
    "id": "0b376867-f2ab-4860-9eb0-e04756c2b623"
   },
   "source": [
    "# IBM Cloud Pak for Data Data Virtualization Lab Core RESTful Service Base Classes"
   ]
  },
  {
   "cell_type": "markdown",
   "metadata": {
    "id": "2ebe6e38-cc9a-4a0e-bdb4-366174d31514"
   },
   "source": [
    "### Where to find this sample online\n",
    "You can find a copy of this notebook on GITHUB at https://github.com/Db2-DTE-POC/CPDDVLAB."
   ]
  },
  {
   "cell_type": "markdown",
   "metadata": {
    "id": "e1f7f590-4a6e-4c9b-baff-0b0739b71b26"
   },
   "source": [
    "### First we will import a few helper classes\n",
    "We need to pull in a few standard Python libraries so that we can work with REST, JSON and a library called Pandas. Pandas lets us work with DataFrames, which are a very powerful way to work with tabular data in Python. "
   ]
  },
  {
   "cell_type": "code",
   "execution_count": null,
   "metadata": {
    "id": "4aa056c5-d678-497d-8274-0952d7353d26"
   },
   "outputs": [],
   "source": [
    "# Import the class libraries \n",
    "import requests\n",
    "import ssl\n",
    "import json\n",
    "from pprint import pprint\n",
    "from requests import Response\n",
    "import pandas as pd\n",
    "import time\n",
    "from requests.packages.urllib3.exceptions import InsecureRequestWarning\n",
    "requests.packages.urllib3.disable_warnings(InsecureRequestWarning)\n",
    "from IPython.display import IFrame\n",
    "from IPython.display import display, HTML\n",
    "from pandas import json_normalize\n",
    "%matplotlib inline\n",
    "import matplotlib\n",
    "import matplotlib.pyplot as plt"
   ]
  },
  {
   "cell_type": "markdown",
   "metadata": {
    "id": "f76a923e-5444-4625-acfe-049c932df278"
   },
   "source": [
    "### The Db2 Class\n",
    "Next we will create a Db2 helper class that will encapsulate the Rest API calls that we can use to directly access the Db2 Data Management Console service without having to use the user interface. \n",
    "\n",
    "To access the service we need to first authenticate with the service and create a reusable token that we can use for each call to the service. This ensures that we don't have to provide a userID and password each time we run a command. The token makes sure this is secure. \n",
    "\n",
    "Each request is constructed of several parts. First, the URL and the API identify how to connect to the service. Second the REST service request that identifies the request and the options. For example '/metrics/applications/connections/current/list'. And finally some complex requests also include a JSON payload. For example running SQL includes a JSON object that identifies the script, statement delimiters, the maximum number of rows in the results set as well as what do if a statement fails."
   ]
  },
  {
   "cell_type": "code",
   "execution_count": null,
   "metadata": {
    "id": "f427cbd7-0971-48f8-ad41-3aa96e67abe9"
   },
   "outputs": [],
   "source": [
    "# Run the Db2 Class library\n",
    "# Used to construct and reuse an Autentication Key\n",
    "# Used to construct RESTAPI URLs and JSON payloads\n",
    "class Db2():\n",
    "    \n",
    "    def __init__(self, url, verify = False, proxies=None, ):\n",
    "        self.url = url\n",
    "        self.proxies = proxies\n",
    "        self.verify = verify\n",
    "\n",
    "    def authenticate(self, api, userid, password):\n",
    "        \n",
    "        credentials = {'username':userid, 'password':password}\n",
    "        r = requests.post(self.url+api+'/preauth/signin', verify=self.verify, json=credentials, proxies=self.proxies)\n",
    "        if (r.status_code == 200):\n",
    "            bearerToken = \"Bearer \" + r.cookies[\"ibm-private-cloud-session\"]\n",
    "            print('Token Retrieved')\n",
    "            self.headers = {'Content-Type':\"application/json\", 'Accept':\"application/json\", 'Authorization': bearerToken, 'Cache-Control': \"no-cache\"}\n",
    "        else:\n",
    "            print ('Unable to authenticate, no bearer token obtained')\n",
    "        \n",
    "    def printResponse(self, r, code):\n",
    "        if (r.status_code == code):\n",
    "            pprint(r.json())\n",
    "        else:\n",
    "            print (r.status_code)\n",
    "            print (r.content)\n",
    "    \n",
    "    def getRequest(self, api, json=None):\n",
    "        return requests.get(self.url+api, verify = self.verify, headers=self.headers, proxies = self.proxies, json=json)\n",
    "\n",
    "    def postRequest(self, api, json=None):\n",
    "        return requests.post(self.url+api, verify = self.verify, headers=self.headers, proxies = self.proxies, json=json) \n",
    "    \n",
    "    def deleteRequest(self, api, json=None):\n",
    "        return requests.delete(self.url+api, verify = self.verify, headers=self.headers, proxies = self.proxies, json=json) \n",
    "        \n",
    "    def getStatusCode(self, response):\n",
    "        return (response.status_code)\n",
    "\n",
    "    def getJSON(self, response):\n",
    "        return (response.json())\n",
    "    \n",
    "    def getSchemas(self):\n",
    "        return self.getRequest('/icp4data-databases/dv/cp4d/dbapi/v4/schemas')\n",
    "           \n",
    "    def getSearchViewList(self, searchtext, show_systems=\"false\"):\n",
    "        return self.getRequest('/icp4data-databases/dv/cp4d/dbapi/v4/admin/schemas/obj_type/view?search_name='+searchtext+'&show_systems='+str(show_systems)+'&rows_return=200');\n",
    "    \n",
    "    def getSearchTableList(self, searchtext):\n",
    "        return self.getRequest('/icp4data-databases/dv/cp4d/dbapi/v4/admin/schemas/obj_type/table?search_name='+searchtext+'&show_systems=true&rows_return=100');\n",
    "               \n",
    "    def postSearchObjects(self, obj_type, search_text, rows_return=100, show_systems='false', is_ascend='true'):     \n",
    "        json = {\"search_name\":search_text,\"rows_return\":rows_return,\"show_systems\":show_systems,\"obj_type\":obj_type,\"filters_match\":\"ALL\",\"filters\":[]}       \n",
    "        return self.postRequest('/icp4data-databases/dv/cp4d/dbapi/v4/admin/'+str(obj_type)+'s',json);\n",
    "            \n",
    "    def getTablesInSchema(self, schema):\n",
    "        return self.getRequest('/icp4data-databases/dv/cp4d/dbapi/v4/schemas/'+str(schema)+'/tables'); \n",
    "    \n",
    "    def getVirtualizedTables(self):\n",
    "        return self.getRequest('/icp4data-databases/dv/cp4d/dvapiserver/v1/dv/mydata/tables')\n",
    "    \n",
    "    def getVirtualizedTablesDF(self):\n",
    "        r = self.getVirtualizedTables()\n",
    "        if (self.getStatusCode(r)==200):\n",
    "            json = self.getJSON(r)\n",
    "            df = pd.DataFrame(json_normalize(json['tables']))\n",
    "            return df\n",
    "        else:\n",
    "            print(self.getStatusCode(r))\n",
    "\n",
    "    def getVirtualizedViews(self):\n",
    "        return self.getRequest('/icp4data-databases/dv/cp4d/dvapiserver/v1/dv/mydata/views')\n",
    "    \n",
    "    def getVirtualizedViewsDF(self):\n",
    "        r = self.getVirtualizedViews()\n",
    "        if (self.getStatusCode(r)==200):\n",
    "            json = self.getJSON(r)\n",
    "            df = pd.DataFrame(json_normalize(json['views']))\n",
    "            return df\n",
    "        else:\n",
    "            print(self.getStatusCode(r))\n",
    "    \n",
    "    def grantPrivledgeToRole(self, objectName, objectSchema, roleToGrant):\n",
    "        json =   {\"objectName\":objectName,\"objectSchema\":objectSchema,\"roleToGrant\":roleToGrant}\n",
    "        return self.postRequest('/icp4data-databases/dv/cp4d/dvapiserver/v1/privileges/roles',json);\n",
    " \n",
    "    def getRole(self, role):\n",
    "        return self.getRequest('/icp4data-databases/dv/cp4d/dvapiserver/v1/privileges/objects/role/'+str(role));\n",
    "    \n",
    "    def foldData(self, sourceName, sourceTableDef, sources ):\n",
    "        json = {\"sourceName\":sourceName,\"sourceTableDef\":sourceTableDef,\"sources\":sources}\n",
    "        return self.postRequest('/icp4data-databases/dv/cp4d/dvapiserver/v1/dv/virtualize/tables', json);\n",
    "\n",
    "    def addUser(self, username, displayName, email, user_roles, password):\n",
    "        json = {\"username\":username,\"displayName\":displayName,\"email\":email,\"user_roles\":user_roles,\"password\":password}\n",
    "        return self.postRequest('/api/v1/usermgmt/v1/user', json);\n",
    "    \n",
    "    def dropUser(self, username):\n",
    "        return self.deleteRequest('/api/v1/usermgmt/v1/user/'+str(username));\n",
    "   \n",
    "    def getUsers(self):\n",
    "        return self.getRequest('/api/v1/usermgmt/v1/usermgmt/users');\n",
    "    \n",
    "    def getUsersDF(self):\n",
    "        r = self.getUsers()\n",
    "        if (self.getStatusCode(r)==200):\n",
    "            json = self.getJSON(r)\n",
    "            df = pd.DataFrame(json_normalize(json))\n",
    "            return df\n",
    "        else:\n",
    "            print(self.getStatusCode(r));\n",
    "    \n",
    "    def addUserToDV(self, display_name, role, usersDF):\n",
    "        userrow = (usersDF.loc[usersDF['displayName'] == display_name])\n",
    "        uid = userrow['uid'].values[0]\n",
    "        username = userrow['username'].values[0]\n",
    "        \n",
    "        json = {\"users\":[{\"uid\":uid,\"username\":username,\"display_name\":display_name,\"role\":role}],\"serviceInstanceID\":\"1610031237189593\"}\n",
    "        return self.postRequest('/zen-data/v2/serviceInstance/users', json);\n",
    "    \n",
    "    def dropUserFromDV(self, display_name, usersDF):\n",
    "        userrow = (usersDF.loc[usersDF['displayName'] == display_name])\n",
    "        uid = userrow['uid'].values[0]\n",
    "        \n",
    "        json = {\"users\":[uid],\"serviceInstanceID\":\"1610031237189593\"}\n",
    "        return self.deleteRequest('/zen-data/v2/serviceInstance/users', json);\n",
    "    \n",
    "    def deleteVirtualizedTable(self, table_schema, table_name, data_source_table_name):\n",
    "        payload = {\"table_schema\":table_schema,\"table_name\":table_name,\"data_source_table_name\":data_source_table_name}\n",
    "        return self.deleteRequest('/icp4data-databases/dv/cp4d/dbapi/v4/dv/federation', payload);\n",
    "    \n",
    "    def deleteView(self, schema, view):\n",
    "        return self.deleteRequest('/icp4data-databases/dv/cp4d/dbapi/v4/dv/federation/views/'+str(schema)+'/'+str(view))\n",
    "\n",
    "    def getDataSourcesAPI(self):\n",
    "        return self.getRequest('/icp4data-databases/dv/cp4d/dvapiserver/v1/dv/datasource_nodes')\n",
    "    \n",
    "    def getDataSources(self):\n",
    "        columns = ['cid','connection_id', 'dbname', 'srchostname', 'srcport','srctype','status','usr','uri']\n",
    "        dfTotal = pd.DataFrame(columns=columns)\n",
    "        r = self.getDataSourcesAPI()\n",
    "        if (self.getStatusCode(r)==200):\n",
    "            json = self.getJSON(r)\n",
    "            df = pd.DataFrame(json_normalize(json))\n",
    "            for index, row in df.iterrows():\n",
    "                if row['agent_class']!='F':\n",
    "                    dfTotal = pd.concat([dfTotal, pd.DataFrame(json_normalize(row['dataSources']))],ignore_index=True)\n",
    "            return(dfTotal[['srctype','srchostname', 'srcport', 'dbname', 'usr', 'status']])\n",
    "        else:\n",
    "            print(getStatusCode(r))    "
   ]
  },
  {
   "cell_type": "markdown",
   "metadata": {
    "id": "8e482b9f-b103-4b1d-b4d6-172e0a469dd2"
   },
   "source": [
    "#### Credits: IBM 2019, Peter Kohlmann [kohlmann@ca.ibm.com]"
   ]
  }
 ],
 "metadata": {
  "kernelspec": {
   "display_name": "Python 3.7",
   "language": "python",
   "name": "python3"
  },
  "language_info": {
   "codemirror_mode": {
    "name": "ipython",
    "version": 3
   },
   "file_extension": ".py",
   "mimetype": "text/x-python",
   "name": "python",
   "nbconvert_exporter": "python",
   "pygments_lexer": "ipython3",
   "version": "3.7.9"
  }
 },
 "nbformat": 4,
 "nbformat_minor": 2
}
