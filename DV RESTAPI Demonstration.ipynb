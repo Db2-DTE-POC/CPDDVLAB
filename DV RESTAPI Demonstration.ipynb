{
 "cells": [
  {
   "cell_type": "markdown",
   "metadata": {
    "id": "a19e58d0-31c8-428b-9542-c505e0c3ae81"
   },
   "source": [
    "<img src=\"https://raw.githubusercontent.com/Db2-DTE-POC/CPDDVLAB/master/media/Digital Technical Engagement.png\">"
   ]
  },
  {
   "cell_type": "markdown",
   "metadata": {
    "id": "d059cfd9-67ed-401c-bdb4-02753c2c7a62"
   },
   "source": [
    "# IBM Cloud Pak for Data Data Virtualization Demonstration"
   ]
  },
  {
   "cell_type": "markdown",
   "metadata": {
    "id": "5429fe24-9974-449d-87f9-05cd9246be83"
   },
   "source": [
    "### Where to find this notebook online\n",
    "You can find a copy of this notebook at https://github.com/Db2-DTE-POC/CPDDVLAB."
   ]
  },
  {
   "cell_type": "markdown",
   "metadata": {
    "id": "a492a9f5-5da6-440a-9fa5-004e3134b441"
   },
   "source": [
    "### This notebooks demonstrates using the CPD REST APIs to access the Data Virtualization Service\n",
    "\n",
    "All the code in this notebook runs using the main **peter** userid and **PETER** password."
   ]
  },
  {
   "cell_type": "markdown",
   "metadata": {
    "id": "27f43c04-9015-40a9-a9fb-8093bd9194b2"
   },
   "source": [
    "#### RESTful Services\n",
    "IBM Cloud Pak for Data is built on a set of microservices that communicate with each other and the Console user interface using RESTful APIs. You can use these services to automate anything you can do throught the user interface.\n",
    "\n",
    "This Jupyter Notebook contains examples of how to use the Open APIs to retrieve information from the virtualization service, how to run SQL statements directly against the service through REST and how to provide authoritization to objects. This provides a way write your own script to automate the setup and configuration of the virtualization service.\n",
    "\n",
    "The next part of the lab relies on a set of base classes to help you interact with the RESTful Services API for IBM Cloud Pak for Data Virtualization. You can access this library on GITHUB. The commands below download the library and run them as part of this notebook.\n",
    "<pre>\n",
    "&#37;run CPDDVRestClassV35.ipynb\n",
    "</pre>\n",
    "The cell below loads the RESTful Service Classes and methods directly from GITHUB. Note that it will take a few seconds for the extension to load, so you should generally wait until the \"Db2 Extensions Loaded\" message is displayed in your notebook. \n",
    "1. Click the cell below\n",
    "2. Click **Run**"
   ]
  },
  {
   "cell_type": "code",
   "execution_count": null,
   "metadata": {
    "id": "e71bb35e-816d-482b-b1bd-23d1183f3b0b",
    "scrolled": true
   },
   "outputs": [],
   "source": [
    "!wget -O CPDDVRestClassV35.ipynb https://raw.githubusercontent.com/Db2-DTE-POC/CPDDVLAB/master/CPDDVRestClassV35.ipynb\n",
    "%run CPDDVRestClassV35.ipynb"
   ]
  },
  {
   "cell_type": "markdown",
   "metadata": {
    "id": "787d68e9-c4d7-4c1d-8691-557d2a2380ce"
   },
   "source": [
    "## Establishing a Connection to the Console"
   ]
  },
  {
   "cell_type": "markdown",
   "metadata": {
    "id": "f4fc0646-4bb5-44d8-a970-3cb2957fc216"
   },
   "source": [
    "### Connections\n",
    "To connect to the Data Virtualization service you need to provide the URL, the service name (v1) and profile the console user name and password. The next cell connects to the console from inside the IBM CPD Cluster."
   ]
  },
  {
   "cell_type": "code",
   "execution_count": null,
   "metadata": {
    "id": "cc2c15cb-2deb-4d44-9be3-e69d982d76c6"
   },
   "outputs": [],
   "source": [
    "# Connect to the Db2 Data Management Console service\n",
    "\n",
    "Console  = 'https://cpd-cpd-cpd.cp4d-poc-estesexp-283594-73aebe06726e634c608c4167edcc2aeb-0000.tor01.containers.appdomain.cloud'\n",
    "user     = 'xxxx'\n",
    "password = 'xxxx'\n",
    "\n",
    "# Set up the required connection\n",
    "CPDAPI = Db2(Console)\n",
    "api = '/v1'\n",
    "CPDAPI.authenticate(api, user, password)\n",
    "database = Console"
   ]
  },
  {
   "cell_type": "markdown",
   "metadata": {
    "id": "75e5d4eb-aae5-43c7-af0a-83ec2c308a5d"
   },
   "source": [
    "## Utility Routines"
   ]
  },
  {
   "cell_type": "markdown",
   "metadata": {
    "id": "ae9e25ff-0644-453c-b4e6-f40421df9ed7"
   },
   "source": [
    "#### Run SQL through the SQL Editor Service\n",
    "You can also use the SQL Editor service to run your own SQL. Statements are submitted to the editor. Your code then needs to poll the editor service until the script is complete. Fortunately you can use the DB2 class included in this lab so that it becomes a very simple Python call. The **runScript** routine runs the SQL and the **displayResults** routine formats the returned JSON. "
   ]
  },
  {
   "cell_type": "code",
   "execution_count": null,
   "metadata": {
    "id": "692cba98-fb5d-48f1-92ce-41cee9b4e011"
   },
   "outputs": [],
   "source": [
    "CPDAPI.displayResults(CPDAPI.runScript('SELECT * FROM MSSQL.\"Service_Order\"; SELECT * FROM MSSQL.\"Shipment\"'))"
   ]
  },
  {
   "cell_type": "markdown",
   "metadata": {
    "id": "5bca416b-5d72-4f99-9ca4-cfecf08f4d44"
   },
   "source": [
    "### Virtualized Tables and Views\n",
    "The next two cells are useful to determine all the virtualized data availble to the admin user and the objects available by role."
   ]
  },
  {
   "cell_type": "code",
   "execution_count": null,
   "metadata": {
    "id": "5b340ce5-5f8f-4fb0-9022-6749b02addc0"
   },
   "outputs": [],
   "source": [
    "### Display All Virtualized Tables and Views\n",
    "display(CPDAPI.getVirtualizedTablesDF())\n",
    "display(CPDAPI.getVirtualizedViewsDF())"
   ]
  },
  {
   "cell_type": "code",
   "execution_count": null,
   "metadata": {
    "id": "e49a0ced3d5740c28d9aaba12cb2a089"
   },
   "outputs": [],
   "source": [
    "r = CPDAPI.getSchemas()\n",
    "if (CPDAPI.getStatusCode(r)==200):\n",
    "    json = CPDAPI.getJSON(r)\n",
    "    df = pd.DataFrame(json_normalize(json['resources']))\n",
    "    display(df[['definertype','name']])\n",
    "else:\n",
    "    print(CPDAPI.getStatusCode(r))"
   ]
  },
  {
   "cell_type": "markdown",
   "metadata": {
    "id": "2e646eb9-e28f-4faa-86c1-f5ecc2fc9901"
   },
   "source": [
    "### Cloud Pak for Data User Management\n",
    "The next two cells can be used to list existing CPD users and add a new user to the system."
   ]
  },
  {
   "cell_type": "code",
   "execution_count": null,
   "metadata": {
    "id": "b78f4d13-72ec-4e4d-829d-bc0e96b6fd3c"
   },
   "outputs": [],
   "source": [
    "# Get the list of CPD Users\n",
    "r = CPDAPI.getUsers()\n",
    "if (CPDAPI.getStatusCode(r)==200):\n",
    "    json = CPDAPI.getJSON(r)\n",
    "    df = pd.DataFrame(json_normalize(json))\n",
    "    print(', '.join(list(df)))\n",
    "    display(df[['uid','username','displayName']])\n",
    "else:\n",
    "    print(CPDAPI.getStatusCode(r))"
   ]
  },
  {
   "cell_type": "markdown",
   "metadata": {
    "id": "7ea4d8a8-caf0-4182-8060-48b9d8c55935"
   },
   "source": [
    "### Add Users to CPD and Data Virtualization\n",
    "Set the value **ids** to the number of users you want to create. "
   ]
  },
  {
   "cell_type": "code",
   "execution_count": null,
   "metadata": {
    "id": "38ce6586-fe42-4beb-b1ee-6a8b84020cb6"
   },
   "outputs": [],
   "source": [
    "# Add a Single user to CPD\n",
    "username = \"LABUSER\"\n",
    "displayName = \"LABUSER\"\n",
    "email = \"xxxx@ca.ibm.com\"\n",
    "user_roles = [\"Data Scientist\"]\n",
    "password = 'tsdvlab'\n",
    "r = CPDAPI.addUser(username, displayName, email, user_roles, password)\n",
    "if (CPDAPI.getStatusCode(r)==201):\n",
    "    print('User Added')\n",
    "else:\n",
    "    print(CPDAPI.getStatusCode(r))"
   ]
  },
  {
   "cell_type": "code",
   "execution_count": null,
   "metadata": {
    "id": "fbaa1849-f4fd-45ba-a9e0-789900e730c1"
   },
   "outputs": [],
   "source": [
    "# Add LABUSER to the DV Service\n",
    "\n",
    "userList = {'UserRoot':['LABUSER'],'Role':['User']}\n",
    "userListDF = pd.DataFrame(userList) \n",
    "\n",
    "df = CPDAPI.getUsersDF() # Get existing list of users to get the uid\n",
    "\n",
    "for row in range(0, len(userListDF)):\n",
    "    display_name = userListDF['UserRoot'].iloc[row]\n",
    "    role = userListDF['Role'].iloc[row]\n",
    "    print(display_name)\n",
    "\n",
    "    r = CPDAPI.addUserToDV(display_name, role, df)\n",
    "    if (CPDAPI.getStatusCode(r)==200):\n",
    "        print('User: '+display_name+' added to Data Virtualization Service')\n",
    "    else:\n",
    "        print(CPDAPI.getStatusCode(r))"
   ]
  },
  {
   "cell_type": "markdown",
   "metadata": {
    "id": "18e341c0-00b3-49a4-9342-051dc025e27d"
   },
   "source": [
    "### Grant Access to Data Engineers to Existing Views and Tables"
   ]
  },
  {
   "cell_type": "code",
   "execution_count": null,
   "metadata": {
    "id": "6af7c532-c393-40bc-9e6e-7c3bb31b54c3"
   },
   "outputs": [],
   "source": [
    "# Grant Access to Data Engineers to all the Views owned by the logged in user\n",
    "ViewsDF = CPDAPI.getVirtualizedViewsDF()\n",
    "# Remove some views from the list\n",
    "ViewsDF = ViewsDF[ViewsDF.viewschema != 'COGNOS']\n",
    "display(ViewsDF)"
   ]
  },
  {
   "cell_type": "code",
   "execution_count": null,
   "metadata": {
    "id": "014c4b84-b46b-4a79-953f-e118d89a0d81"
   },
   "outputs": [],
   "source": [
    "# Grant Access to Data Engineers to all the Views owned by the logged in user\n",
    "# Remove specific views\n",
    "ViewsDF = CPDAPI.getVirtualizedViewsDF()\n",
    "ViewsDF = ViewsDF[ViewsDF.viewschema != 'COGNOS']\n",
    "\n",
    "roleToGrant = 'DV_ENGINEER'\n",
    "for index, row in ViewsDF.iterrows():\n",
    "    name = row['viewname']\n",
    "    schema = row['viewschema']\n",
    "\n",
    "    r = CPDAPI.grantPrivledgeToRole(name, schema, roleToGrant)\n",
    "    if (CPDAPI.getStatusCode(r)==200):\n",
    "        print('Access granted')\n",
    "    else:\n",
    "        print(CPDAPI.getStatusCode(r))"
   ]
  },
  {
   "cell_type": "code",
   "execution_count": null,
   "metadata": {
    "id": "240e9fa8-bc63-478d-84bd-119c2672e4fa"
   },
   "outputs": [],
   "source": [
    "# Grant Access to Data Engineers to all the Virtualizated Tables owned by the logged in user\n",
    "TablesDF = CPDAPI.getVirtualizedTablesDF()\n",
    "# Remove two tables\n",
    "# TablesDF = TablesDF[TablesDF.table_name != 'STOCK_TRANSACTIONS_DV']\n",
    "\n",
    "roleToGrant = 'DV_ENGINEER'\n",
    "for index, row in TablesDF.iterrows():\n",
    "    name = row['table_name']\n",
    "    schema = row['table_schema']\n",
    "\n",
    "    r = CPDAPI.grantPrivledgeToRole(name, schema, roleToGrant)\n",
    "    if (CPDAPI.getStatusCode(r)==200):\n",
    "        print('Access granted')\n",
    "    else:\n",
    "        print(CPDAPI.getStatusCode(r))"
   ]
  },
  {
   "cell_type": "markdown",
   "metadata": {
    "id": "12cb4c75-0f63-419c-804a-ec70c5fb19f6"
   },
   "source": [
    "## Credits: IBM 2020, Peter Kohlmann [kohlmann@ca.ibm.com]"
   ]
  }
 ],
 "metadata": {
  "kernelspec": {
   "display_name": "Python 3.6",
   "language": "python",
   "name": "python3"
  },
  "language_info": {
   "codemirror_mode": {
    "name": "ipython",
    "version": 3
   },
   "file_extension": ".py",
   "mimetype": "text/x-python",
   "name": "python",
   "nbconvert_exporter": "python",
   "pygments_lexer": "ipython3",
   "version": "3.6.10"
  }
 },
 "nbformat": 4,
 "nbformat_minor": 2
}
