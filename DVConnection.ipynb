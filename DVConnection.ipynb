{
 "cells": [
  {
   "cell_type": "markdown",
   "metadata": {},
   "source": [
    "# DRAFT- IBM CPD DV Connection - DRAFT\n"
   ]
  },
  {
   "cell_type": "markdown",
   "metadata": {},
   "source": [
    "### Where to find this sample online\n",
    "You can find a copy of this notebook at https://github.com/Db2-DTE-POC/db2dmc."
   ]
  },
  {
   "cell_type": "markdown",
   "metadata": {},
   "source": [
    "### First we will import a few helper classes\n",
    "We need to pull in a few standard Python libraries so that we can work with REST, JSON and a library called Pandas. Pandas lets us work with DataFrames, which are a very powerful way to work with tabular data in Python. "
   ]
  },
  {
   "cell_type": "code",
   "execution_count": 1,
   "metadata": {},
   "outputs": [],
   "source": [
    "# Import the class libraries \n",
    "import requests\n",
    "import ssl\n",
    "import json\n",
    "from pprint import pprint\n",
    "from requests import Response\n",
    "import pandas as pd\n",
    "import time\n",
    "from requests.packages.urllib3.exceptions import InsecureRequestWarning\n",
    "requests.packages.urllib3.disable_warnings(InsecureRequestWarning)\n",
    "from IPython.display import IFrame\n",
    "from IPython.display import display, HTML\n",
    "from pandas.io.json import json_normalize\n",
    "%matplotlib inline\n",
    "import matplotlib\n",
    "import matplotlib.pyplot as plt"
   ]
  },
  {
   "cell_type": "markdown",
   "metadata": {},
   "source": [
    "### The Db2 Class\n",
    "Next we will create a Db2 helper class that will encapsulate the Rest API calls that we can use to directly access the Db2 Data Management Console service without having to use the user interface. \n",
    "\n",
    "To access the service we need to first authenticate with the service and create a reusable token that we can use for each call to the service. This ensures that we don't have to provide a userID and password each time we run a command. The token makes sure this is secure. \n",
    "\n",
    "Each request is constructed of several parts. First, the URL and the API identify how to connect to the service. Second the REST service request that identifies the request and the options. For example '/metrics/applications/connections/current/list'. And finally some complex requests also include a JSON payload. For example running SQL includes a JSON object that identifies the script, statement delimiters, the maximum number of rows in the results set as well as what do if a statement fails.\n",
    "\n",
    "The full set of APIs are documents as part of the Db2 Data Management Console user interface. In this hands on lab you can connect to that directly through this link: [Db2 Data Management Console RESTful APIs](http://localhost:11080/dbapi/api/index_enterprise.html). "
   ]
  },
  {
   "cell_type": "code",
   "execution_count": 2,
   "metadata": {},
   "outputs": [],
   "source": [
    "# Run the Db2 Class library\n",
    "# Used to construct and reuse an Autentication Key\n",
    "# Used to construct RESTAPI URLs and JSON payloads\n",
    "class Db2():\n",
    "    \n",
    "    def __init__(self, url, verify = False, proxies=None, ):\n",
    "        self.url = url\n",
    "        self.proxies = proxies\n",
    "        self.verify = verify\n",
    "\n",
    "    def authenticate(self, api, userid, password):\n",
    "        \n",
    "        credentials = {'username':userid, 'password':password}\n",
    "        r = requests.post(self.url+api+'/preauth/signin', verify=self.verify, json=credentials, proxies=self.proxies)\n",
    "        if (r.status_code == 200):\n",
    "            bearerToken = \"Bearer \" + r.cookies[\"ibm-private-cloud-session\"]\n",
    "            print(bearerToken)\n",
    "            self.headers = {'Content-Type':\"application/json\", 'Accept':\"application/json\", 'Authorization': bearerToken, 'Cache-Control': \"no-cache\"}\n",
    "        else:\n",
    "            print ('Unable to authenticate, no bearer token obtained')\n",
    "        \n",
    "    def printResponse(self, r, code):\n",
    "        if (r.status_code == code):\n",
    "            pprint(r.json())\n",
    "        else:\n",
    "            print (r.status_code)\n",
    "            print (r.content)\n",
    "    \n",
    "    def getRequest(self, api, json=None):\n",
    "        return requests.get(self.url+api, verify = self.verify, headers=self.headers, proxies = self.proxies, json=json)\n",
    "\n",
    "    def postRequest(self, api, json=None):\n",
    "        return requests.post(self.url+api, verify = self.verify, headers=self.headers, proxies = self.proxies, json=json) \n",
    "    \n",
    "    def deleteRequest(self, api, json=None):\n",
    "        return requests.delete(self.url+api, verify = self.verify, headers=self.headers, proxies = self.proxies, json=json) \n",
    "        \n",
    "    def getStatusCode(self, response):\n",
    "        return (response.status_code)\n",
    "\n",
    "    def getJSON(self, response):\n",
    "        return (response.json())\n",
    "    \n",
    "    def getDataSources(self):\n",
    "        return self.getRequest('/icp4data-databases/dv/icp4d-test/dvapiserver/v1/dv/datasource_nodes')\n",
    "    \n",
    "    def getSchemas(self):\n",
    "        return self.getRequest('/icp4data-databases/dv/icp4d-test/dbapi/v4/schemas')\n",
    "    \n",
    "    def runSQL(self, script, limit=10, separator=';', stopOnError=False):\n",
    "        sqlJob = {'commands': script, 'limit':limit, 'separator':separator, 'stop_on_error':str(stopOnError)}\n",
    "        return self.postRequest('/icp4data-databases/dv/icp4d-test/dbapi/v4/sql_jobs',sqlJob)\n",
    "        \n",
    "    def getSQLJobResult(self, jobid):\n",
    "        return self.getRequest('/icp4data-databases/dv/icp4d-test/dbapi/v4/sql_jobs/'+jobid)\n",
    "       \n",
    "    def getSearchViewList(self, searchtext, show_systems=\"false\"):\n",
    "        return self.getRequest('/icp4data-databases/dv/icp4d-test/dbapi/v4/admin/schemas/obj_type/view?search_name='+searchtext+'&show_systems='+str(show_systems)+'&rows_return=200');\n",
    "    \n",
    "    def getSearchTableList(self, searchtext):\n",
    "        return self.getRequest('/icp4data-databases/dv/icp4d-test/dbapi/v4/admin/schemas/obj_type/table?search_name='+searchtext+'&show_systems=true&rows_return=100');\n",
    "               \n",
    "    def postSearchObjects(self, obj_type, search_text, rows_return=100, show_systems='false', is_ascend='true'):     \n",
    "        json = {\"search_name\":search_text,\"rows_return\":rows_return,\"show_systems\":show_systems,\"obj_type\":obj_type,\"filters_match\":\"ALL\",\"filters\":[]}       \n",
    "        return self.postRequest('/icp4data-databases/dv/icp4d-test/dbapi/v4/admin/'+str(obj_type)+'s',json);\n",
    "            \n",
    "    def getTablesInSchema(self, schema):\n",
    "        return self.getRequest('/icp4data-databases/dv/icp4d-test/dbapi/v4/schemas/'+str(schema)+'/tables'); \n",
    "    \n",
    "    def getVirtualizedTables(self):\n",
    "        return self.getRequest('/icp4data-databases/dv/icp4d-test/dvapiserver/v1/dv/mydata/tables')\n",
    "\n",
    "    def getVirtualizedViews(self):\n",
    "        return self.getRequest('/icp4data-databases/dv/icp4d-test/dvapiserver/v1/dv/mydata/views')\n",
    "    \n",
    "    def grantPrivledgeToRole(self, objectName, objectSchema, roleToGrant):\n",
    "        json =   {\"objectName\":objectName,\"objectSchema\":objectSchema,\"roleToGrant\":roleToGrant}\n",
    "        return self.postRequest('/icp4data-databases/dv/icp4d-test/dvapiserver/v1/privileges/roles',json);\n",
    " \n",
    "    def getRole(self, role):\n",
    "        return self.getRequest('/icp4data-databases/dv/icp4d-test/dvapiserver/v1/privileges/objects/role/'+str(role));\n",
    "    \n",
    "    def foldData(self, sourceName, sourceTableDef, sources ):\n",
    "        json = {\"sourceName\":sourceName,\"sourceTableDef\":sourceTableDef,\"sources\":sources}\n",
    "        return self.postRequest('/icp4data-databases/dv/icp4d-test/dvapiserver/v1/dv/virtualize/tables', json);\n",
    "\n",
    "    def addUser(self, username, displayName, email, user_roles, password):\n",
    "        json = {\"username\":username,\"displayName\":displayName,\"email\":email,\"user_roles\":user_roles,\"password\":password}\n",
    "        return self.postRequest('/api/v1/usermgmt/v1/user', json);\n",
    "    \n",
    "    def dropUser(self, username):\n",
    "        return self.deleteRequest('/api/v1/usermgmt/v1/users/'+str(username));\n",
    "   \n",
    "    def getUsers(self):\n",
    "        return self.getRequest('/api/v1/usermgmt/v1/usermgmt/users');\n",
    "    \n",
    "    def getUsersDF(self):\n",
    "        r = self.getUsers()\n",
    "        if (databaseAPI.getStatusCode(r)==200):\n",
    "            json = databaseAPI.getJSON(r)\n",
    "            df = pd.DataFrame(json_normalize(json))\n",
    "            return df\n",
    "        else:\n",
    "            print(databaseAPI.getStatusCode(r));\n",
    "    \n",
    "    def addUserToDV(self, display_name, role, usersDF):\n",
    "        userrow = (usersDF.loc[usersDF['displayName'] == display_name])\n",
    "        uid = userrow['uid'].values[0]\n",
    "        username = userrow['username'].values[0]\n",
    "        \n",
    "        json = {\"users\":[{\"uid\":uid,\"username\":username,\"display_name\":display_name,\"role\":role}],\"serviceInstanceID\":\"1573915078292\"}\n",
    "        return self.postRequest('/zen-data/v2/serviceInstance/users', json);\n",
    "    \n",
    "    def dropUserFromDV(self, display_name, usersDF):\n",
    "        userrow = (usersDF.loc[usersDF['displayName'] == display_name])\n",
    "        uid = userrow['uid'].values[0]\n",
    "        \n",
    "        json = {\"users\":[uid],\"serviceInstanceID\":\"1573915078292\"}\n",
    "        return self.deleteRequest('/zen-data/v2/serviceInstance/users', json);\n",
    "    \n"
   ]
  },
  {
   "cell_type": "code",
   "execution_count": 3,
   "metadata": {},
   "outputs": [
    {
     "name": "stdout",
     "output_type": "stream",
     "text": [
      "runSQL routine defined\n"
     ]
    }
   ],
   "source": [
    "def runSQL(sqlText):\n",
    "\n",
    "    # Run the SQL Script and return the runID for later reference \n",
    "    runID = databaseAPI.getJSON(databaseAPI.runSQL(sqlText))['id'] \n",
    "\n",
    "    # See if there are any results yet for this job\n",
    "    json = databaseAPI.getJSON(databaseAPI.getSQLJobResult(runID))\n",
    "\n",
    "    # If the REST call returns an error return the json with the error to the calling routine\n",
    "    if 'errors' in json :\n",
    "        return json\n",
    "    # Append the results from each statement in the script to the overall combined JSON result set\n",
    "    fulljson = json\n",
    "\n",
    "    while json['results'] != [] or (json['status'] != \"completed\" and json['status'] != \"failed\") :\n",
    "        json = databaseAPI.getJSON(databaseAPI.getSQLJobResult(runID))\n",
    "\n",
    "        # Get the results from each statement as they return and append the results to the full JSON \n",
    "        for results in json['results'] :\n",
    "            fulljson['results'].append(results)\n",
    "        # Wait 250 ms for more results\n",
    "        time.sleep(0.25) \n",
    "    return fulljson\n",
    "\n",
    "print('runSQL routine defined')"
   ]
  },
  {
   "cell_type": "code",
   "execution_count": 4,
   "metadata": {},
   "outputs": [
    {
     "name": "stdout",
     "output_type": "stream",
     "text": [
      "displayResults routine defined\n"
     ]
    }
   ],
   "source": [
    "def displayResults(json):\n",
    "\n",
    "    for results in json['results']:\n",
    "        print('Statement: '+str(results['index'])+': '+results['command'])\n",
    "        print('Runtime ms: '+str(results['runtime_seconds']*1000))\n",
    "        if 'error' in results : \n",
    "            print(results['error'])\n",
    "        elif 'rows' in results :\n",
    "            df = pd.DataFrame(results['rows'],columns=results['columns'])\n",
    "            print(df)\n",
    "        else :\n",
    "            print('No errors. Row Affected: '+str(results['rows_affected']))\n",
    "        print()\n",
    "print('displayResults routine defined')"
   ]
  },
  {
   "cell_type": "markdown",
   "metadata": {},
   "source": [
    "## Establishing a Connection to the Console"
   ]
  },
  {
   "cell_type": "markdown",
   "metadata": {},
   "source": [
    "### Example Connections\n",
    "To connect to the Db2 Data Management Console service you need to provide the URL, the service name (v1) and profile the console user name and password. For this lab we are assuming that the following values are used for the connection:\n",
    "* Userid: admin\n",
    "* Password: password"
   ]
  },
  {
   "cell_type": "code",
   "execution_count": 5,
   "metadata": {},
   "outputs": [
    {
     "name": "stdout",
     "output_type": "stream",
     "text": [
      "Bearer eyJhbGciOiJSUzI1NiIsInR5cCI6IkpXVCJ9.eyJ1c2VybmFtZSI6ImFkbWluIiwic3ViIjoiYWRtaW4iLCJpc3MiOiJLTk9YU1NPIiwiYXVkIjoiRFNYIiwicm9sZSI6IkFkbWluIiwicGVybWlzc2lvbnMiOlsiYWRtaW5pc3RyYXRvciIsImNhbl9wcm92aXNpb24iLCJtYW5hZ2VfY2F0YWxvZyIsInZpcnR1YWxpemVfdHJhbnNmb3JtIiwibWFuYWdlX2luZm9ybWF0aW9uX2Fzc2V0cyIsIm1hbmFnZV9xdWFsaXR5IiwibWFuYWdlX2Rpc2NvdmVyeSIsIm1hbmFnZV9tZXRhZGF0YV9pbXBvcnQiLCJtYW5hZ2VfY2F0ZWdvcmllcyIsImF1dGhvcl9nb3Zlcm5hbmNlX2FydGlmYWN0cyIsIm1hbmFnZV9nb3Zlcm5hbmNlX3dvcmtmbG93Il0sInVpZCI6IjEwMDAzMzA5OTkiLCJhdXRoZW50aWNhdG9yIjoiZGVmYXVsdCIsImRpc3BsYXlfbmFtZSI6ImFkbWluIiwiaWF0IjoxNTg0NzA3NzgzLCJleHAiOjE1ODQ3NTA5ODN9.hPkKjA-Fc7iB9CZ92n76xzM7SJmu_oFChcrObWOJ8-TTLie8fHmxleKcRc8d1amCa63TLPB_xnyxnAPzXKg0csrbwSfUexAQ-kT0Up5CYA-C7VZhFh7tOcn3XSl79nW5E2M6onlB_sI7W49_SNtjYVweHnvXq-b0JtZupX-KsR7ZUh4a-Bv8ulDM0ncotCb9LqIGBm96xZ2ZD5zte060VKCpCysfSTU1fhNZbK8RNwejX1dRHt2DnDPQkEPaz14Gsk7Lt-LE2vFebdy8sDyI4_rSuw8k8h-tXgog-U1QJP5L3oXnmeK3MX7FzJOkbpG5Cth5ZKTQF2WvUOBqSPLAaw\n"
     ]
    }
   ],
   "source": [
    "# Connect to the Db2 Data Management Console service\n",
    "Console  = 'https://services-uscentral.skytap.com:9152'\n",
    "user     = 'admin'\n",
    "password = 'password'\n",
    "\n",
    "# Set up the required connection\n",
    "databaseAPI = Db2(Console)\n",
    "api = '/v1'\n",
    "databaseAPI.authenticate(api, user, password)\n",
    "database = Console"
   ]
  },
  {
   "cell_type": "code",
   "execution_count": 6,
   "metadata": {},
   "outputs": [
    {
     "name": "stdout",
     "output_type": "stream",
     "text": [
      "agent_class, dataSources, dscount, hostname, is_docker, node_description, node_name, os_user, port\n"
     ]
    },
    {
     "data": {
      "text/html": [
       "<div>\n",
       "<style scoped>\n",
       "    .dataframe tbody tr th:only-of-type {\n",
       "        vertical-align: middle;\n",
       "    }\n",
       "\n",
       "    .dataframe tbody tr th {\n",
       "        vertical-align: top;\n",
       "    }\n",
       "\n",
       "    .dataframe thead th {\n",
       "        text-align: right;\n",
       "    }\n",
       "</style>\n",
       "<table border=\"1\" class=\"dataframe\">\n",
       "  <thead>\n",
       "    <tr style=\"text-align: right;\">\n",
       "      <th></th>\n",
       "      <th>agent_class</th>\n",
       "      <th>dataSources</th>\n",
       "      <th>dscount</th>\n",
       "      <th>hostname</th>\n",
       "      <th>is_docker</th>\n",
       "      <th>node_description</th>\n",
       "      <th>node_name</th>\n",
       "      <th>os_user</th>\n",
       "      <th>port</th>\n",
       "    </tr>\n",
       "  </thead>\n",
       "  <tbody>\n",
       "    <tr>\n",
       "      <td>0</td>\n",
       "      <td>H</td>\n",
       "      <td>None</td>\n",
       "      <td>0</td>\n",
       "      <td>dv-0</td>\n",
       "      <td>N</td>\n",
       "      <td>Not specified</td>\n",
       "      <td>AdminNode</td>\n",
       "      <td>bigsql</td>\n",
       "      <td>6414</td>\n",
       "    </tr>\n",
       "    <tr>\n",
       "      <td>1</td>\n",
       "      <td>H</td>\n",
       "      <td>[{'cid': 'DVM10060', 'dbname': 'SQL92', 'srcho...</td>\n",
       "      <td>2</td>\n",
       "      <td>dv-0</td>\n",
       "      <td>Y</td>\n",
       "      <td>Not specified</td>\n",
       "      <td>qpendpoint_3:6417</td>\n",
       "      <td>bigsql</td>\n",
       "      <td>6417</td>\n",
       "    </tr>\n",
       "    <tr>\n",
       "      <td>2</td>\n",
       "      <td>H</td>\n",
       "      <td>[{'cid': 'INFOR10146', 'dbname': 'STOCKS', 'sr...</td>\n",
       "      <td>1</td>\n",
       "      <td>dv-0</td>\n",
       "      <td>Y</td>\n",
       "      <td>Not specified</td>\n",
       "      <td>qpendpoint_1:6415</td>\n",
       "      <td>bigsql</td>\n",
       "      <td>6415</td>\n",
       "    </tr>\n",
       "    <tr>\n",
       "      <td>3</td>\n",
       "      <td>H</td>\n",
       "      <td>[{'cid': 'DB210200', 'dbname': 'azdb', 'srchos...</td>\n",
       "      <td>2</td>\n",
       "      <td>dv-0</td>\n",
       "      <td>Y</td>\n",
       "      <td>Not specified</td>\n",
       "      <td>qpendpoint_2:6416</td>\n",
       "      <td>bigsql</td>\n",
       "      <td>6416</td>\n",
       "    </tr>\n",
       "    <tr>\n",
       "      <td>4</td>\n",
       "      <td>H</td>\n",
       "      <td>[{'cid': 'MONGO10213', 'dbname': 'mongo_onprem...</td>\n",
       "      <td>2</td>\n",
       "      <td>dv-0</td>\n",
       "      <td>Y</td>\n",
       "      <td>Not specified</td>\n",
       "      <td>qpendpoint_5:6419</td>\n",
       "      <td>bigsql</td>\n",
       "      <td>6419</td>\n",
       "    </tr>\n",
       "    <tr>\n",
       "      <td>5</td>\n",
       "      <td>H</td>\n",
       "      <td>[{'cid': 'DB210113', 'dbname': 'BLUDB', 'srcho...</td>\n",
       "      <td>1</td>\n",
       "      <td>dv-0</td>\n",
       "      <td>Y</td>\n",
       "      <td>Not specified</td>\n",
       "      <td>qpendpoint_4:6418</td>\n",
       "      <td>bigsql</td>\n",
       "      <td>6418</td>\n",
       "    </tr>\n",
       "  </tbody>\n",
       "</table>\n",
       "</div>"
      ],
      "text/plain": [
       "  agent_class                                        dataSources dscount  \\\n",
       "0           H                                               None       0   \n",
       "1           H  [{'cid': 'DVM10060', 'dbname': 'SQL92', 'srcho...       2   \n",
       "2           H  [{'cid': 'INFOR10146', 'dbname': 'STOCKS', 'sr...       1   \n",
       "3           H  [{'cid': 'DB210200', 'dbname': 'azdb', 'srchos...       2   \n",
       "4           H  [{'cid': 'MONGO10213', 'dbname': 'mongo_onprem...       2   \n",
       "5           H  [{'cid': 'DB210113', 'dbname': 'BLUDB', 'srcho...       1   \n",
       "\n",
       "  hostname is_docker node_description          node_name os_user  port  \n",
       "0     dv-0         N    Not specified          AdminNode  bigsql  6414  \n",
       "1     dv-0         Y    Not specified  qpendpoint_3:6417  bigsql  6417  \n",
       "2     dv-0         Y    Not specified  qpendpoint_1:6415  bigsql  6415  \n",
       "3     dv-0         Y    Not specified  qpendpoint_2:6416  bigsql  6416  \n",
       "4     dv-0         Y    Not specified  qpendpoint_5:6419  bigsql  6419  \n",
       "5     dv-0         Y    Not specified  qpendpoint_4:6418  bigsql  6418  "
      ]
     },
     "metadata": {},
     "output_type": "display_data"
    }
   ],
   "source": [
    "r = databaseAPI.getDataSources()\n",
    "if (databaseAPI.getStatusCode(r)==200):\n",
    "    json = databaseAPI.getJSON(r)\n",
    "    df = pd.DataFrame(json_normalize(json))\n",
    "    print(', '.join(list(df)))\n",
    "    display(df)\n",
    "else:\n",
    "    print(databaseAPI.getStatusCode(r))  "
   ]
  },
  {
   "cell_type": "code",
   "execution_count": null,
   "metadata": {},
   "outputs": [],
   "source": [
    "roles = ['DV_ENGINEER','DV_STEWARD','DV_USER']\n",
    "for role in roles:\n",
    "    r = databaseAPI.getRole(role)\n",
    "    if (databaseAPI.getStatusCode(r)==200):\n",
    "        json = databaseAPI.getJSON(r)\n",
    "        df = pd.DataFrame(json_normalize(json['objects']))\n",
    "        print(', '.join(list(df)))\n",
    "        display(df)\n",
    "    else:\n",
    "        print(databaseAPI.getStatusCode(r))  "
   ]
  },
  {
   "cell_type": "code",
   "execution_count": null,
   "metadata": {},
   "outputs": [],
   "source": [
    "r = databaseAPI.getUsers()\n",
    "if (databaseAPI.getStatusCode(r)==200):\n",
    "    json = databaseAPI.getJSON(r)\n",
    "    df = pd.DataFrame(json_normalize(json))\n",
    "    print(', '.join(list(df)))\n",
    "    display(df[['uid','username','displayName']])\n",
    "else:\n",
    "    print(databaseAPI.getStatusCode(r))"
   ]
  },
  {
   "cell_type": "code",
   "execution_count": 11,
   "metadata": {},
   "outputs": [
    {
     "name": "stdout",
     "output_type": "stream",
     "text": [
      "User: LABUSER0 added to Data Virtualization Service\n",
      "User: LABDATAENGINEER0 added to Data Virtualization Service\n",
      "User: LABUSER1 added to Data Virtualization Service\n",
      "User: LABDATAENGINEER1 added to Data Virtualization Service\n"
     ]
    }
   ],
   "source": [
    "# Add x Users and Engineers to the DV Service\n",
    "ids = 10\n",
    "userList = {'UserRoot':['LABUSER','LABDATAENGINEER'],'Role':['User','Engineer']}\n",
    "userListDF = pd.DataFrame(userList) \n",
    "\n",
    "df = databaseAPI.getUsersDF() # Get existing list of users to get the uid\n",
    "\n",
    "for x in range(0, ids):\n",
    "    for row in range(0, len(userListDF)):\n",
    "        display_name = userListDF['UserRoot'].iloc[row]+str(x)\n",
    "        role = userListDF['Role'].iloc[row]\n",
    "        \n",
    "        r = databaseAPI.addUserToDV(display_name, role, df)\n",
    "        if (databaseAPI.getStatusCode(r)==200):\n",
    "            print('User: '+display_name+' added to Data Virtualization Service')\n",
    "        else:\n",
    "            print(databaseAPI.getStatusCode(r))"
   ]
  },
  {
   "cell_type": "code",
   "execution_count": 11,
   "metadata": {},
   "outputs": [
    {
     "name": "stdout",
     "output_type": "stream",
     "text": [
      "User: LABUSER0 added to Data Virtualization Service\n",
      "User: LABDATAENGINEER0 added to Data Virtualization Service\n",
      "User: LABUSER1 added to Data Virtualization Service\n",
      "User: LABDATAENGINEER1 added to Data Virtualization Service\n"
     ]
    }
   ],
   "source": [
    "# Add x Users and Engineers to the DV Service\n",
    "ids = 10\n",
    "userList = {'UserRoot':['LABUSER','LABDATAENGINEER'],'Role':['User','Engineer']}\n",
    "userListDF = pd.DataFrame(userList) \n",
    "\n",
    "df = databaseAPI.getUsersDF() # Get existing list of users to get the uid\n",
    "\n",
    "for x in range(0, ids):\n",
    "    for row in range(0, len(userListDF)):\n",
    "        display_name = userListDF['UserRoot'].iloc[row]+str(x)\n",
    "        role = userListDF['Role'].iloc[row]\n",
    "        \n",
    "        r = databaseAPI.addUserToDV(display_name, role, df)\n",
    "        if (databaseAPI.getStatusCode(r)==200):\n",
    "            print('User: '+display_name+' added to Data Virtualization Service')\n",
    "        else:\n",
    "            print(databaseAPI.getStatusCode(r))"
   ]
  },
  {
   "cell_type": "code",
   "execution_count": 10,
   "metadata": {},
   "outputs": [
    {
     "name": "stdout",
     "output_type": "stream",
     "text": [
      "User: LABDATAENGINEER2 removed from Data Virtualization Service\n"
     ]
    }
   ],
   "source": [
    "display_name = 'LABDATAENGINEER2'\n",
    "df = databaseAPI.getUsersDF()\n",
    "\n",
    "r = databaseAPI.dropUserFromDV(display_name, df)\n",
    "if (databaseAPI.getStatusCode(r)==200):\n",
    "    print('User: '+display_name+' removed from Data Virtualization Service')\n",
    "else:\n",
    "    print(databaseAPI.getStatusCode(r))"
   ]
  },
  {
   "cell_type": "code",
   "execution_count": null,
   "metadata": {},
   "outputs": [],
   "source": [
    "r = databaseAPI.getVirtualizedTables()\n",
    "if (databaseAPI.getStatusCode(r)==200):\n",
    "    json = databaseAPI.getJSON(r)\n",
    "    df = pd.DataFrame(json_normalize(json['tables']))\n",
    "    print(', '.join(list(df)))\n",
    "    display(df)\n",
    "else:\n",
    "    print(databaseAPI.getStatusCode(r))"
   ]
  },
  {
   "cell_type": "code",
   "execution_count": null,
   "metadata": {},
   "outputs": [],
   "source": [
    "objectName = 'VOLUME'\n",
    "objectSchema = 'TRADING'\n",
    "roleToGrant = 'DV_ENGINEER'\n",
    "# roleToGrant = 'DV_STEWARD'\n",
    "# roleToGrant = 'DV_WORKER'\n",
    "r = databaseAPI.grantPrivledgeToRole(objectName, objectSchema, roleToGrant)\n",
    "if (databaseAPI.getStatusCode(r)==200):\n",
    "    print('Access granted')\n",
    "else:\n",
    "    print(databaseAPI.getStatusCode(r))"
   ]
  },
  {
   "cell_type": "code",
   "execution_count": null,
   "metadata": {},
   "outputs": [],
   "source": [
    "# Add User to CPD\n",
    "username = \"LABUSER1\"\n",
    "displayName = \"LABUSER1\"\n",
    "email = \"kohlmann@ca.ibm.com\"\n",
    "user_roles = [\"Data Scientist\"]\n",
    "password = 'password'\n",
    "r = databaseAPI.addUser(username, displayName, email, user_roles, password)\n",
    "if (databaseAPI.getStatusCode(r)==201):\n",
    "    print('User Added')\n",
    "else:\n",
    "    print(databaseAPI.getStatusCode(r))"
   ]
  },
  {
   "cell_type": "code",
   "execution_count": null,
   "metadata": {},
   "outputs": [],
   "source": [
    "# Add x Data Scientists, LABUSERS\n",
    "\n",
    "ids = 10\n",
    "userList = {'UserRoot':['LABUSER','LABDATAENGINEER'],'Role':[['Data Scientist','Developer'],['Data Engineer']]}\n",
    "userListDF = pd.DataFrame(userList) \n",
    "email = 'kohlmann@ca.ibm.com'\n",
    "password = 'password'\n",
    "\n",
    "for x in range(0, ids):\n",
    "    for row in range(0, len(userListDF)):\n",
    "        username = userListDF['UserRoot'].iloc[row]+str(x)\n",
    "        user_role = userListDF['Role'].iloc[row]\n",
    "        displayName = username\n",
    "        r = databaseAPI.addUser(username, displayName, email, user_role, password)\n",
    "        if (databaseAPI.getStatusCode(r)==201):\n",
    "            print('User: '+username+' Added as a '+str(user_role))\n",
    "        else:\n",
    "            print(databaseAPI.getStatusCode(r))"
   ]
  },
  {
   "cell_type": "code",
   "execution_count": null,
   "metadata": {},
   "outputs": [],
   "source": [
    "# Drop 10 LAB USERS to CPD\n",
    "usernames = [\"LABUSER1\",\"LABUSER2\",\"LABUSER3\",\"LABUSER4\",\"LABUSER5\",\"LABUSER6\",\"LABUSER7\",\"LABUSER8\",\"LABUSER9\",\"LABUSER10\"]\n",
    "for username in usernames:\n",
    "    r = databaseAPI.dropUser(username)\n",
    "    if (databaseAPI.getStatusCode(r)==200):\n",
    "        print('User: '+username+' Dropped')\n",
    "    else:\n",
    "        print(databaseAPI.getStatusCode(r))"
   ]
  },
  {
   "cell_type": "code",
   "execution_count": null,
   "metadata": {},
   "outputs": [],
   "source": [
    "sourceName = \"STOCK_TRANSACTIONS\"\n",
    "sources = [\"DB210113:AWS\",\"DB210113:DVDEMO\"]\n",
    "sourceTableDef[{\"columnName\":\"QUANTITY\",\"columnType\":\"INTEGER\"},{\"columnName\":\"CUSTID\",\"columnType\":\"INTEGER\"},{\"columnName\":\"TX_NO\",\"columnType\":\"INTEGER\"},{\"columnName\":\"SYMBOL\",\"columnType\":\"VARCHAR(255)\"},{\"columnName\":\"_ID\",\"columnType\":\"VARCHAR(24)\"},{\"columnName\":\"TX_DATE\",\"columnType\":\"DATE\"},{\"columnName\":\"PRICE\",\"columnType\":\"DECIMAL(12,2)\"}],\"virtualSchema\":\"FOLDING\",\"virtualName\":\"STOCK_TRANSACTIONS_TEST\",\"virtualTableDef\":[{\"columnName\":\"QUANTITY\",\"columnType\":\"INTEGER\"},{\"columnName\":\"CUSTID\",\"columnType\":\"INTEGER\"},{\"columnName\":\"TX_NO\",\"columnType\":\"INTEGER\"},{\"columnName\":\"SYMBOL\",\"columnType\":\"VARCHAR(255)\"},{\"columnName\":\"_ID\",\"columnType\":\"VARCHAR(24)\"},{\"columnName\":\"TX_DATE\",\"columnType\":\"DATE\"},{\"columnName\":\"PRICE\",\"columnType\":\"DECIMAL(12,2)\"}]\n",
    "\n",
    "# r = databaseAPI.foldData(sourceName, sourceTableDef, sources)\n",
    "if (databaseAPI.getStatusCode(r)==200):\n",
    "    print('Access granted')\n",
    "else:\n",
    "    print(databaseAPI.getStatusCode(r))"
   ]
  },
  {
   "cell_type": "code",
   "execution_count": null,
   "metadata": {},
   "outputs": [],
   "source": [
    "r = databaseAPI.getVirtualizedViews()\n",
    "if (databaseAPI.getStatusCode(r)==200):\n",
    "    json = databaseAPI.getJSON(r)\n",
    "    df = pd.DataFrame(json_normalize(json['views']))\n",
    "    print(', '.join(list(df)))\n",
    "    display(df)\n",
    "else:\n",
    "    print(databaseAPI.getStatusCode(r))"
   ]
  },
  {
   "cell_type": "code",
   "execution_count": null,
   "metadata": {},
   "outputs": [],
   "source": [
    "sqlText = \\\n",
    "'''\n",
    "WITH MAX_VOLUME(AMOUNT) AS (\n",
    "  SELECT MAX(VOLUME) FROM FOLDING.STOCK_HISTORY\n",
    "    WHERE SYMBOL = 'DJIA'\n",
    "),\n",
    "HIGHDATE(TX_DATE) AS (\n",
    "  SELECT TX_DATE FROM FOLDING.STOCK_HISTORY, MAX_VOLUME M\n",
    "    WHERE SYMBOL = 'DJIA' AND VOLUME = M.AMOUNT\n",
    "),\n",
    "CUSTOMERS_IN_OHIO(CUSTID) AS (\n",
    "  SELECT C.CUSTID FROM DVDEMO.CUSTOMERS C \n",
    "    WHERE C.STATE = 'OH'\n",
    "),\n",
    "TOTAL_BUY(CUSTID,TOTAL) AS (\n",
    "  SELECT C.CUSTID, SUM(SH.QUANTITY * SH.PRICE) \n",
    "    FROM CUSTOMERS_IN_OHIO C, FOLDING.STOCK_TRANSACTIONS SH, HIGHDATE HD\n",
    "  WHERE SH.CUSTID = C.CUSTID AND\n",
    "        SH.TX_DATE = HD.TX_DATE AND \n",
    "        QUANTITY > 0 \n",
    "  GROUP BY C.CUSTID\n",
    ")\n",
    "SELECT C.LASTNAME, T.TOTAL \n",
    "  FROM DVDEMO.CUSTOMERS C, TOTAL_BUY T\n",
    "WHERE C.CUSTID = T.CUSTID\n",
    "  ORDER BY TOTAL DESC\n",
    "FETCH FIRST 5 ROWS ONLY;\n",
    "'''\n",
    "\n",
    "displayResults(runSQL(sqlText))"
   ]
  },
  {
   "cell_type": "code",
   "execution_count": null,
   "metadata": {},
   "outputs": [],
   "source": [
    "repeat = 1\n",
    "sqlText = 'SELECT * FROM TRADING.OHIO'\n",
    "\n",
    "for x in range(0, repeat):\n",
    "    print('Repetition number: '+str(x))\n",
    "    runSQL(sqlText)\n",
    "print('done')"
   ]
  },
  {
   "cell_type": "markdown",
   "metadata": {},
   "source": [
    "## Object Exploration"
   ]
  },
  {
   "cell_type": "markdown",
   "metadata": {},
   "source": [
    "### List the Available Schemas in the Database"
   ]
  },
  {
   "cell_type": "markdown",
   "metadata": {},
   "source": [
    "You can get the list of schemas through a REST service call. In this example the service call text was defined in the Db2 class at the start of the notebook. By default it includes both user and catalog schemas. \n",
    "\n",
    "If the call is successful it will return a 200 status code. The API call returns a JSON structure that we turn into a DataFrame using the normalize function. You can then list the columns of data available in the Data Frame and display the first 10 rows in the data frame. \n",
    "\n",
    "Many of the examples below list the columns available in the dataframe to make it easier for you to adapt the examples to your own needs. "
   ]
  },
  {
   "cell_type": "code",
   "execution_count": null,
   "metadata": {},
   "outputs": [],
   "source": [
    "r = databaseAPI.getSchemas()\n",
    "if (databaseAPI.getStatusCode(r)==200):\n",
    "    json = databaseAPI.getJSON(r)\n",
    "    df = pd.DataFrame(json_normalize(json['resources']))\n",
    "    print(', '.join(list(df)))\n",
    "    display(df[['name']].head(10))\n",
    "else:\n",
    "    print(databaseAPI.getStatusCode(r))   "
   ]
  },
  {
   "cell_type": "code",
   "execution_count": null,
   "metadata": {},
   "outputs": [],
   "source": [
    "# Search for tables across all schemas that match simple search critera \n",
    "# Display the first 100\n",
    "# Switch between searching tables or views\n",
    "object = 'view'\n",
    "# object = 'table'\n",
    "r = databaseAPI.postSearchObjects(object,\"TRADING\",10,'false','false')\n",
    "if (databaseAPI.getStatusCode(r)==200):\n",
    "    json = databaseAPI.getJSON(r)\n",
    "    df = pd.DataFrame(json_normalize(json))\n",
    "    print('Columns:')\n",
    "    print(', '.join(list(df)))\n",
    "    display(df[[object+'_name']].head(100))\n",
    "else:\n",
    "    print(\"RC: \"+str(databaseAPI.getStatusCode(r)))"
   ]
  },
  {
   "cell_type": "code",
   "execution_count": null,
   "metadata": {},
   "outputs": [],
   "source": [
    "sqlText = \\\n",
    "'''\n",
    "SELECT * FROM TRADING.TOPFIVE;\n",
    "'''\n",
    "\n",
    "displayResults(runSQL(sqlText))"
   ]
  },
  {
   "cell_type": "markdown",
   "metadata": {},
   "source": [
    "### Next Steps\n",
    "Try the [Analysing SQL Workloads](http://localhost:8888/notebooks/Db2_Data_Management_Console_SQL.ipynb). It contains extensive examples on how to run workloads that contain multiple SQL Statements across multiple databases and then measure their performance. \n",
    "\n",
    "Also try building some of your own reports based on the examples in this hands on lab. There are additional functions included in the Db2 class that we haven't explored yet in this lab. You can also include the Db2 class into your own notebook by including the [dmc_setup notebook](http://localhost:8888/notebooks/dmc_setup.ipynb)"
   ]
  },
  {
   "cell_type": "markdown",
   "metadata": {},
   "source": [
    "#### Credits: IBM 2019, Peter Kohlmann [kohlmann@ca.ibm.com]"
   ]
  }
 ],
 "metadata": {
  "kernelspec": {
   "display_name": "Python 3",
   "language": "python",
   "name": "python3"
  },
  "language_info": {
   "codemirror_mode": {
    "name": "ipython",
    "version": 3
   },
   "file_extension": ".py",
   "mimetype": "text/x-python",
   "name": "python",
   "nbconvert_exporter": "python",
   "pygments_lexer": "ipython3",
   "version": "3.7.4"
  }
 },
 "nbformat": 4,
 "nbformat_minor": 2
}
