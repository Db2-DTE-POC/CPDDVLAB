{
 "cells": [
  {
   "cell_type": "markdown",
   "metadata": {},
   "source": [
    "# IBM Cloud Pak for Data Data Virtualization Lab Setup"
   ]
  },
  {
   "cell_type": "markdown",
   "metadata": {},
   "source": [
    "### Where to find this notebook online\n",
    "You can find a copy of this notebook at https://github.com/Db2-DTE-POC/CPDDVLAB."
   ]
  },
  {
   "cell_type": "markdown",
   "metadata": {},
   "source": [
    "### What is notebook does\n",
    "This notebook is a operational guide to prepare for a digital bootcamp or hands on lab for a team of people. It uses an existing IBM Cloud Pak for Data Cluster that has Data Connections as we as virtual tables and views created for the admin user. \n",
    "\n",
    "All the code in this notebook runs using the main **admin** userid.\n",
    "\n",
    "The notebook includes instructions on how to complete some steps directly in the IBM Cloud Pak for Data console. It also includes Python code that creates users, manages privledges, and tests that all the required tables and views work.\n",
    "\n",
    "The notebooks includes three sections:\n",
    "1. Utility python routines that can be used to check the status of the system\n",
    "2. Setup of the main project, creation of users, granting privledges, and testing tables and views\n",
    "3. Teardown, including deleting any user created objects, revoking privledges, deleting users and the main project"
   ]
  },
  {
   "cell_type": "markdown",
   "metadata": {},
   "source": [
    "#### RESTful Services\n",
    "IBM Cloud Pak for Data is built on a set of microservices that communicate with each other and the Console user interface using RESTful APIs. You can use these services to automate anything you can do throught the user interface.\n",
    "\n",
    "This Jupyter Notebook contains examples of how to use the Open APIs to retrieve information from the virtualization service, how to run SQL statements directly against the service through REST and how to provide authoritization to objects. This provides a way write your own script to automate the setup and configuration of the virtualization service.\n",
    "\n",
    "The next part of the lab relies on a set of base classes to help you interact with the RESTful Services API for IBM Cloud Pak for Data Virtualization. You can access this library on GITHUB. The commands below download the library and run them as part of this notebook.\n",
    "<pre>\n",
    "&#37;run CPDDVRestClass.ipynb\n",
    "</pre>\n",
    "The cell below loads the RESTful Service Classes and methods directly from GITHUB. Note that it will take a few seconds for the extension to load, so you should generally wait until the \"Db2 Extensions Loaded\" message is displayed in your notebook. \n",
    "1. Click the cell below\n",
    "2. Click **Run**"
   ]
  },
  {
   "cell_type": "code",
   "execution_count": null,
   "metadata": {},
   "outputs": [],
   "source": [
    "!wget -O CPDDVRestClass.ipynb https://raw.githubusercontent.com/Db2-DTE-POC/CPDDVLAB/master/CPDDVRestClass.ipynb\n",
    "%run CPDDVRestClass.ipynb"
   ]
  },
  {
   "cell_type": "markdown",
   "metadata": {},
   "source": [
    "## Establishing a Connection to the Console"
   ]
  },
  {
   "cell_type": "markdown",
   "metadata": {},
   "source": [
    "### Connections\n",
    "To connect to the Data Virtualization service you need to provide the URL, the service name (v1) and profile the console user name and password. The next cell connects to the console from inside the IBM CPD Cluster."
   ]
  },
  {
   "cell_type": "code",
   "execution_count": null,
   "metadata": {},
   "outputs": [],
   "source": [
    "# Connect to the Db2 Data Management Console service\n",
    "\n",
    "# From Outside the Cluster\n",
    "Console  = 'https://services-uscentral.skytap.com:9152'\n",
    "# From Inside the Cluster\n",
    "# Console  = 'https://openshift-skytap-nfs-lb.ibm.com'\n",
    "user     = 'admin'\n",
    "password = 'xxxx'\n",
    "\n",
    "# Set up the required connection\n",
    "CPDAPI = Db2(Console)\n",
    "api = '/v1'\n",
    "CPDAPI.authenticate(api, user, password)\n",
    "database = Console"
   ]
  },
  {
   "cell_type": "markdown",
   "metadata": {},
   "source": [
    "## Utility Routines"
   ]
  },
  {
   "cell_type": "markdown",
   "metadata": {},
   "source": [
    "### Data Sources\n",
    "The next cell calls a restful service that displays all the currently configured data connections for data virtualization.\n",
    "\n",
    "The following Python function (getDataSources) runs SQL against the **QPLEXSYS.LISTRDB** catalog table and combines it with a stored procedure call **QPLEXSYS.LISTRDBCDETAILS()** to add the **AVAILABLE** column to the results. The IBM Cloud Pak for Data Virtualization Service checks each data sources every 5 to 10 seconds to ensure that it is still up and available. In the table (DataFrame) in the next cell a **1** in the **AVAILABLE** column indicates that the data source is responding. A **0** indicdates that it is not longer responding. "
   ]
  },
  {
   "cell_type": "code",
   "execution_count": null,
   "metadata": {},
   "outputs": [],
   "source": [
    "# Display the Available Data Sources already configured\n",
    "dataSources = CPDAPI.getDataSources()\n",
    "display(dataSources)"
   ]
  },
  {
   "cell_type": "markdown",
   "metadata": {},
   "source": [
    "#### Run SQL through the SQL Editor Service\n",
    "You can also use the SQL Editor service to run your own SQL. Statements are submitted to the editor. Your code then needs to poll the editor service until the script is complete. Fortunately you can use the DB2 class included in this lab so that it becomes a very simple Python call. The **runScript** routine runs the SQL and the **displayResults** routine formats the returned JSON. "
   ]
  },
  {
   "cell_type": "code",
   "execution_count": null,
   "metadata": {},
   "outputs": [],
   "source": [
    "CPDAPI.displayResults(CPDAPI.runScript('SELECT * FROM TRADING.MOVING_AVERAGE'))"
   ]
  },
  {
   "cell_type": "markdown",
   "metadata": {},
   "source": [
    "### Virtualized Tables and Views\n",
    "The next two cells are useful to determine all the virtualized data availble to the admin user and the objects available by role."
   ]
  },
  {
   "cell_type": "code",
   "execution_count": null,
   "metadata": {},
   "outputs": [],
   "source": [
    "# Display the Virtualized Assets Avalable to Engineers and Users\n",
    "roles = ['DV_ENGINEER','DV_USER']\n",
    "for role in roles:\n",
    "    r = CPDAPI.getRole(role)\n",
    "    if (CPDAPI.getStatusCode(r)==200):\n",
    "        json = CPDAPI.getJSON(r)\n",
    "        df = pd.DataFrame(json_normalize(json['objects']))\n",
    "        print(', '.join(list(df)))\n",
    "        display(df)\n",
    "    else:\n",
    "        print(CPDAPI.getStatusCode(r))  "
   ]
  },
  {
   "cell_type": "code",
   "execution_count": null,
   "metadata": {},
   "outputs": [],
   "source": [
    "### Display All Virtualized Tables and Views\n",
    "display(CPDAPI.getVirtualizedTablesDF())\n",
    "display(CPDAPI.getVirtualizedViewsDF())"
   ]
  },
  {
   "cell_type": "markdown",
   "metadata": {},
   "source": [
    "### Cloud Pak for Data User Management\n",
    "The next two cells can be used to list existing CPD users and add a new user to the system."
   ]
  },
  {
   "cell_type": "code",
   "execution_count": null,
   "metadata": {},
   "outputs": [],
   "source": [
    "# Get the list of CPD Users\n",
    "r = CPDAPI.getUsers()\n",
    "if (CPDAPI.getStatusCode(r)==200):\n",
    "    json = CPDAPI.getJSON(r)\n",
    "    df = pd.DataFrame(json_normalize(json))\n",
    "    print(', '.join(list(df)))\n",
    "    display(df[['uid','username','displayName']])\n",
    "else:\n",
    "    print(CPDAPI.getStatusCode(r))"
   ]
  },
  {
   "cell_type": "code",
   "execution_count": null,
   "metadata": {},
   "outputs": [],
   "source": [
    "# Add a Single user to CPD\n",
    "username = \"LABUSER1\"\n",
    "displayName = \"LABUSER1\"\n",
    "email = \"kohlmann@ca.ibm.com\"\n",
    "user_roles = [\"Data Scientist\"]\n",
    "password = 'password'\n",
    "r = CPDAPI.addUser(username, displayName, email, user_roles, password)\n",
    "if (CPDAPI.getStatusCode(r)==201):\n",
    "    print('User Added')\n",
    "else:\n",
    "    print(CPDAPI.getStatusCode(r))"
   ]
  },
  {
   "cell_type": "markdown",
   "metadata": {},
   "source": [
    "## Lab Setup"
   ]
  },
  {
   "cell_type": "markdown",
   "metadata": {},
   "source": [
    "### Creating the Data Virtualization Project\n",
    "The first step in setting up the lab is to create a project that all the lab users can share. You will then add a single hands on lab notebook to the project and finally make a copy for each participant."
   ]
  },
  {
   "cell_type": "markdown",
   "metadata": {},
   "source": [
    "###  Create the Data Virtualization Project\n",
    "1. Right-click the following link and select **open link in new window** to open the IBM Cloud Pak for Data Console: https://services-uscentral.skytap.com:9152/\n",
    "2. Organize your screen so that you can see both this notebook as well as the IBM Cloud Pak for Data Console at the same time. This will make it much easier for you to complete the lab without switch back and forth between screens.\n",
    "3. Sign in using the **admin** userid and password\n",
    "4. Click the three bar main navigation menu\n",
    "\n",
    "    <img src=\"https://raw.githubusercontent.com/Db2-DTE-POC/CPDDVLAB/master/media/2.42.03 Three Bar.png\">\n",
    "    \n",
    "5. Select **Projects**    \n",
    "    \n",
    "    <img src=\"https://raw.githubusercontent.com/Db2-DTE-POC/CPDDVLAB/master/media/11.17.07 Projects.png\">\n",
    "6. Select **+ New project**\n",
    "7. Select **Analytics project**\n",
    "8. Click **OK**\n",
    "9. Click **Create an empty project** (you may have to click twice)\n",
    "10. Enter **Data Virtualization Hands on Lab** as the Project name\n",
    "11. Click **Create**\n",
    "\n",
    " \n",
    "###  Add the template notebook to the Project \n",
    " \n",
    "1. From the Projects list, click **Data Virtualization Hands on Lab**\n",
    "\n",
    "3. From the My Projects screen click **Add to project** at the top right of the screen\n",
    "\n",
    "    <img src=\"https://raw.githubusercontent.com/Db2-DTE-POC/CPDDVLAB/master/media/11.17.48 Add to project.png\">\n",
    "    \n",
    "4. Click **Notebook**\n",
    "\n",
    "    <img src=\"https://raw.githubusercontent.com/Db2-DTE-POC/CPDDVLAB/master/media/11.17.59 Notebook.png\">\n",
    "\n",
    "5. Click **From URL**\n",
    "6. Enter **DV Lab** in the Notebook **Name** field\n",
    "7. Copy and paste the following link into the **Notebook URL** field:\n",
    "    https://github.com/Db2-DTE-POC/CPDDVLAB/blob/master/CPD-DV%20Hands%20on%20Lab%20Preloaded.ipynb\n",
    "8. Add an optional description\n",
    "\n",
    "    <img src=\"https://raw.githubusercontent.com/Db2-DTE-POC/CPDDVLAB/master/media/11.25.23 New notebook.png\">\n",
    "\n",
    "9. Click **Create Notebook**\n",
    "\n",
    "### Duplicate the template notebook\n",
    "1. Click **Data Virtualization Hands on Lab** to navigate back to the list of assets\n",
    "2. Scroll down until you see the new notebook **DB Lab** listed\n",
    "3. Click the **elipsis icon** at the far right of the DV Lab\n",
    "4. Click **duplicate**\n",
    "5. **Repeat steps 3 and 4** nine more times. **Make sure to always select the original template notebook**"
   ]
  },
  {
   "cell_type": "markdown",
   "metadata": {},
   "source": [
    "### Add Users to CPD and Data Virtualization\n",
    "Set the value **ids** to the number of users you want to create for the lab. "
   ]
  },
  {
   "cell_type": "code",
   "execution_count": null,
   "metadata": {},
   "outputs": [],
   "source": [
    "ids = 10"
   ]
  },
  {
   "cell_type": "code",
   "execution_count": null,
   "metadata": {},
   "outputs": [],
   "source": [
    "# Add x Data Scientists, LABUSERS to CPD\n",
    "\n",
    "userList = {'UserRoot':['LABUSER','LABDATAENGINEER'],'Role':[['Data Scientist','Developer'],['Data Engineer']]}\n",
    "userListDF = pd.DataFrame(userList) \n",
    "email = 'kohlmann@ca.ibm.com'\n",
    "password = 'xxxx'\n",
    "\n",
    "for x in range(0, ids):\n",
    "    for row in range(0, len(userListDF)):\n",
    "        username = userListDF['UserRoot'].iloc[row]+str(x)\n",
    "        user_role = userListDF['Role'].iloc[row]\n",
    "        displayName = username\n",
    "        r = CPDAPI.addUser(username, displayName, email, user_role, password)\n",
    "        if (CPDAPI.getStatusCode(r)==201):\n",
    "            print('User: '+username+' Added as a '+str(user_role))\n",
    "        else:\n",
    "            print(CPDAPI.getStatusCode(r))"
   ]
  },
  {
   "cell_type": "code",
   "execution_count": null,
   "metadata": {},
   "outputs": [],
   "source": [
    "# Add x Users and Engineers to the DV Service\n",
    "\n",
    "userList = {'UserRoot':['LABUSER','LABDATAENGINEER'],'Role':['User','Engineer']}\n",
    "userListDF = pd.DataFrame(userList) \n",
    "\n",
    "df = CPDAPI.getUsersDF() # Get existing list of users to get the uid\n",
    "\n",
    "for x in range(0, ids):\n",
    "    for row in range(0, len(userListDF)):\n",
    "        display_name = userListDF['UserRoot'].iloc[row]+str(x)\n",
    "        role = userListDF['Role'].iloc[row]\n",
    "        \n",
    "        r = CPDAPI.addUserToDV(display_name, role, df)\n",
    "        if (CPDAPI.getStatusCode(r)==200):\n",
    "            print('User: '+display_name+' added to Data Virtualization Service')\n",
    "        else:\n",
    "            print(CPDAPI.getStatusCode(r))"
   ]
  },
  {
   "cell_type": "markdown",
   "metadata": {},
   "source": [
    "### Grant Access to Data Engineers to the **Data Virtualization Hands on Lab** project\n",
    "\n",
    "Now that you have created the LABDATAENGINEER users you need to give them access to the Hands on Lab project.\n",
    "\n",
    "1. Click the three bar main navigation menu\n",
    "\n",
    "    <img src=\"https://raw.githubusercontent.com/Db2-DTE-POC/CPDDVLAB/master/media/2.42.03 Three Bar.png\">\n",
    "    \n",
    "2. Select **Projects**    \n",
    "    \n",
    "    <img src=\"https://raw.githubusercontent.com/Db2-DTE-POC/CPDDVLAB/master/media/11.17.07 Projects.png\">\n",
    "    \n",
    "3. Select the **Data Virtualization Hands on Lab** project\n",
    "4. Click **Access Control** from the menu bar at the top of the page\n",
    "5. Click **Add collaborators** at the top right of the page\n",
    "6. Select all the **LABDATAENGINEER** users one at a time using the **Search for name** field\n",
    "7. Select the **Editor** access control level\n",
    "8. Add the users to the list of new collaborators\n",
    "9. Click **Invite**"
   ]
  },
  {
   "cell_type": "markdown",
   "metadata": {},
   "source": [
    "### Grant Access to Data Engineers to Existing Views and Tables"
   ]
  },
  {
   "cell_type": "code",
   "execution_count": null,
   "metadata": {},
   "outputs": [],
   "source": [
    "# Grant Access to Data Engineers to all the Views owned by the logged in user\n",
    "ViewsDF = CPDAPI.getVirtualizedViewsDF()\n",
    "roleToGrant = 'DV_ENGINEER'\n",
    "for index, row in ViewsDF.iterrows():\n",
    "    name = row['viewname']\n",
    "    schema = row['viewschema']\n",
    "\n",
    "    r = CPDAPI.grantPrivledgeToRole(name, schema, roleToGrant)\n",
    "    if (CPDAPI.getStatusCode(r)==200):\n",
    "        print('Access granted')\n",
    "    else:\n",
    "        print(CPDAPI.getStatusCode(r))"
   ]
  },
  {
   "cell_type": "code",
   "execution_count": null,
   "metadata": {},
   "outputs": [],
   "source": [
    "# Grant Access to Data Engineers to all the Virtualizated Tables owned by the logged in user\n",
    "TablesDF = CPDAPI.getVirtualizedTablesDF()\n",
    "roleToGrant = 'DV_ENGINEER'\n",
    "for index, row in TablesDF.iterrows():\n",
    "    name = row['table_name']\n",
    "    schema = row['table_schema']\n",
    "\n",
    "    r = CPDAPI.grantPrivledgeToRole(name, schema, roleToGrant)\n",
    "    if (CPDAPI.getStatusCode(r)==200):\n",
    "        print('Access granted')\n",
    "    else:\n",
    "        print(CPDAPI.getStatusCode(r))"
   ]
  },
  {
   "cell_type": "markdown",
   "metadata": {},
   "source": [
    "### Test Existing Data Sources\n",
    "You can use the following REST call to check the status of all the Data Sources used by the demonstration and hands on lab."
   ]
  },
  {
   "cell_type": "code",
   "execution_count": null,
   "metadata": {},
   "outputs": [],
   "source": [
    "# Display the Available Data Sources already configured\n",
    "dataSources = CPDAPI.getDataSources()\n",
    "display(dataSources)"
   ]
  },
  {
   "cell_type": "markdown",
   "metadata": {},
   "source": [
    "### Test Existing Virtualized Tables, Folded Tables and Views\n",
    "The following view and virtualized tables are used in the lab and demo. The following code will check that they are all working."
   ]
  },
  {
   "cell_type": "code",
   "execution_count": null,
   "metadata": {},
   "outputs": [],
   "source": [
    "# Test that the existing views all work\n",
    "sqlText = \\\n",
    "'''\n",
    "-- zOS VSAM\n",
    "SELECT COUNT(*) FROM DVDEMO.STOCK_SYMBOLS;\n",
    "SELECT * FROM DVDEMO.STOCK_SYMBOLS FETCH FIRST 2 ROWS ONLY;\n",
    "\n",
    "-- Folded Virtual Tables\n",
    "SELECT COUNT(*) FROM FOLDING.STOCK_HISTORY;\n",
    "SELECT * FROM FOLDING.STOCK_HISTORY FETCH FIRST 2 ROWS ONLY;\n",
    "SELECT COUNT(*) FROM FOLDING.ACCOUNTS_DV;\n",
    "SELECT * FROM FOLDING.ACCOUNTS_DV FETCH FIRST 2 ROWS ONLY;\n",
    "SELECT COUNT(*) FROM FOLDING.STOCK_TRANSACTIONS_DV;\n",
    "SELECT * FROM FOLDING.STOCK_TRANSACTIONS_DV FETCH FIRST 2 ROWS ONLY;\n",
    "\n",
    "-- Mongo DB\n",
    "SELECT COUNT(CUSTOMER_ID) FROM MONGO_ONPREM.CUSTOMER_CONTACT;\n",
    "SELECT * FROM MONGO_ONPREM.CUSTOMER_CONTACT FETCH FIRST 2 ROWS ONLY;\n",
    "SELECT COUNT(CUSTOMER_ID) FROM MONGO_ONPREM.CUSTOMER_IDENTITY;\n",
    "SELECT * FROM MONGO_ONPREM.CUSTOMER_IDENTITY FETCH FIRST 2 ROWS ONLY;\n",
    "SELECT COUNT(CUSTOMER_ID) FROM MONGO_ONPREM.CUSTOMER_PAYMENT;\n",
    "SELECT * FROM MONGO_ONPREM.CUSTOMER_PAYMENT FETCH FIRST 2 ROWS ONLY;\n",
    "\n",
    "-- Views\n",
    "SELECT COUNT(*) FROM TRADING.MOVING_AVERAGE;\n",
    "SELECT * FROM TRADING.MOVING_AVERAGE FETCH FIRST 2 ROWS ONLY;\n",
    "SELECT COUNT(*) FROM TRADING.VOLUME;\n",
    "SELECT * FROM TRADING.VOLUME FETCH FIRST 2 ROWS ONLY;\n",
    "SELECT COUNT(*) FROM TRADING.THREEPERCENT;\n",
    "SELECT * FROM TRADING.THREEPERCENT FETCH FIRST 2 ROWS ONLY;\n",
    "SELECT COUNT(*) FROM TRADING.TRANSBYCUSTOMER;\n",
    "SELECT * FROM TRADING.TRANSBYCUSTOMER FETCH FIRST 2 ROWS ONLY;\n",
    "SELECT COUNT(*) FROM TRADING.TOPBOUGHTSOLD;\n",
    "SELECT * FROM TRADING.TOPBOUGHTSOLD FETCH FIRST 2 ROWS ONLY;\n",
    "SELECT COUNT(*) FROM TRADING.TOPFIVE;\n",
    "SELECT * FROM TRADING.TOPFIVE FETCH FIRST 2 ROWS ONLY;\n",
    "SELECT COUNT(*) FROM TRADING.BOTTOMFIVE;\n",
    "SELECT * FROM TRADING.BOTTOMFIVE FETCH FIRST 2 ROWS ONLY;\n",
    "SELECT COUNT(*) FROM TRADING.OHIO;\n",
    "SELECT * FROM TRADING.OHIO FETCH FIRST 2 ROWS ONLY;\n",
    "'''\n",
    "\n",
    "CPDAPI.displayResults(CPDAPI.runScript(sqlText))"
   ]
  },
  {
   "cell_type": "markdown",
   "metadata": {},
   "source": [
    "## Lab Teardown\n",
    "After users have completed the Hands on Lab you can use the following instructions to remove any objects created by the users and the notebooks they used. You can also remove the tables created in the Db2 Warehouse system used to demonstrate table virtualiation and folding."
   ]
  },
  {
   "cell_type": "markdown",
   "metadata": {},
   "source": [
    "### Remove Tables and Views Created by Lab Participants"
   ]
  },
  {
   "cell_type": "code",
   "execution_count": null,
   "metadata": {},
   "outputs": [],
   "source": [
    "# Delete Virtualized Tables Created by Lab Participants\n",
    "\n",
    "virtualTables = CPDAPI.getVirtualizedTablesDF()\n",
    "virtualUserTables = virtualTables.loc[virtualTables['owner'] != 'USER999']\n",
    "display(virtualUserTables)\n",
    "for index, row in virtualUserTables.iterrows():\n",
    "    schema = row['table_schema']\n",
    "    table = row['table_name']\n",
    "    source = row['data_source_table_name']\n",
    "    r = CPDAPI.deleteVirtualizedTable(schema, table, source)\n",
    "    if (CPDAPI.getStatusCode(r)==200):\n",
    "        print('Virtualized Table deleted')\n",
    "    else:\n",
    "        print(CPDAPI.getStatusCode(r))\n",
    "display(CPDAPI.getVirtualizedTablesDF())"
   ]
  },
  {
   "cell_type": "code",
   "execution_count": null,
   "metadata": {},
   "outputs": [],
   "source": [
    "# Delete Virtualized Views Created by Lab Participants\n",
    "\n",
    "views = CPDAPI.getVirtualizedViewsDF()\n",
    "userViews = views.loc[views['owner'] != 'USER999']\n",
    "display(userViews)\n",
    "for index, row in userViews.iterrows():\n",
    "    schema = row['viewschema']\n",
    "    view = row['viewname']\n",
    "    r = CPDAPI.deleteView(schema, view)\n",
    "    if (CPDAPI.getStatusCode(r)==200):\n",
    "        print('View deleted')\n",
    "    else:\n",
    "        print(CPDAPI.getStatusCode(r))\n",
    "display(CPDAPI.getVirtualizedViewsDF())"
   ]
  },
  {
   "cell_type": "markdown",
   "metadata": {},
   "source": [
    "### Remove Users from Data Virtualization Server and CPD\n",
    "Set the value **ids** to the number of users you want to remove starting at 0. "
   ]
  },
  {
   "cell_type": "code",
   "execution_count": null,
   "metadata": {},
   "outputs": [],
   "source": [
    "ids = 10"
   ]
  },
  {
   "cell_type": "code",
   "execution_count": null,
   "metadata": {},
   "outputs": [],
   "source": [
    "# Drop x users and engineers from the DV Service\n",
    "\n",
    "userList = {'UserRoot':['LABUSER','LABDATAENGINEER']}\n",
    "userListDF = pd.DataFrame(userList) \n",
    "\n",
    "df = CPDAPI.getUsersDF() # Get existing list of users to get the uid\n",
    "\n",
    "for x in range(0, ids):\n",
    "    for row in range(0, len(userListDF)):\n",
    "        display_name = userListDF['UserRoot'].iloc[row]+str(x)\n",
    "        \n",
    "        r = CPDAPI.dropUserFromDV(display_name, df)\n",
    "        if (CPDAPI.getStatusCode(r)==200):\n",
    "            print('User: '+display_name+' dropped from Data Virtualization Service')\n",
    "        else:\n",
    "            print(CPDAPI.getStatusCode(r))"
   ]
  },
  {
   "cell_type": "code",
   "execution_count": null,
   "metadata": {},
   "outputs": [],
   "source": [
    "# Drop x users and engineers from CPD\n",
    "\n",
    "userList = {'UserRoot':['labuser','labdataengineer']}\n",
    "userListDF = pd.DataFrame(userList) \n",
    "\n",
    "for x in range(0, ids):\n",
    "    for row in range(0, len(userListDF)):\n",
    "        username = userListDF['UserRoot'].iloc[row]+str(x)\n",
    "\n",
    "        r = CPDAPI.dropUser(username)\n",
    "        if (CPDAPI.getStatusCode(r)==200):\n",
    "            print('User: '+username+' Dropped')\n",
    "        else:\n",
    "            print(CPDAPI.getStatusCode(r))"
   ]
  },
  {
   "cell_type": "markdown",
   "metadata": {},
   "source": [
    "### Delete the  **Data Virtualization Hands on Lab** project\n",
    "\n",
    "Now that you have delete all the users and their virtualized objects you can delete the project that contains all the Jupyer notebooks.\n",
    "\n",
    "1. Click the three bar main navigation menu\n",
    "\n",
    "    <img src=\"https://raw.githubusercontent.com/Db2-DTE-POC/CPDDVLAB/master/media/2.42.03 Three Bar.png\">\n",
    "    \n",
    "2. Select **Projects**    \n",
    "    \n",
    "    <img src=\"https://raw.githubusercontent.com/Db2-DTE-POC/CPDDVLAB/master/media/11.17.07 Projects.png\">\n",
    "    \n",
    "3. Click the **elipsis icon** to the right of the **Data Virtualization Hands on Lab** project\n",
    "4. Select **Delete**\n",
    "5. Click **Delete** to delete the project and all assets for all collaborators"
   ]
  },
  {
   "cell_type": "markdown",
   "metadata": {},
   "source": [
    "### Remove User Created Tables from the Db2 Data Warehouse database in IBM Cloud Pak for Data\n",
    "During the lab the users create new tables in the Db2 Data Warehouse database that is in IBM Cloud Pak for Data. The code below delete all the new tables as well as the related schema. "
   ]
  },
  {
   "cell_type": "code",
   "execution_count": null,
   "metadata": {
    "scrolled": true
   },
   "outputs": [],
   "source": [
    "# !wget https://raw.githubusercontent.com/IBM/db2-jupyter/master/db2.ipynb\n",
    "!wget -O db2.ipynb https://raw.githubusercontent.com/Db2-DTE-POC/CPDDVLAB/master/db2.ipynb\n",
    "\n",
    "%run db2.ipynb\n",
    "print('db2.ipynb loaded')"
   ]
  },
  {
   "cell_type": "code",
   "execution_count": null,
   "metadata": {},
   "outputs": [],
   "source": [
    "# Connect to the Db2 Warehouse on IBM Cloud Pak for Data Database from inside of IBM Cloud Pak for Data\n",
    "database = 'bludb'\n",
    "user = 'user999'\n",
    "password = 'xxxx'\n",
    "host = 'openshift-skytap-nfs-woker-5.ibm.com'\n",
    "port = '31928'\n",
    "\n",
    "%sql CONNECT TO {database} USER {user} USING {password} HOST {host} PORT {port}"
   ]
  },
  {
   "cell_type": "code",
   "execution_count": null,
   "metadata": {},
   "outputs": [],
   "source": [
    "# Connect to the Db2 Warehouse on IBM Cloud Pak for Data Database from outside of IBM Cloud Pak for Data\n",
    "\n",
    "database = 'bludb'\n",
    "user = 'user999'\n",
    "# password can be found in the details option of the Db2 Warehouse service in the My Data->Databases menu option\n",
    "password = 'xxxx'\n",
    "host = 'services-uscentral.skytap.com'\n",
    "port = '9094'\n",
    "\n",
    "%sql CONNECT TO {database} USER {user} USING {password} HOST {host} PORT {port}"
   ]
  },
  {
   "cell_type": "code",
   "execution_count": null,
   "metadata": {},
   "outputs": [],
   "source": [
    "tables = %sql SELECT TABSCHEMA, TABNAME FROM SYSCAT.TABLES WHERE TABSCHEMA LIKE '%ENGINEER%'\n",
    "display(tables)\n",
    "schemas = %sql SELECT SCHEMANAME FROM SYSCAT.SCHEMATA WHERE SCHEMANAME LIKE '%ENGINEER%'\n",
    "display(schemas)"
   ]
  },
  {
   "cell_type": "code",
   "execution_count": null,
   "metadata": {},
   "outputs": [],
   "source": [
    "drop_tables = ''\n",
    "for index, row in tables.iterrows():\n",
    "    schema_name = row['TABSCHEMA']\n",
    "    table_name = row['TABNAME']\n",
    "    drop_tables = drop_tables + 'DROP TABLE '+schema_name+'.'+table_name+'; '\n",
    "print(drop_tables)\n",
    "%sql {drop_tables}"
   ]
  },
  {
   "cell_type": "code",
   "execution_count": null,
   "metadata": {},
   "outputs": [],
   "source": [
    "drop_schemas = ''\n",
    "for index, row in schemas.iterrows():\n",
    "    schema_name = row['SCHEMANAME']\n",
    "    drop_schemas = drop_schemas + 'DROP SCHEMA '+schema_name+' RESTRICT; '\n",
    "print(drop_schemas)\n",
    "%sql {drop_schemas}"
   ]
  },
  {
   "cell_type": "markdown",
   "metadata": {},
   "source": [
    "You are now ready to recreate the lab ready for the next set of users. "
   ]
  },
  {
   "cell_type": "markdown",
   "metadata": {},
   "source": [
    "#### Credits: IBM 2019, Peter Kohlmann [kohlmann@ca.ibm.com]"
   ]
  }
 ],
 "metadata": {
  "kernelspec": {
   "display_name": "Python 3",
   "language": "python",
   "name": "python3"
  },
  "language_info": {
   "codemirror_mode": {
    "name": "ipython",
    "version": 3
   },
   "file_extension": ".py",
   "mimetype": "text/x-python",
   "name": "python",
   "nbconvert_exporter": "python",
   "pygments_lexer": "ipython3",
   "version": "3.7.4"
  }
 },
 "nbformat": 4,
 "nbformat_minor": 2
}
