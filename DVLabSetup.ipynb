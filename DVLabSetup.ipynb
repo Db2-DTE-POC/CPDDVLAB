{
 "cells": [
  {
   "cell_type": "markdown",
   "metadata": {},
   "source": [
    "# IBM Cloud Pak for Data Data Virtualization Lab Setup"
   ]
  },
  {
   "cell_type": "markdown",
   "metadata": {},
   "source": [
    "### Where to find this sample online\n",
    "You can find a copy of this notebook at https://github.com/Db2-DTE-POC/db2dmc."
   ]
  },
  {
   "cell_type": "markdown",
   "metadata": {},
   "source": [
    "The IBM Cloud Pak for Data Console is only one way you can interact with the Virtualization service. IBM Cloud Pak for Data is built on a set of microservices that communicate with each other and the Console user interface using RESTful APIs. You can use these services to automate anything you can do throught the user interface.\n",
    "\n",
    "This Jupyter Notebook contains examples of how to use the Open APIs to retrieve information from the virtualization service, how to run SQL statements directly against the service through REST and how to provide authoritization to objects. This provides a way write your own script to automate the setup and configuration of the virtualization service.\n",
    "\n",
    "The next part of the lab relies on a set of base classes to help you interact with the RESTful Services API for IBM Cloud Pak for Data Virtualization. You can access this library on GITHUT. The commands below download the library and run them as part of this notebook.\n",
    "<pre>\n",
    "&#37;run CPDDVRestClass.ipynb\n",
    "</pre>\n",
    "The cell below loads the RESTful Service Classes and methods directly from GITHUB. Note that it will take a few seconds for the extension to load, so you should generally wait until the \"Db2 Extensions Loaded\" message is displayed in your notebook. \n",
    "1. Click the cell below\n",
    "2. Click **Run**"
   ]
  },
  {
   "cell_type": "code",
   "execution_count": null,
   "metadata": {},
   "outputs": [],
   "source": [
    "!wget -O CPDDVRestClass.ipynb https://raw.githubusercontent.com/Db2-DTE-POC/CPDDVLAB/master/CPDDVRestClass.ipynb\n",
    "%run CPDDVRestClass.ipynb"
   ]
  },
  {
   "cell_type": "markdown",
   "metadata": {},
   "source": [
    "## Establishing a Connection to the Console"
   ]
  },
  {
   "cell_type": "markdown",
   "metadata": {},
   "source": [
    "### Connections\n",
    "To connect to the Data Virtualization service you need to provide the URL, the service name (v1) and profile the console user name and password. "
   ]
  },
  {
   "cell_type": "code",
   "execution_count": null,
   "metadata": {},
   "outputs": [],
   "source": [
    "# Connect to the Db2 Data Management Console service\n",
    "\n",
    "# From Outside the Cluster\n",
    "# Console  = 'https://services-uscentral.skytap.com:9152'\n",
    "# From Inside the Cluster\n",
    "Console  = 'https://openshift-skytap-nfs-lb.ibm.com'\n",
    "user     = 'admin'\n",
    "password = 'DTE.cp4data!'\n",
    "\n",
    "# Set up the required connection\n",
    "CPDAPI = Db2(Console)\n",
    "api = '/v1'\n",
    "CPDAPI.authenticate(api, user, password)\n",
    "database = Console"
   ]
  },
  {
   "cell_type": "markdown",
   "metadata": {},
   "source": [
    "## Utility Routines"
   ]
  },
  {
   "cell_type": "markdown",
   "metadata": {},
   "source": [
    "### Data Sources"
   ]
  },
  {
   "cell_type": "code",
   "execution_count": null,
   "metadata": {},
   "outputs": [],
   "source": [
    "# Display the Available Data Sources already configured\n",
    "json = CPDAPI.getDataSources()\n",
    "CPDAPI.displayResults(json) "
   ]
  },
  {
   "cell_type": "markdown",
   "metadata": {},
   "source": [
    "### Virtualized Tables and Views"
   ]
  },
  {
   "cell_type": "code",
   "execution_count": null,
   "metadata": {},
   "outputs": [],
   "source": [
    "# Display the Virtualized Assets Avalable to Engineers and Users\n",
    "roles = ['DV_ENGINEER','DV_USER']\n",
    "for role in roles:\n",
    "    r = CPDAPI.getRole(role)\n",
    "    if (CPDAPI.getStatusCode(r)==200):\n",
    "        json = CPDAPI.getJSON(r)\n",
    "        df = pd.DataFrame(json_normalize(json['objects']))\n",
    "        print(', '.join(list(df)))\n",
    "        display(df)\n",
    "    else:\n",
    "        print(CPDAPI.getStatusCode(r))  "
   ]
  },
  {
   "cell_type": "code",
   "execution_count": null,
   "metadata": {},
   "outputs": [],
   "source": [
    "### Display All Virtualized Tables and Views\n",
    "display(CPDAPI.getVirtualizedTablesDF())\n",
    "display(CPDAPI.getVirtualizedViewsDF())"
   ]
  },
  {
   "cell_type": "markdown",
   "metadata": {},
   "source": [
    "### Cloud Pak for Data User Management"
   ]
  },
  {
   "cell_type": "code",
   "execution_count": null,
   "metadata": {},
   "outputs": [],
   "source": [
    "# Get the list of CPD Users\n",
    "r = CPDAPI.getUsers()\n",
    "if (CPDAPI.getStatusCode(r)==200):\n",
    "    json = CPDAPI.getJSON(r)\n",
    "    df = pd.DataFrame(json_normalize(json))\n",
    "    print(', '.join(list(df)))\n",
    "    display(df[['uid','username','displayName']])\n",
    "else:\n",
    "    print(CPDAPI.getStatusCode(r))"
   ]
  },
  {
   "cell_type": "code",
   "execution_count": null,
   "metadata": {},
   "outputs": [],
   "source": [
    "# Add a Single user to CPD\n",
    "username = \"LABUSER1\"\n",
    "displayName = \"LABUSER1\"\n",
    "email = \"kohlmann@ca.ibm.com\"\n",
    "user_roles = [\"Data Scientist\"]\n",
    "password = 'password'\n",
    "r = CPDAPI.addUser(username, displayName, email, user_roles, password)\n",
    "if (CPDAPI.getStatusCode(r)==201):\n",
    "    print('User Added')\n",
    "else:\n",
    "    print(CPDAPI.getStatusCode(r))"
   ]
  },
  {
   "cell_type": "markdown",
   "metadata": {},
   "source": [
    "## Lab Setup"
   ]
  },
  {
   "cell_type": "markdown",
   "metadata": {},
   "source": [
    "### Add Users to CPD and Data Virtualization"
   ]
  },
  {
   "cell_type": "code",
   "execution_count": null,
   "metadata": {},
   "outputs": [],
   "source": [
    "# Add x Data Scientists, LABUSERS to CPD\n",
    "\n",
    "ids = 10\n",
    "userList = {'UserRoot':['LABUSER','LABDATAENGINEER'],'Role':[['Data Scientist','Developer'],['Data Engineer']]}\n",
    "userListDF = pd.DataFrame(userList) \n",
    "email = 'kohlmann@ca.ibm.com'\n",
    "password = 'dtedvlab'\n",
    "\n",
    "for x in range(0, ids):\n",
    "    for row in range(0, len(userListDF)):\n",
    "        username = userListDF['UserRoot'].iloc[row]+str(x)\n",
    "        user_role = userListDF['Role'].iloc[row]\n",
    "        displayName = username\n",
    "        r = CPDAPI.addUser(username, displayName, email, user_role, password)\n",
    "        if (CPDAPI.getStatusCode(r)==201):\n",
    "            print('User: '+username+' Added as a '+str(user_role))\n",
    "        else:\n",
    "            print(CPDAPI.getStatusCode(r))"
   ]
  },
  {
   "cell_type": "code",
   "execution_count": null,
   "metadata": {},
   "outputs": [],
   "source": [
    "# Add x Users and Engineers to the DV Service\n",
    "ids = 10\n",
    "userList = {'UserRoot':['LABUSER','LABDATAENGINEER'],'Role':['User','Engineer']}\n",
    "userListDF = pd.DataFrame(userList) \n",
    "\n",
    "df = CPDAPI.getUsersDF() # Get existing list of users to get the uid\n",
    "\n",
    "for x in range(0, ids):\n",
    "    for row in range(0, len(userListDF)):\n",
    "        display_name = userListDF['UserRoot'].iloc[row]+str(x)\n",
    "        role = userListDF['Role'].iloc[row]\n",
    "        \n",
    "        r = CPDAPI.addUserToDV(display_name, role, df)\n",
    "        if (CPDAPI.getStatusCode(r)==200):\n",
    "            print('User: '+display_name+' added to Data Virtualization Service')\n",
    "        else:\n",
    "            print(CPDAPI.getStatusCode(r))"
   ]
  },
  {
   "cell_type": "markdown",
   "metadata": {},
   "source": [
    "### Grant Access to Data Engineers to Existing Views and Tables"
   ]
  },
  {
   "cell_type": "code",
   "execution_count": null,
   "metadata": {},
   "outputs": [],
   "source": [
    "# Grant Access to Data Engineers to all the Views owned by the logged in user\n",
    "ViewsDF = CPDAPI.getVirtualizedViewsDF()\n",
    "roleToGrant = 'DV_ENGINEER'\n",
    "for index, row in ViewsDF.iterrows():\n",
    "    name = row['viewname']\n",
    "    schema = row['viewschema']\n",
    "\n",
    "    r = CPDAPI.grantPrivledgeToRole(name, schema, roleToGrant)\n",
    "    if (CPDAPI.getStatusCode(r)==200):\n",
    "        print('Access granted')\n",
    "    else:\n",
    "        print(CPDAPI.getStatusCode(r))"
   ]
  },
  {
   "cell_type": "code",
   "execution_count": null,
   "metadata": {},
   "outputs": [],
   "source": [
    "# Grant Access to Data Engineers to all the Virtualizated Tables owned by the logged in user\n",
    "TablesDF = CPDAPI.getVirtualizedTablesDF()\n",
    "roleToGrant = 'DV_ENGINEER'\n",
    "for index, row in TablesDF.iterrows():\n",
    "    name = row['table_name']\n",
    "    schema = row['table_schema']\n",
    "\n",
    "    r = CPDAPI.grantPrivledgeToRole(name, schema, roleToGrant)\n",
    "    if (CPDAPI.getStatusCode(r)==200):\n",
    "        print('Access granted')\n",
    "    else:\n",
    "        print(CPDAPI.getStatusCode(r))"
   ]
  },
  {
   "cell_type": "markdown",
   "metadata": {},
   "source": [
    "### Test Existing Views"
   ]
  },
  {
   "cell_type": "code",
   "execution_count": null,
   "metadata": {},
   "outputs": [],
   "source": [
    "#Testing Views\n",
    "sqlText = 'SELECT * FROM TRADING.OHIO;'\n",
    "\n",
    "print(CPDAPI.runSQL(sqlText))"
   ]
  },
  {
   "cell_type": "markdown",
   "metadata": {},
   "source": [
    "## Lab Teardown"
   ]
  },
  {
   "cell_type": "markdown",
   "metadata": {},
   "source": [
    "### Drop the Existing Project"
   ]
  },
  {
   "cell_type": "markdown",
   "metadata": {},
   "source": [
    "### Remove Tables and Views Created by Lab Participants"
   ]
  },
  {
   "cell_type": "code",
   "execution_count": null,
   "metadata": {},
   "outputs": [],
   "source": [
    "# Delete Virtualized Tables Created by Lab Participants\n",
    "\n",
    "virtualTables = CPDAPI.getVirtualizedTablesDF()\n",
    "virtualUserTables = virtualTables.loc[virtualTables['owner'] != 'USER999']\n",
    "display(virtualUserTables)\n",
    "for index, row in virtualUserTables.iterrows():\n",
    "    schema = row['table_schema']\n",
    "    table = row['table_name']\n",
    "    source = row['data_source_table_name']\n",
    "    CPDAPI.deleteVirtualizedTable(schema, table, source)\n",
    "    if (CPDAPI.getStatusCode(r)==200):\n",
    "        print('Virtualized Table deleted')\n",
    "    else:\n",
    "        print(CPDAPI.getStatusCode(r))\n",
    "display(CPDAPI.getVirtualizedTablesDF())"
   ]
  },
  {
   "cell_type": "code",
   "execution_count": null,
   "metadata": {},
   "outputs": [],
   "source": [
    "# Delete Virtualized Views Created by Lab Participants\n",
    "\n",
    "views = CPDAPI.getVirtualizedViewsDF()\n",
    "userViews = views.loc[views['owner'] != 'USER999']\n",
    "display(userViews)\n",
    "for index, row in userViews.iterrows():\n",
    "    schema = row['viewschema']\n",
    "    view = row['viewname']\n",
    "    CPDAPI.deleteView(schema, view)\n",
    "    if (CPDAPI.getStatusCode(r)==200):\n",
    "        print('View deleted')\n",
    "    else:\n",
    "        print(CPDAPI.getStatusCode(r))\n",
    "display(CPDAPI.getVirtualizedViewsDF())"
   ]
  },
  {
   "cell_type": "markdown",
   "metadata": {},
   "source": [
    "### Remove Users from Data Virtualization Server and CPD"
   ]
  },
  {
   "cell_type": "code",
   "execution_count": null,
   "metadata": {},
   "outputs": [],
   "source": [
    "# Drop x users and engineers from the DV Service\n",
    "ids = 10\n",
    "userList = {'UserRoot':['LABUSER','LABDATAENGINEER']}\n",
    "userListDF = pd.DataFrame(userList) \n",
    "\n",
    "df = CPDAPI.getUsersDF() # Get existing list of users to get the uid\n",
    "\n",
    "for x in range(0, ids):\n",
    "    for row in range(0, len(userListDF)):\n",
    "        display_name = userListDF['UserRoot'].iloc[row]+str(x)\n",
    "        \n",
    "        r = CPDAPI.dropUserFromDV(display_name, df)\n",
    "        if (CPDAPI.getStatusCode(r)==200):\n",
    "            print('User: '+display_name+' dropped from Data Virtualization Service')\n",
    "        else:\n",
    "            print(CPDAPI.getStatusCode(r))"
   ]
  },
  {
   "cell_type": "code",
   "execution_count": null,
   "metadata": {},
   "outputs": [],
   "source": [
    "# Drop x users and engineers from CPD\n",
    "ids = 10\n",
    "userList = {'UserRoot':['labuser','labdataengineer']}\n",
    "userListDF = pd.DataFrame(userList) \n",
    "\n",
    "for x in range(0, ids):\n",
    "    for row in range(0, len(userListDF)):\n",
    "        username = userListDF['UserRoot'].iloc[row]+str(x)\n",
    "\n",
    "        r = CPDAPI.dropUser(username)\n",
    "        if (CPDAPI.getStatusCode(r)==200):\n",
    "            print('User: '+username+' Dropped')\n",
    "        else:\n",
    "            print(CPDAPI.getStatusCode(r))"
   ]
  },
  {
   "cell_type": "markdown",
   "metadata": {},
   "source": [
    "#### Credits: IBM 2019, Peter Kohlmann [kohlmann@ca.ibm.com]"
   ]
  }
 ],
 "metadata": {
  "kernelspec": {
   "display_name": "Python 3",
   "language": "python",
   "name": "python3"
  },
  "language_info": {
   "codemirror_mode": {
    "name": "ipython",
    "version": 3
   },
   "file_extension": ".py",
   "mimetype": "text/x-python",
   "name": "python",
   "nbconvert_exporter": "python",
   "pygments_lexer": "ipython3",
   "version": "3.7.4"
  }
 },
 "nbformat": 4,
 "nbformat_minor": 2
}
