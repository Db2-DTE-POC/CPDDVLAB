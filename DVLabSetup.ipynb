{
 "cells": [
  {
   "cell_type": "markdown",
   "metadata": {},
   "source": [
    "# IBM Cloud Pak for Data Data Virtualization Lab Setup"
   ]
  },
  {
   "cell_type": "markdown",
   "metadata": {},
   "source": [
    "### Where to find this notebook online\n",
    "You can find a copy of this notebook at https://github.com/Db2-DTE-POC/CPDDVLAB."
   ]
  },
  {
   "cell_type": "markdown",
   "metadata": {},
   "source": [
    "### What is notebook does\n",
    "This notebook is a operational guide to prepare for a digital bootcamp or hands on lab for a team of people. It uses an existing IBM Cloud Pak for Data Cluster that has Data Connections as we as virtual tables and views created for the admin user. \n",
    "\n",
    "All the code in this notebook runs using the main **admin** userid.\n",
    "\n",
    "The notebook includes instructions on how to complete some steps directly in the IBM Cloud Pak for Data console. It also includes Python code that creates users, manages privledges, and tests that all the required tables and views work.\n",
    "\n",
    "The notebooks includes three sections:\n",
    "1. Utility python routines that can be used to check the status of the system\n",
    "2. Setup of the main project, creation of users, granting privledges, and testing tables and views\n",
    "3. Teardown, including deleting any user created objects, revoking privledges, deleting users and the main project"
   ]
  },
  {
   "cell_type": "markdown",
   "metadata": {},
   "source": [
    "#### RESTful Services\n",
    "IBM Cloud Pak for Data is built on a set of microservices that communicate with each other and the Console user interface using RESTful APIs. You can use these services to automate anything you can do throught the user interface.\n",
    "\n",
    "This Jupyter Notebook contains examples of how to use the Open APIs to retrieve information from the virtualization service, how to run SQL statements directly against the service through REST and how to provide authoritization to objects. This provides a way write your own script to automate the setup and configuration of the virtualization service.\n",
    "\n",
    "The next part of the lab relies on a set of base classes to help you interact with the RESTful Services API for IBM Cloud Pak for Data Virtualization. You can access this library on GITHUB. The commands below download the library and run them as part of this notebook.\n",
    "<pre>\n",
    "&#37;run CPDDVRestClass.ipynb\n",
    "</pre>\n",
    "The cell below loads the RESTful Service Classes and methods directly from GITHUB. Note that it will take a few seconds for the extension to load, so you should generally wait until the \"Db2 Extensions Loaded\" message is displayed in your notebook. \n",
    "1. Click the cell below\n",
    "2. Click **Run**"
   ]
  },
  {
   "cell_type": "code",
   "execution_count": 1,
   "metadata": {},
   "outputs": [
    {
     "name": "stdout",
     "output_type": "stream",
     "text": [
      "--2020-04-15 14:39:31--  https://raw.githubusercontent.com/Db2-DTE-POC/CPDDVLAB/master/CPDDVRestClass.ipynb\n",
      "Resolving raw.githubusercontent.com (raw.githubusercontent.com)... 151.101.124.133\n",
      "Connecting to raw.githubusercontent.com (raw.githubusercontent.com)|151.101.124.133|:443... connected.\n",
      "HTTP request sent, awaiting response... 200 OK\n",
      "Length: 15880 (16K) [text/plain]\n",
      "Saving to: ‘CPDDVRestClass.ipynb’\n",
      "\n",
      "CPDDVRestClass.ipyn 100%[===================>]  15.51K  --.-KB/s    in 0.1s    \n",
      "\n",
      "2020-04-15 14:39:32 (108 KB/s) - ‘CPDDVRestClass.ipynb’ saved [15880/15880]\n",
      "\n"
     ]
    }
   ],
   "source": [
    "!wget -O CPDDVRestClass.ipynb https://raw.githubusercontent.com/Db2-DTE-POC/CPDDVLAB/master/CPDDVRestClass.ipynb\n",
    "%run CPDDVRestClass.ipynb"
   ]
  },
  {
   "cell_type": "markdown",
   "metadata": {},
   "source": [
    "## Establishing a Connection to the Console"
   ]
  },
  {
   "cell_type": "markdown",
   "metadata": {},
   "source": [
    "### Connections\n",
    "To connect to the Data Virtualization service you need to provide the URL, the service name (v1) and profile the console user name and password. The next cell connects to the console from inside the IBM CPD Cluster."
   ]
  },
  {
   "cell_type": "code",
   "execution_count": 2,
   "metadata": {},
   "outputs": [
    {
     "name": "stdout",
     "output_type": "stream",
     "text": [
      "Token Retrieved\n"
     ]
    }
   ],
   "source": [
    "# Connect to the Db2 Data Management Console service\n",
    "\n",
    "# From Outside the Cluster\n",
    "Console  = 'https://services-uscentral.skytap.com:9152'\n",
    "# From Inside the Cluster\n",
    "# Console  = 'https://openshift-skytap-nfs-lb.ibm.com'\n",
    "user     = 'admin'\n",
    "password = 'DTE.cp4data!'\n",
    "\n",
    "# Set up the required connection\n",
    "CPDAPI = Db2(Console)\n",
    "api = '/v1'\n",
    "CPDAPI.authenticate(api, user, password)\n",
    "database = Console"
   ]
  },
  {
   "cell_type": "markdown",
   "metadata": {},
   "source": [
    "## Utility Routines"
   ]
  },
  {
   "cell_type": "markdown",
   "metadata": {},
   "source": [
    "### Data Sources\n",
    "The next cell calls a restful service that displays all the currently configured data connections for data virtualization.\n",
    "\n",
    "The following Python function (getDataSources) runs SQL against the **QPLEXSYS.LISTRDB** catalog table and combines it with a stored procedure call **QPLEXSYS.LISTRDBCDETAILS()** to add the **AVAILABLE** column to the results. The IBM Cloud Pak for Data Virtualization Service checks each data sources every 5 to 10 seconds to ensure that it is still up and available. In the table (DataFrame) in the next cell a **1** in the **AVAILABLE** column indicates that the data source is responding. A **0** indicdates that it is not longer responding. "
   ]
  },
  {
   "cell_type": "code",
   "execution_count": 3,
   "metadata": {},
   "outputs": [
    {
     "data": {
      "text/html": [
       "<div>\n",
       "<style scoped>\n",
       "    .dataframe tbody tr th:only-of-type {\n",
       "        vertical-align: middle;\n",
       "    }\n",
       "\n",
       "    .dataframe tbody tr th {\n",
       "        vertical-align: top;\n",
       "    }\n",
       "\n",
       "    .dataframe thead th {\n",
       "        text-align: right;\n",
       "    }\n",
       "</style>\n",
       "<table border=\"1\" class=\"dataframe\">\n",
       "  <thead>\n",
       "    <tr style=\"text-align: right;\">\n",
       "      <th></th>\n",
       "      <th>CID</th>\n",
       "      <th>USR</th>\n",
       "      <th>SRCTYPE</th>\n",
       "      <th>SRCHOSTNAME</th>\n",
       "      <th>SRCPORT</th>\n",
       "      <th>DBNAME</th>\n",
       "      <th>AVAILABLE</th>\n",
       "    </tr>\n",
       "  </thead>\n",
       "  <tbody>\n",
       "    <tr>\n",
       "      <td>0</td>\n",
       "      <td>MONGO10213</td>\n",
       "      <td>admin</td>\n",
       "      <td>MongoDB</td>\n",
       "      <td>10.1.1.12</td>\n",
       "      <td>27017</td>\n",
       "      <td>mongo_onprem_stocks</td>\n",
       "      <td>1</td>\n",
       "    </tr>\n",
       "    <tr>\n",
       "      <td>1</td>\n",
       "      <td>DB210220</td>\n",
       "      <td>dvdemo</td>\n",
       "      <td>DB2</td>\n",
       "      <td>db2w-wvigssp.us-east.db2w.cloud.ibm.com</td>\n",
       "      <td>50001</td>\n",
       "      <td>bludb</td>\n",
       "      <td>1</td>\n",
       "    </tr>\n",
       "    <tr>\n",
       "      <td>2</td>\n",
       "      <td>INFOR10146</td>\n",
       "      <td>informix</td>\n",
       "      <td>Informix</td>\n",
       "      <td>10.1.1.12</td>\n",
       "      <td>26111</td>\n",
       "      <td>STOCKS</td>\n",
       "      <td>1</td>\n",
       "    </tr>\n",
       "    <tr>\n",
       "      <td>3</td>\n",
       "      <td>DB210263</td>\n",
       "      <td>db2inst1</td>\n",
       "      <td>DB2</td>\n",
       "      <td>52.70.186.131</td>\n",
       "      <td>31593</td>\n",
       "      <td>bludb</td>\n",
       "      <td>1</td>\n",
       "    </tr>\n",
       "    <tr>\n",
       "      <td>4</td>\n",
       "      <td>DVM10060</td>\n",
       "      <td>ssibm59</td>\n",
       "      <td>DVM</td>\n",
       "      <td>rs01.rocketsoftware.com</td>\n",
       "      <td>15082</td>\n",
       "      <td>SQL92</td>\n",
       "      <td>1</td>\n",
       "    </tr>\n",
       "    <tr>\n",
       "      <td>5</td>\n",
       "      <td>POSTG10262</td>\n",
       "      <td>psdte</td>\n",
       "      <td>PostgreSQL</td>\n",
       "      <td>23.100.82.91</td>\n",
       "      <td>5432</td>\n",
       "      <td>psazdb</td>\n",
       "      <td>1</td>\n",
       "    </tr>\n",
       "    <tr>\n",
       "      <td>6</td>\n",
       "      <td>DB210121</td>\n",
       "      <td>user999</td>\n",
       "      <td>DB2</td>\n",
       "      <td>openshift-skytap-nfs-woker-5.ibm.com</td>\n",
       "      <td>31928</td>\n",
       "      <td>BLUDB</td>\n",
       "      <td>1</td>\n",
       "    </tr>\n",
       "    <tr>\n",
       "      <td>7</td>\n",
       "      <td>DB210261</td>\n",
       "      <td>db2inst1</td>\n",
       "      <td>DB2</td>\n",
       "      <td>23.100.82.91</td>\n",
       "      <td>31574</td>\n",
       "      <td>azdb</td>\n",
       "      <td>1</td>\n",
       "    </tr>\n",
       "  </tbody>\n",
       "</table>\n",
       "</div>"
      ],
      "text/plain": [
       "          CID       USR     SRCTYPE                              SRCHOSTNAME  \\\n",
       "0  MONGO10213     admin     MongoDB                                10.1.1.12   \n",
       "1    DB210220    dvdemo         DB2  db2w-wvigssp.us-east.db2w.cloud.ibm.com   \n",
       "2  INFOR10146  informix    Informix                                10.1.1.12   \n",
       "3    DB210263  db2inst1         DB2                            52.70.186.131   \n",
       "4    DVM10060   ssibm59         DVM                  rs01.rocketsoftware.com   \n",
       "5  POSTG10262     psdte  PostgreSQL                             23.100.82.91   \n",
       "6    DB210121   user999         DB2     openshift-skytap-nfs-woker-5.ibm.com   \n",
       "7    DB210261  db2inst1         DB2                             23.100.82.91   \n",
       "\n",
       "  SRCPORT               DBNAME  AVAILABLE  \n",
       "0   27017  mongo_onprem_stocks          1  \n",
       "1   50001                bludb          1  \n",
       "2   26111               STOCKS          1  \n",
       "3   31593                bludb          1  \n",
       "4   15082                SQL92          1  \n",
       "5    5432               psazdb          1  \n",
       "6   31928                BLUDB          1  \n",
       "7   31574                 azdb          1  "
      ]
     },
     "metadata": {},
     "output_type": "display_data"
    }
   ],
   "source": [
    "# Display the Available Data Sources already configured\n",
    "dataSources = CPDAPI.getDataSources()\n",
    "display(dataSources)"
   ]
  },
  {
   "cell_type": "markdown",
   "metadata": {},
   "source": [
    "#### Run SQL through the SQL Editor Service\n",
    "You can also use the SQL Editor service to run your own SQL. Statements are submitted to the editor. Your code then needs to poll the editor service until the script is complete. Fortunately you can use the DB2 class included in this lab so that it becomes a very simple Python call. The **runScript** routine runs the SQL and the **displayResults** routine formats the returned JSON. "
   ]
  },
  {
   "cell_type": "code",
   "execution_count": 4,
   "metadata": {},
   "outputs": [
    {
     "name": "stdout",
     "output_type": "stream",
     "text": [
      "Statement: 0: SELECT * FROM TRADING.MOVING_AVERAGE\n",
      "Runtime ms: 273.99998903274536\n"
     ]
    },
    {
     "data": {
      "text/html": [
       "<div>\n",
       "<style scoped>\n",
       "    .dataframe tbody tr th:only-of-type {\n",
       "        vertical-align: middle;\n",
       "    }\n",
       "\n",
       "    .dataframe tbody tr th {\n",
       "        vertical-align: top;\n",
       "    }\n",
       "\n",
       "    .dataframe thead th {\n",
       "        text-align: right;\n",
       "    }\n",
       "</style>\n",
       "<table border=\"1\" class=\"dataframe\">\n",
       "  <thead>\n",
       "    <tr style=\"text-align: right;\">\n",
       "      <th></th>\n",
       "      <th>WEEK</th>\n",
       "      <th>OPEN</th>\n",
       "      <th>MOVING_AVG</th>\n",
       "    </tr>\n",
       "  </thead>\n",
       "  <tbody>\n",
       "    <tr>\n",
       "      <td>0</td>\n",
       "      <td>51</td>\n",
       "      <td>174.87</td>\n",
       "      <td>172.977500000000000000000000</td>\n",
       "    </tr>\n",
       "    <tr>\n",
       "      <td>1</td>\n",
       "      <td>51</td>\n",
       "      <td>174.17</td>\n",
       "      <td>173.267058823529411764705882</td>\n",
       "    </tr>\n",
       "    <tr>\n",
       "      <td>2</td>\n",
       "      <td>51</td>\n",
       "      <td>174.68</td>\n",
       "      <td>173.427222222222222222222222</td>\n",
       "    </tr>\n",
       "    <tr>\n",
       "      <td>3</td>\n",
       "      <td>52</td>\n",
       "      <td>170.80</td>\n",
       "      <td>173.740000000000000000000000</td>\n",
       "    </tr>\n",
       "    <tr>\n",
       "      <td>4</td>\n",
       "      <td>52</td>\n",
       "      <td>170.10</td>\n",
       "      <td>173.983500000000000000000000</td>\n",
       "    </tr>\n",
       "    <tr>\n",
       "      <td>5</td>\n",
       "      <td>52</td>\n",
       "      <td>171.00</td>\n",
       "      <td>174.141428571428571428571428</td>\n",
       "    </tr>\n",
       "    <tr>\n",
       "      <td>6</td>\n",
       "      <td>52</td>\n",
       "      <td>170.52</td>\n",
       "      <td>174.285000000000000000000000</td>\n",
       "    </tr>\n",
       "    <tr>\n",
       "      <td>7</td>\n",
       "      <td>1</td>\n",
       "      <td>170.16</td>\n",
       "      <td>174.413913043478260869565217</td>\n",
       "    </tr>\n",
       "    <tr>\n",
       "      <td>8</td>\n",
       "      <td>1</td>\n",
       "      <td>172.53</td>\n",
       "      <td>174.417916666666666666666666</td>\n",
       "    </tr>\n",
       "    <tr>\n",
       "      <td>9</td>\n",
       "      <td>1</td>\n",
       "      <td>172.54</td>\n",
       "      <td>174.321200000000000000000000</td>\n",
       "    </tr>\n",
       "  </tbody>\n",
       "</table>\n",
       "</div>"
      ],
      "text/plain": [
       "  WEEK    OPEN                    MOVING_AVG\n",
       "0   51  174.87  172.977500000000000000000000\n",
       "1   51  174.17  173.267058823529411764705882\n",
       "2   51  174.68  173.427222222222222222222222\n",
       "3   52  170.80  173.740000000000000000000000\n",
       "4   52  170.10  173.983500000000000000000000\n",
       "5   52  171.00  174.141428571428571428571428\n",
       "6   52  170.52  174.285000000000000000000000\n",
       "7    1  170.16  174.413913043478260869565217\n",
       "8    1  172.53  174.417916666666666666666666\n",
       "9    1  172.54  174.321200000000000000000000"
      ]
     },
     "metadata": {},
     "output_type": "display_data"
    },
    {
     "name": "stdout",
     "output_type": "stream",
     "text": [
      "\n"
     ]
    }
   ],
   "source": [
    "CPDAPI.displayResults(CPDAPI.runScript('SELECT * FROM TRADING.MOVING_AVERAGE'))"
   ]
  },
  {
   "cell_type": "markdown",
   "metadata": {},
   "source": [
    "### Virtualized Tables and Views\n",
    "The next two cells are useful to determine all the virtualized data availble to the admin user and the objects available by role."
   ]
  },
  {
   "cell_type": "code",
   "execution_count": null,
   "metadata": {},
   "outputs": [],
   "source": [
    "# Display the Virtualized Assets Avalable to Engineers and Users\n",
    "roles = ['DV_ENGINEER','DV_USER']\n",
    "for role in roles:\n",
    "    r = CPDAPI.getRole(role)\n",
    "    if (CPDAPI.getStatusCode(r)==200):\n",
    "        json = CPDAPI.getJSON(r)\n",
    "        df = pd.DataFrame(json_normalize(json['objects']))\n",
    "        print(', '.join(list(df)))\n",
    "        display(df)\n",
    "    else:\n",
    "        print(CPDAPI.getStatusCode(r))  "
   ]
  },
  {
   "cell_type": "code",
   "execution_count": null,
   "metadata": {},
   "outputs": [],
   "source": [
    "### Display All Virtualized Tables and Views\n",
    "display(CPDAPI.getVirtualizedTablesDF())\n",
    "display(CPDAPI.getVirtualizedViewsDF())"
   ]
  },
  {
   "cell_type": "markdown",
   "metadata": {},
   "source": [
    "### Cloud Pak for Data User Management\n",
    "The next two cells can be used to list existing CPD users and add a new user to the system."
   ]
  },
  {
   "cell_type": "code",
   "execution_count": null,
   "metadata": {},
   "outputs": [],
   "source": [
    "# Get the list of CPD Users\n",
    "r = CPDAPI.getUsers()\n",
    "if (CPDAPI.getStatusCode(r)==200):\n",
    "    json = CPDAPI.getJSON(r)\n",
    "    df = pd.DataFrame(json_normalize(json))\n",
    "    print(', '.join(list(df)))\n",
    "    display(df[['uid','username','displayName']])\n",
    "else:\n",
    "    print(CPDAPI.getStatusCode(r))"
   ]
  },
  {
   "cell_type": "code",
   "execution_count": null,
   "metadata": {},
   "outputs": [],
   "source": [
    "# Add a Single user to CPD\n",
    "username = \"LABUSER1\"\n",
    "displayName = \"LABUSER1\"\n",
    "email = \"kohlmann@ca.ibm.com\"\n",
    "user_roles = [\"Data Scientist\"]\n",
    "password = 'password'\n",
    "r = CPDAPI.addUser(username, displayName, email, user_roles, password)\n",
    "if (CPDAPI.getStatusCode(r)==201):\n",
    "    print('User Added')\n",
    "else:\n",
    "    print(CPDAPI.getStatusCode(r))"
   ]
  },
  {
   "cell_type": "markdown",
   "metadata": {},
   "source": [
    "## Lab Setup"
   ]
  },
  {
   "cell_type": "markdown",
   "metadata": {},
   "source": [
    "### Creating the Data Virtualization Project\n",
    "The first step in setting up the lab is to create a project that all the lab users can share. You will then add a single hands on lab notebook to the project and finally make a copy for each participant."
   ]
  },
  {
   "cell_type": "markdown",
   "metadata": {},
   "source": [
    "###  Create the Data Virtualization Project\n",
    "1. Right-click the following link and select **open link in new window** to open the IBM Cloud Pak for Data Console: https://services-uscentral.skytap.com:9152/\n",
    "2. Organize your screen so that you can see both this notebook as well as the IBM Cloud Pak for Data Console at the same time. This will make it much easier for you to complete the lab without switch back and forth between screens.\n",
    "3. Sign in using the **admin** userid and password\n",
    "4. Click the three bar main navigation menu\n",
    "\n",
    "    <img src=\"https://raw.githubusercontent.com/Db2-DTE-POC/CPDDVLAB/master/media/2.42.03 Three Bar.png\">\n",
    "    \n",
    "5. Select **Projects**    \n",
    "    \n",
    "    <img src=\"https://raw.githubusercontent.com/Db2-DTE-POC/CPDDVLAB/master/media/11.17.07 Projects.png\">\n",
    "6. Select **+ New project**\n",
    "7. Select **Analytics project**\n",
    "8. Click **OK**\n",
    "9. Click **Create an empty project** (you may have to click twice)\n",
    "10. Enter **Data Virtualization Hands on Lab** as the Project name\n",
    "11. Click **Create**\n",
    "\n",
    " \n",
    "###  Add the template notebook to the Project \n",
    " \n",
    "1. From the Projects list, click **Data Virtualization Hands on Lab**\n",
    "\n",
    "3. From the My Projects screen click **Add to project** at the top right of the screen\n",
    "\n",
    "    <img src=\"https://raw.githubusercontent.com/Db2-DTE-POC/CPDDVLAB/master/media/11.17.48 Add to project.png\">\n",
    "    \n",
    "4. Click **Notebook**\n",
    "\n",
    "    <img src=\"https://raw.githubusercontent.com/Db2-DTE-POC/CPDDVLAB/master/media/11.17.59 Notebook.png\">\n",
    "\n",
    "5. Click **From URL**\n",
    "6. Enter **DV Lab** in the Notebook **Name** field\n",
    "7. Copy and paste the following link into the **Notebook URL** field:\n",
    "    https://github.com/Db2-DTE-POC/CPDDVLAB/blob/master/CPD-DV%20Hands%20on%20Lab%20Preloaded.ipynb\n",
    "8. Add an optional description\n",
    "\n",
    "    <img src=\"https://raw.githubusercontent.com/Db2-DTE-POC/CPDDVLAB/master/media/11.25.23 New notebook.png\">\n",
    "\n",
    "9. Click **Create Notebook**\n",
    "\n",
    "### Duplicate the template notebook\n",
    "1. Click **Data Virtualization Hands on Lab** to navigate back to the list of assets\n",
    "2. Scroll down until you see the new notebook **DB Lab** listed\n",
    "3. Click the **elipsis icon** at the far right of the DV Lab\n",
    "4. Click **duplicate**\n",
    "5. **Repeat steps 3 and 4** nine more times. **Make sure to always select the original template notebook**"
   ]
  },
  {
   "cell_type": "markdown",
   "metadata": {},
   "source": [
    "### Add Users to CPD and Data Virtualization"
   ]
  },
  {
   "cell_type": "code",
   "execution_count": null,
   "metadata": {},
   "outputs": [],
   "source": [
    "# Add x Data Scientists, LABUSERS to CPD\n",
    "\n",
    "ids = 10\n",
    "userList = {'UserRoot':['LABUSER','LABDATAENGINEER'],'Role':[['Data Scientist','Developer'],['Data Engineer']]}\n",
    "userListDF = pd.DataFrame(userList) \n",
    "email = 'kohlmann@ca.ibm.com'\n",
    "password = 'dtedvlab'\n",
    "\n",
    "for x in range(0, ids):\n",
    "    for row in range(0, len(userListDF)):\n",
    "        username = userListDF['UserRoot'].iloc[row]+str(x)\n",
    "        user_role = userListDF['Role'].iloc[row]\n",
    "        displayName = username\n",
    "        r = CPDAPI.addUser(username, displayName, email, user_role, password)\n",
    "        if (CPDAPI.getStatusCode(r)==201):\n",
    "            print('User: '+username+' Added as a '+str(user_role))\n",
    "        else:\n",
    "            print(CPDAPI.getStatusCode(r))"
   ]
  },
  {
   "cell_type": "code",
   "execution_count": null,
   "metadata": {},
   "outputs": [],
   "source": [
    "# Add x Users and Engineers to the DV Service\n",
    "ids = 10\n",
    "userList = {'UserRoot':['LABUSER','LABDATAENGINEER'],'Role':['User','Engineer']}\n",
    "userListDF = pd.DataFrame(userList) \n",
    "\n",
    "df = CPDAPI.getUsersDF() # Get existing list of users to get the uid\n",
    "\n",
    "for x in range(0, ids):\n",
    "    for row in range(0, len(userListDF)):\n",
    "        display_name = userListDF['UserRoot'].iloc[row]+str(x)\n",
    "        role = userListDF['Role'].iloc[row]\n",
    "        \n",
    "        r = CPDAPI.addUserToDV(display_name, role, df)\n",
    "        if (CPDAPI.getStatusCode(r)==200):\n",
    "            print('User: '+display_name+' added to Data Virtualization Service')\n",
    "        else:\n",
    "            print(CPDAPI.getStatusCode(r))"
   ]
  },
  {
   "cell_type": "markdown",
   "metadata": {},
   "source": [
    "### Grant Access to Data Engineers to Existing Views and Tables"
   ]
  },
  {
   "cell_type": "code",
   "execution_count": null,
   "metadata": {},
   "outputs": [],
   "source": [
    "# Grant Access to Data Engineers to all the Views owned by the logged in user\n",
    "ViewsDF = CPDAPI.getVirtualizedViewsDF()\n",
    "roleToGrant = 'DV_ENGINEER'\n",
    "for index, row in ViewsDF.iterrows():\n",
    "    name = row['viewname']\n",
    "    schema = row['viewschema']\n",
    "\n",
    "    r = CPDAPI.grantPrivledgeToRole(name, schema, roleToGrant)\n",
    "    if (CPDAPI.getStatusCode(r)==200):\n",
    "        print('Access granted')\n",
    "    else:\n",
    "        print(CPDAPI.getStatusCode(r))"
   ]
  },
  {
   "cell_type": "code",
   "execution_count": null,
   "metadata": {},
   "outputs": [],
   "source": [
    "# Grant Access to Data Engineers to all the Virtualizated Tables owned by the logged in user\n",
    "TablesDF = CPDAPI.getVirtualizedTablesDF()\n",
    "roleToGrant = 'DV_ENGINEER'\n",
    "for index, row in TablesDF.iterrows():\n",
    "    name = row['table_name']\n",
    "    schema = row['table_schema']\n",
    "\n",
    "    r = CPDAPI.grantPrivledgeToRole(name, schema, roleToGrant)\n",
    "    if (CPDAPI.getStatusCode(r)==200):\n",
    "        print('Access granted')\n",
    "    else:\n",
    "        print(CPDAPI.getStatusCode(r))"
   ]
  },
  {
   "cell_type": "markdown",
   "metadata": {},
   "source": [
    "### Test Existing Data Sources"
   ]
  },
  {
   "cell_type": "code",
   "execution_count": null,
   "metadata": {},
   "outputs": [],
   "source": [
    "# Display the Available Data Sources already configured\n",
    "dataSources = CPDAPI.getDataSources()\n",
    "display(dataSources)"
   ]
  },
  {
   "cell_type": "markdown",
   "metadata": {},
   "source": [
    "### Test Existing Virtualized Tables, Folded Tables and Views"
   ]
  },
  {
   "cell_type": "code",
   "execution_count": 5,
   "metadata": {},
   "outputs": [
    {
     "name": "stdout",
     "output_type": "stream",
     "text": [
      "Statement: 0: -- zOS VSAM\n",
      "SELECT COUNT(*) FROM DVDEMO.STOCK_SYMBOLS\n",
      "Runtime ms: 559.0000152587891\n"
     ]
    },
    {
     "data": {
      "text/html": [
       "<div>\n",
       "<style scoped>\n",
       "    .dataframe tbody tr th:only-of-type {\n",
       "        vertical-align: middle;\n",
       "    }\n",
       "\n",
       "    .dataframe tbody tr th {\n",
       "        vertical-align: top;\n",
       "    }\n",
       "\n",
       "    .dataframe thead th {\n",
       "        text-align: right;\n",
       "    }\n",
       "</style>\n",
       "<table border=\"1\" class=\"dataframe\">\n",
       "  <thead>\n",
       "    <tr style=\"text-align: right;\">\n",
       "      <th></th>\n",
       "      <th>1</th>\n",
       "    </tr>\n",
       "  </thead>\n",
       "  <tbody>\n",
       "    <tr>\n",
       "      <td>0</td>\n",
       "      <td>31</td>\n",
       "    </tr>\n",
       "  </tbody>\n",
       "</table>\n",
       "</div>"
      ],
      "text/plain": [
       "    1\n",
       "0  31"
      ]
     },
     "metadata": {},
     "output_type": "display_data"
    },
    {
     "name": "stdout",
     "output_type": "stream",
     "text": [
      "\n",
      "Statement: 1: SELECT * FROM DVDEMO.STOCK_SYMBOLS FETCH FIRST 2 ROWS ONLY\n",
      "Runtime ms: 651.0000228881836\n"
     ]
    },
    {
     "data": {
      "text/html": [
       "<div>\n",
       "<style scoped>\n",
       "    .dataframe tbody tr th:only-of-type {\n",
       "        vertical-align: middle;\n",
       "    }\n",
       "\n",
       "    .dataframe tbody tr th {\n",
       "        vertical-align: top;\n",
       "    }\n",
       "\n",
       "    .dataframe thead th {\n",
       "        text-align: right;\n",
       "    }\n",
       "</style>\n",
       "<table border=\"1\" class=\"dataframe\">\n",
       "  <thead>\n",
       "    <tr style=\"text-align: right;\">\n",
       "      <th></th>\n",
       "      <th>SYMBOL</th>\n",
       "      <th>COMPANY</th>\n",
       "    </tr>\n",
       "  </thead>\n",
       "  <tbody>\n",
       "    <tr>\n",
       "      <td>0</td>\n",
       "      <td>AAPL</td>\n",
       "      <td>Apple Inc.</td>\n",
       "    </tr>\n",
       "    <tr>\n",
       "      <td>1</td>\n",
       "      <td>AXP</td>\n",
       "      <td>American Express Company</td>\n",
       "    </tr>\n",
       "  </tbody>\n",
       "</table>\n",
       "</div>"
      ],
      "text/plain": [
       "  SYMBOL                                        COMPANY\n",
       "0   AAPL  Apple Inc.                                   \n",
       "1   AXP   American Express Company                     "
      ]
     },
     "metadata": {},
     "output_type": "display_data"
    },
    {
     "name": "stdout",
     "output_type": "stream",
     "text": [
      "\n",
      "Statement: 1: SELECT * FROM DVDEMO.STOCK_SYMBOLS FETCH FIRST 2 ROWS ONLY\n",
      "Runtime ms: 651.0000228881836\n"
     ]
    },
    {
     "data": {
      "text/html": [
       "<div>\n",
       "<style scoped>\n",
       "    .dataframe tbody tr th:only-of-type {\n",
       "        vertical-align: middle;\n",
       "    }\n",
       "\n",
       "    .dataframe tbody tr th {\n",
       "        vertical-align: top;\n",
       "    }\n",
       "\n",
       "    .dataframe thead th {\n",
       "        text-align: right;\n",
       "    }\n",
       "</style>\n",
       "<table border=\"1\" class=\"dataframe\">\n",
       "  <thead>\n",
       "    <tr style=\"text-align: right;\">\n",
       "      <th></th>\n",
       "      <th>SYMBOL</th>\n",
       "      <th>COMPANY</th>\n",
       "    </tr>\n",
       "  </thead>\n",
       "  <tbody>\n",
       "    <tr>\n",
       "      <td>0</td>\n",
       "      <td>AAPL</td>\n",
       "      <td>Apple Inc.</td>\n",
       "    </tr>\n",
       "    <tr>\n",
       "      <td>1</td>\n",
       "      <td>AXP</td>\n",
       "      <td>American Express Company</td>\n",
       "    </tr>\n",
       "  </tbody>\n",
       "</table>\n",
       "</div>"
      ],
      "text/plain": [
       "  SYMBOL                                        COMPANY\n",
       "0   AAPL  Apple Inc.                                   \n",
       "1   AXP   American Express Company                     "
      ]
     },
     "metadata": {},
     "output_type": "display_data"
    },
    {
     "name": "stdout",
     "output_type": "stream",
     "text": [
      "\n",
      "Statement: 2: -- Folded Virtual Tables\n",
      "SELECT COUNT(*) FROM FOLDING.STOCK_HISTORY\n",
      "Runtime ms: 140.00000059604645\n"
     ]
    },
    {
     "data": {
      "text/html": [
       "<div>\n",
       "<style scoped>\n",
       "    .dataframe tbody tr th:only-of-type {\n",
       "        vertical-align: middle;\n",
       "    }\n",
       "\n",
       "    .dataframe tbody tr th {\n",
       "        vertical-align: top;\n",
       "    }\n",
       "\n",
       "    .dataframe thead th {\n",
       "        text-align: right;\n",
       "    }\n",
       "</style>\n",
       "<table border=\"1\" class=\"dataframe\">\n",
       "  <thead>\n",
       "    <tr style=\"text-align: right;\">\n",
       "      <th></th>\n",
       "      <th>1</th>\n",
       "    </tr>\n",
       "  </thead>\n",
       "  <tbody>\n",
       "    <tr>\n",
       "      <td>0</td>\n",
       "      <td>7748</td>\n",
       "    </tr>\n",
       "  </tbody>\n",
       "</table>\n",
       "</div>"
      ],
      "text/plain": [
       "      1\n",
       "0  7748"
      ]
     },
     "metadata": {},
     "output_type": "display_data"
    },
    {
     "name": "stdout",
     "output_type": "stream",
     "text": [
      "\n",
      "Statement: 3: SELECT * FROM FOLDING.STOCK_HISTORY FETCH FIRST 2 ROWS ONLY\n",
      "Runtime ms: 111.00000143051147\n"
     ]
    },
    {
     "data": {
      "text/html": [
       "<div>\n",
       "<style scoped>\n",
       "    .dataframe tbody tr th:only-of-type {\n",
       "        vertical-align: middle;\n",
       "    }\n",
       "\n",
       "    .dataframe tbody tr th {\n",
       "        vertical-align: top;\n",
       "    }\n",
       "\n",
       "    .dataframe thead th {\n",
       "        text-align: right;\n",
       "    }\n",
       "</style>\n",
       "<table border=\"1\" class=\"dataframe\">\n",
       "  <thead>\n",
       "    <tr style=\"text-align: right;\">\n",
       "      <th></th>\n",
       "      <th>SYMBOL</th>\n",
       "      <th>TX_DATE</th>\n",
       "      <th>HIGH</th>\n",
       "      <th>LOW</th>\n",
       "      <th>OPEN</th>\n",
       "      <th>CLOSE</th>\n",
       "      <th>VOLUME</th>\n",
       "      <th>_ID</th>\n",
       "      <th>CUSTOMERID</th>\n",
       "    </tr>\n",
       "  </thead>\n",
       "  <tbody>\n",
       "    <tr>\n",
       "      <td>0</td>\n",
       "      <td>DIS</td>\n",
       "      <td>2018-11-14</td>\n",
       "      <td>118.22</td>\n",
       "      <td>116.44</td>\n",
       "      <td>117.44</td>\n",
       "      <td>117.12</td>\n",
       "      <td>7109100</td>\n",
       "      <td></td>\n",
       "      <td></td>\n",
       "    </tr>\n",
       "    <tr>\n",
       "      <td>1</td>\n",
       "      <td>DIS</td>\n",
       "      <td>2018-11-15</td>\n",
       "      <td>117.43</td>\n",
       "      <td>115.70</td>\n",
       "      <td>116.49</td>\n",
       "      <td>117.11</td>\n",
       "      <td>7088700</td>\n",
       "      <td></td>\n",
       "      <td></td>\n",
       "    </tr>\n",
       "  </tbody>\n",
       "</table>\n",
       "</div>"
      ],
      "text/plain": [
       "  SYMBOL     TX_DATE    HIGH     LOW    OPEN   CLOSE   VOLUME _ID CUSTOMERID\n",
       "0    DIS  2018-11-14  118.22  116.44  117.44  117.12  7109100               \n",
       "1    DIS  2018-11-15  117.43  115.70  116.49  117.11  7088700               "
      ]
     },
     "metadata": {},
     "output_type": "display_data"
    },
    {
     "name": "stdout",
     "output_type": "stream",
     "text": [
      "\n",
      "Statement: 4: SELECT COUNT(*) FROM FOLDING.ACCOUNTS_DV\n",
      "Runtime ms: 153.99999916553497\n"
     ]
    },
    {
     "data": {
      "text/html": [
       "<div>\n",
       "<style scoped>\n",
       "    .dataframe tbody tr th:only-of-type {\n",
       "        vertical-align: middle;\n",
       "    }\n",
       "\n",
       "    .dataframe tbody tr th {\n",
       "        vertical-align: top;\n",
       "    }\n",
       "\n",
       "    .dataframe thead th {\n",
       "        text-align: right;\n",
       "    }\n",
       "</style>\n",
       "<table border=\"1\" class=\"dataframe\">\n",
       "  <thead>\n",
       "    <tr style=\"text-align: right;\">\n",
       "      <th></th>\n",
       "      <th>1</th>\n",
       "    </tr>\n",
       "  </thead>\n",
       "  <tbody>\n",
       "    <tr>\n",
       "      <td>0</td>\n",
       "      <td>10000</td>\n",
       "    </tr>\n",
       "  </tbody>\n",
       "</table>\n",
       "</div>"
      ],
      "text/plain": [
       "       1\n",
       "0  10000"
      ]
     },
     "metadata": {},
     "output_type": "display_data"
    },
    {
     "name": "stdout",
     "output_type": "stream",
     "text": [
      "\n",
      "Statement: 5: SELECT * FROM FOLDING.ACCOUNTS_DV FETCH FIRST 2 ROWS ONLY\n",
      "Runtime ms: 193.00000369548798\n"
     ]
    },
    {
     "data": {
      "text/html": [
       "<div>\n",
       "<style scoped>\n",
       "    .dataframe tbody tr th:only-of-type {\n",
       "        vertical-align: middle;\n",
       "    }\n",
       "\n",
       "    .dataframe tbody tr th {\n",
       "        vertical-align: top;\n",
       "    }\n",
       "\n",
       "    .dataframe thead th {\n",
       "        text-align: right;\n",
       "    }\n",
       "</style>\n",
       "<table border=\"1\" class=\"dataframe\">\n",
       "  <thead>\n",
       "    <tr style=\"text-align: right;\">\n",
       "      <th></th>\n",
       "      <th>BALANCE</th>\n",
       "      <th>CUSTID</th>\n",
       "      <th>_ID</th>\n",
       "      <th>TX_COUNT</th>\n",
       "    </tr>\n",
       "  </thead>\n",
       "  <tbody>\n",
       "    <tr>\n",
       "      <td>0</td>\n",
       "      <td>7756.56</td>\n",
       "      <td>106666</td>\n",
       "      <td></td>\n",
       "      <td>52</td>\n",
       "    </tr>\n",
       "    <tr>\n",
       "      <td>1</td>\n",
       "      <td>2510.21</td>\n",
       "      <td>106667</td>\n",
       "      <td></td>\n",
       "      <td>52</td>\n",
       "    </tr>\n",
       "  </tbody>\n",
       "</table>\n",
       "</div>"
      ],
      "text/plain": [
       "   BALANCE  CUSTID _ID TX_COUNT\n",
       "0  7756.56  106666           52\n",
       "1  2510.21  106667           52"
      ]
     },
     "metadata": {},
     "output_type": "display_data"
    },
    {
     "name": "stdout",
     "output_type": "stream",
     "text": [
      "\n",
      "Statement: 6: SELECT COUNT(*) FROM FOLDING.STOCK_TRANSACTIONS_DV\n",
      "Runtime ms: 136.99999451637268\n"
     ]
    },
    {
     "data": {
      "text/html": [
       "<div>\n",
       "<style scoped>\n",
       "    .dataframe tbody tr th:only-of-type {\n",
       "        vertical-align: middle;\n",
       "    }\n",
       "\n",
       "    .dataframe tbody tr th {\n",
       "        vertical-align: top;\n",
       "    }\n",
       "\n",
       "    .dataframe thead th {\n",
       "        text-align: right;\n",
       "    }\n",
       "</style>\n",
       "<table border=\"1\" class=\"dataframe\">\n",
       "  <thead>\n",
       "    <tr style=\"text-align: right;\">\n",
       "      <th></th>\n",
       "      <th>1</th>\n",
       "    </tr>\n",
       "  </thead>\n",
       "  <tbody>\n",
       "    <tr>\n",
       "      <td>0</td>\n",
       "      <td>614924</td>\n",
       "    </tr>\n",
       "  </tbody>\n",
       "</table>\n",
       "</div>"
      ],
      "text/plain": [
       "        1\n",
       "0  614924"
      ]
     },
     "metadata": {},
     "output_type": "display_data"
    },
    {
     "name": "stdout",
     "output_type": "stream",
     "text": [
      "\n",
      "Statement: 7: SELECT * FROM FOLDING.STOCK_TRANSACTIONS_DV FETCH FIRST 2 ROWS ONLY\n",
      "Runtime ms: 270.00001072883606\n"
     ]
    },
    {
     "data": {
      "text/html": [
       "<div>\n",
       "<style scoped>\n",
       "    .dataframe tbody tr th:only-of-type {\n",
       "        vertical-align: middle;\n",
       "    }\n",
       "\n",
       "    .dataframe tbody tr th {\n",
       "        vertical-align: top;\n",
       "    }\n",
       "\n",
       "    .dataframe thead th {\n",
       "        text-align: right;\n",
       "    }\n",
       "</style>\n",
       "<table border=\"1\" class=\"dataframe\">\n",
       "  <thead>\n",
       "    <tr style=\"text-align: right;\">\n",
       "      <th></th>\n",
       "      <th>QUANTITY</th>\n",
       "      <th>CUSTID</th>\n",
       "      <th>TX_NO</th>\n",
       "      <th>SYMBOL</th>\n",
       "      <th>_ID</th>\n",
       "      <th>TX_DATE</th>\n",
       "      <th>PRICE</th>\n",
       "    </tr>\n",
       "  </thead>\n",
       "  <tbody>\n",
       "    <tr>\n",
       "      <td>0</td>\n",
       "      <td>2</td>\n",
       "      <td>105437</td>\n",
       "      <td>352</td>\n",
       "      <td>UNH</td>\n",
       "      <td></td>\n",
       "      <td>2017-12-18</td>\n",
       "      <td>224.65</td>\n",
       "    </tr>\n",
       "    <tr>\n",
       "      <td>1</td>\n",
       "      <td>50</td>\n",
       "      <td>104098</td>\n",
       "      <td>355</td>\n",
       "      <td>VZ</td>\n",
       "      <td></td>\n",
       "      <td>2017-12-18</td>\n",
       "      <td>52.90</td>\n",
       "    </tr>\n",
       "  </tbody>\n",
       "</table>\n",
       "</div>"
      ],
      "text/plain": [
       "  QUANTITY  CUSTID TX_NO SYMBOL _ID     TX_DATE   PRICE\n",
       "0        2  105437   352    UNH      2017-12-18  224.65\n",
       "1       50  104098   355     VZ      2017-12-18   52.90"
      ]
     },
     "metadata": {},
     "output_type": "display_data"
    },
    {
     "name": "stdout",
     "output_type": "stream",
     "text": [
      "\n",
      "Statement: 8: -- Mongo DB\n",
      "SELECT COUNT(CUSTOMER_ID) FROM MONGO_ONPREM.CUSTOMER_CONTACT\n",
      "Runtime ms: 270.9999978542328\n"
     ]
    },
    {
     "data": {
      "text/html": [
       "<div>\n",
       "<style scoped>\n",
       "    .dataframe tbody tr th:only-of-type {\n",
       "        vertical-align: middle;\n",
       "    }\n",
       "\n",
       "    .dataframe tbody tr th {\n",
       "        vertical-align: top;\n",
       "    }\n",
       "\n",
       "    .dataframe thead th {\n",
       "        text-align: right;\n",
       "    }\n",
       "</style>\n",
       "<table border=\"1\" class=\"dataframe\">\n",
       "  <thead>\n",
       "    <tr style=\"text-align: right;\">\n",
       "      <th></th>\n",
       "      <th>1</th>\n",
       "    </tr>\n",
       "  </thead>\n",
       "  <tbody>\n",
       "    <tr>\n",
       "      <td>0</td>\n",
       "      <td>10000</td>\n",
       "    </tr>\n",
       "  </tbody>\n",
       "</table>\n",
       "</div>"
      ],
      "text/plain": [
       "       1\n",
       "0  10000"
      ]
     },
     "metadata": {},
     "output_type": "display_data"
    },
    {
     "name": "stdout",
     "output_type": "stream",
     "text": [
      "\n",
      "Statement: 9: SELECT * FROM MONGO_ONPREM.CUSTOMER_CONTACT FETCH FIRST 2 ROWS ONLY\n",
      "Runtime ms: 101.00000351667404\n"
     ]
    },
    {
     "data": {
      "text/html": [
       "<div>\n",
       "<style scoped>\n",
       "    .dataframe tbody tr th:only-of-type {\n",
       "        vertical-align: middle;\n",
       "    }\n",
       "\n",
       "    .dataframe tbody tr th {\n",
       "        vertical-align: top;\n",
       "    }\n",
       "\n",
       "    .dataframe thead th {\n",
       "        text-align: right;\n",
       "    }\n",
       "</style>\n",
       "<table border=\"1\" class=\"dataframe\">\n",
       "  <thead>\n",
       "    <tr style=\"text-align: right;\">\n",
       "      <th></th>\n",
       "      <th>CUSTOMER_ID</th>\n",
       "      <th>CITY</th>\n",
       "      <th>ZIPCODE</th>\n",
       "      <th>EMAIL</th>\n",
       "      <th>PHONE</th>\n",
       "      <th>STREET</th>\n",
       "      <th>STATE</th>\n",
       "    </tr>\n",
       "  </thead>\n",
       "  <tbody>\n",
       "    <tr>\n",
       "      <td>0</td>\n",
       "      <td>5E67E30C06A12ADB5AF39A01</td>\n",
       "      <td>Twin Falls</td>\n",
       "      <td>83301</td>\n",
       "      <td>Na.Wells@snailmail.com</td>\n",
       "      <td>388-588-8354</td>\n",
       "      <td>Prospect Street</td>\n",
       "      <td>ID</td>\n",
       "    </tr>\n",
       "    <tr>\n",
       "      <td>1</td>\n",
       "      <td>5E67E30C06A12ADB5AF39A02</td>\n",
       "      <td>Gallup</td>\n",
       "      <td>87301</td>\n",
       "      <td>Jon.Rasmussen@yetii.com</td>\n",
       "      <td>780-259-3616</td>\n",
       "      <td>Ridge Avenue</td>\n",
       "      <td>NM</td>\n",
       "    </tr>\n",
       "  </tbody>\n",
       "</table>\n",
       "</div>"
      ],
      "text/plain": [
       "                CUSTOMER_ID        CITY ZIPCODE                    EMAIL  \\\n",
       "0  5E67E30C06A12ADB5AF39A01  Twin Falls   83301   Na.Wells@snailmail.com   \n",
       "1  5E67E30C06A12ADB5AF39A02      Gallup   87301  Jon.Rasmussen@yetii.com   \n",
       "\n",
       "          PHONE           STREET STATE  \n",
       "0  388-588-8354  Prospect Street    ID  \n",
       "1  780-259-3616     Ridge Avenue    NM  "
      ]
     },
     "metadata": {},
     "output_type": "display_data"
    },
    {
     "name": "stdout",
     "output_type": "stream",
     "text": [
      "\n",
      "Statement: 10: SELECT COUNT(CUSTOMER_ID) FROM MONGO_ONPREM.CUSTOMER_IDENTITY\n",
      "Runtime ms: 116.99999868869781\n"
     ]
    },
    {
     "data": {
      "text/html": [
       "<div>\n",
       "<style scoped>\n",
       "    .dataframe tbody tr th:only-of-type {\n",
       "        vertical-align: middle;\n",
       "    }\n",
       "\n",
       "    .dataframe tbody tr th {\n",
       "        vertical-align: top;\n",
       "    }\n",
       "\n",
       "    .dataframe thead th {\n",
       "        text-align: right;\n",
       "    }\n",
       "</style>\n",
       "<table border=\"1\" class=\"dataframe\">\n",
       "  <thead>\n",
       "    <tr style=\"text-align: right;\">\n",
       "      <th></th>\n",
       "      <th>1</th>\n",
       "    </tr>\n",
       "  </thead>\n",
       "  <tbody>\n",
       "    <tr>\n",
       "      <td>0</td>\n",
       "      <td>10000</td>\n",
       "    </tr>\n",
       "  </tbody>\n",
       "</table>\n",
       "</div>"
      ],
      "text/plain": [
       "       1\n",
       "0  10000"
      ]
     },
     "metadata": {},
     "output_type": "display_data"
    },
    {
     "name": "stdout",
     "output_type": "stream",
     "text": [
      "\n",
      "Statement: 11: SELECT * FROM MONGO_ONPREM.CUSTOMER_IDENTITY FETCH FIRST 2 ROWS ONLY\n",
      "Runtime ms: 83.99999886751175\n"
     ]
    },
    {
     "data": {
      "text/html": [
       "<div>\n",
       "<style scoped>\n",
       "    .dataframe tbody tr th:only-of-type {\n",
       "        vertical-align: middle;\n",
       "    }\n",
       "\n",
       "    .dataframe tbody tr th {\n",
       "        vertical-align: top;\n",
       "    }\n",
       "\n",
       "    .dataframe thead th {\n",
       "        text-align: right;\n",
       "    }\n",
       "</style>\n",
       "<table border=\"1\" class=\"dataframe\">\n",
       "  <thead>\n",
       "    <tr style=\"text-align: right;\">\n",
       "      <th></th>\n",
       "      <th>CUSTOMER_ID</th>\n",
       "      <th>LASTNAME</th>\n",
       "      <th>BIRTHDATE</th>\n",
       "      <th>FIRSTNAME</th>\n",
       "    </tr>\n",
       "  </thead>\n",
       "  <tbody>\n",
       "    <tr>\n",
       "      <td>0</td>\n",
       "      <td>5E67E30C06A12ADB5AF39A01</td>\n",
       "      <td>Wells</td>\n",
       "      <td>1959-03-11</td>\n",
       "      <td>Nancy</td>\n",
       "    </tr>\n",
       "    <tr>\n",
       "      <td>1</td>\n",
       "      <td>5E67E30C06A12ADB5AF39A02</td>\n",
       "      <td>Rasmussen</td>\n",
       "      <td>1980-09-08</td>\n",
       "      <td>Jonathan</td>\n",
       "    </tr>\n",
       "  </tbody>\n",
       "</table>\n",
       "</div>"
      ],
      "text/plain": [
       "                CUSTOMER_ID   LASTNAME   BIRTHDATE FIRSTNAME\n",
       "0  5E67E30C06A12ADB5AF39A01      Wells  1959-03-11     Nancy\n",
       "1  5E67E30C06A12ADB5AF39A02  Rasmussen  1980-09-08  Jonathan"
      ]
     },
     "metadata": {},
     "output_type": "display_data"
    },
    {
     "name": "stdout",
     "output_type": "stream",
     "text": [
      "\n",
      "Statement: 12: SELECT COUNT(CUSTOMER_ID) FROM MONGO_ONPREM.CUSTOMER_PAYMENT\n",
      "Runtime ms: 234.99999940395355\n"
     ]
    },
    {
     "data": {
      "text/html": [
       "<div>\n",
       "<style scoped>\n",
       "    .dataframe tbody tr th:only-of-type {\n",
       "        vertical-align: middle;\n",
       "    }\n",
       "\n",
       "    .dataframe tbody tr th {\n",
       "        vertical-align: top;\n",
       "    }\n",
       "\n",
       "    .dataframe thead th {\n",
       "        text-align: right;\n",
       "    }\n",
       "</style>\n",
       "<table border=\"1\" class=\"dataframe\">\n",
       "  <thead>\n",
       "    <tr style=\"text-align: right;\">\n",
       "      <th></th>\n",
       "      <th>1</th>\n",
       "    </tr>\n",
       "  </thead>\n",
       "  <tbody>\n",
       "    <tr>\n",
       "      <td>0</td>\n",
       "      <td>10000</td>\n",
       "    </tr>\n",
       "  </tbody>\n",
       "</table>\n",
       "</div>"
      ],
      "text/plain": [
       "       1\n",
       "0  10000"
      ]
     },
     "metadata": {},
     "output_type": "display_data"
    },
    {
     "name": "stdout",
     "output_type": "stream",
     "text": [
      "\n",
      "Statement: 13: SELECT * FROM MONGO_ONPREM.CUSTOMER_PAYMENT FETCH FIRST 2 ROWS ONLY\n",
      "Runtime ms: 90.99999815225601\n"
     ]
    },
    {
     "data": {
      "text/html": [
       "<div>\n",
       "<style scoped>\n",
       "    .dataframe tbody tr th:only-of-type {\n",
       "        vertical-align: middle;\n",
       "    }\n",
       "\n",
       "    .dataframe tbody tr th {\n",
       "        vertical-align: top;\n",
       "    }\n",
       "\n",
       "    .dataframe thead th {\n",
       "        text-align: right;\n",
       "    }\n",
       "</style>\n",
       "<table border=\"1\" class=\"dataframe\">\n",
       "  <thead>\n",
       "    <tr style=\"text-align: right;\">\n",
       "      <th></th>\n",
       "      <th>CUSTOMER_ID</th>\n",
       "      <th>CARD_TYPE</th>\n",
       "      <th>CARD_NO</th>\n",
       "    </tr>\n",
       "  </thead>\n",
       "  <tbody>\n",
       "    <tr>\n",
       "      <td>0</td>\n",
       "      <td>5E67E30C06A12ADB5AF39A01</td>\n",
       "      <td>PKUP</td>\n",
       "      <td>9667-1981-6317-6150</td>\n",
       "    </tr>\n",
       "    <tr>\n",
       "      <td>1</td>\n",
       "      <td>5E67E30C06A12ADB5AF39A02</td>\n",
       "      <td>VASA</td>\n",
       "      <td>3088-8574-9101-6163</td>\n",
       "    </tr>\n",
       "  </tbody>\n",
       "</table>\n",
       "</div>"
      ],
      "text/plain": [
       "                CUSTOMER_ID CARD_TYPE              CARD_NO\n",
       "0  5E67E30C06A12ADB5AF39A01      PKUP  9667-1981-6317-6150\n",
       "1  5E67E30C06A12ADB5AF39A02      VASA  3088-8574-9101-6163"
      ]
     },
     "metadata": {},
     "output_type": "display_data"
    },
    {
     "name": "stdout",
     "output_type": "stream",
     "text": [
      "\n",
      "Statement: 14: -- Views\n",
      "SELECT COUNT(*) FROM TRADING.MOVING_AVERAGE\n",
      "Runtime ms: 256.00001215934753\n"
     ]
    },
    {
     "data": {
      "text/html": [
       "<div>\n",
       "<style scoped>\n",
       "    .dataframe tbody tr th:only-of-type {\n",
       "        vertical-align: middle;\n",
       "    }\n",
       "\n",
       "    .dataframe tbody tr th {\n",
       "        vertical-align: top;\n",
       "    }\n",
       "\n",
       "    .dataframe thead th {\n",
       "        text-align: right;\n",
       "    }\n",
       "</style>\n",
       "<table border=\"1\" class=\"dataframe\">\n",
       "  <thead>\n",
       "    <tr style=\"text-align: right;\">\n",
       "      <th></th>\n",
       "      <th>1</th>\n",
       "    </tr>\n",
       "  </thead>\n",
       "  <tbody>\n",
       "    <tr>\n",
       "      <td>0</td>\n",
       "      <td>248</td>\n",
       "    </tr>\n",
       "  </tbody>\n",
       "</table>\n",
       "</div>"
      ],
      "text/plain": [
       "     1\n",
       "0  248"
      ]
     },
     "metadata": {},
     "output_type": "display_data"
    },
    {
     "name": "stdout",
     "output_type": "stream",
     "text": [
      "\n",
      "Statement: 15: SELECT * FROM TRADING.MOVING_AVERAGE FETCH FIRST 2 ROWS ONLY\n",
      "Runtime ms: 312.00000643730164\n"
     ]
    },
    {
     "data": {
      "text/html": [
       "<div>\n",
       "<style scoped>\n",
       "    .dataframe tbody tr th:only-of-type {\n",
       "        vertical-align: middle;\n",
       "    }\n",
       "\n",
       "    .dataframe tbody tr th {\n",
       "        vertical-align: top;\n",
       "    }\n",
       "\n",
       "    .dataframe thead th {\n",
       "        text-align: right;\n",
       "    }\n",
       "</style>\n",
       "<table border=\"1\" class=\"dataframe\">\n",
       "  <thead>\n",
       "    <tr style=\"text-align: right;\">\n",
       "      <th></th>\n",
       "      <th>WEEK</th>\n",
       "      <th>OPEN</th>\n",
       "      <th>MOVING_AVG</th>\n",
       "    </tr>\n",
       "  </thead>\n",
       "  <tbody>\n",
       "    <tr>\n",
       "      <td>0</td>\n",
       "      <td>51</td>\n",
       "      <td>174.87</td>\n",
       "      <td>172.977500000000000000000000</td>\n",
       "    </tr>\n",
       "    <tr>\n",
       "      <td>1</td>\n",
       "      <td>51</td>\n",
       "      <td>174.17</td>\n",
       "      <td>173.267058823529411764705882</td>\n",
       "    </tr>\n",
       "  </tbody>\n",
       "</table>\n",
       "</div>"
      ],
      "text/plain": [
       "  WEEK    OPEN                    MOVING_AVG\n",
       "0   51  174.87  172.977500000000000000000000\n",
       "1   51  174.17  173.267058823529411764705882"
      ]
     },
     "metadata": {},
     "output_type": "display_data"
    },
    {
     "name": "stdout",
     "output_type": "stream",
     "text": [
      "\n",
      "Statement: 16: SELECT COUNT(*) FROM TRADING.VOLUME\n",
      "Runtime ms: 331.9999873638153\n"
     ]
    },
    {
     "data": {
      "text/html": [
       "<div>\n",
       "<style scoped>\n",
       "    .dataframe tbody tr th:only-of-type {\n",
       "        vertical-align: middle;\n",
       "    }\n",
       "\n",
       "    .dataframe tbody tr th {\n",
       "        vertical-align: top;\n",
       "    }\n",
       "\n",
       "    .dataframe thead th {\n",
       "        text-align: right;\n",
       "    }\n",
       "</style>\n",
       "<table border=\"1\" class=\"dataframe\">\n",
       "  <thead>\n",
       "    <tr style=\"text-align: right;\">\n",
       "      <th></th>\n",
       "      <th>1</th>\n",
       "    </tr>\n",
       "  </thead>\n",
       "  <tbody>\n",
       "    <tr>\n",
       "      <td>0</td>\n",
       "      <td>15</td>\n",
       "    </tr>\n",
       "  </tbody>\n",
       "</table>\n",
       "</div>"
      ],
      "text/plain": [
       "    1\n",
       "0  15"
      ]
     },
     "metadata": {},
     "output_type": "display_data"
    },
    {
     "name": "stdout",
     "output_type": "stream",
     "text": [
      "\n",
      "Statement: 17: SELECT * FROM TRADING.VOLUME FETCH FIRST 2 ROWS ONLY\n",
      "Runtime ms: 221.00000083446503\n"
     ]
    },
    {
     "data": {
      "text/html": [
       "<div>\n",
       "<style scoped>\n",
       "    .dataframe tbody tr th:only-of-type {\n",
       "        vertical-align: middle;\n",
       "    }\n",
       "\n",
       "    .dataframe tbody tr th {\n",
       "        vertical-align: top;\n",
       "    }\n",
       "\n",
       "    .dataframe thead th {\n",
       "        text-align: right;\n",
       "    }\n",
       "</style>\n",
       "<table border=\"1\" class=\"dataframe\">\n",
       "  <thead>\n",
       "    <tr style=\"text-align: right;\">\n",
       "      <th></th>\n",
       "      <th>SYMBOL</th>\n",
       "      <th>DATE</th>\n",
       "      <th>VOLUME</th>\n",
       "    </tr>\n",
       "  </thead>\n",
       "  <tbody>\n",
       "    <tr>\n",
       "      <td>0</td>\n",
       "      <td>MSFT</td>\n",
       "      <td>5</td>\n",
       "      <td>27</td>\n",
       "    </tr>\n",
       "    <tr>\n",
       "      <td>1</td>\n",
       "      <td>MSFT</td>\n",
       "      <td>6</td>\n",
       "      <td>24</td>\n",
       "    </tr>\n",
       "  </tbody>\n",
       "</table>\n",
       "</div>"
      ],
      "text/plain": [
       "  SYMBOL DATE VOLUME\n",
       "0   MSFT    5     27\n",
       "1   MSFT    6     24"
      ]
     },
     "metadata": {},
     "output_type": "display_data"
    },
    {
     "name": "stdout",
     "output_type": "stream",
     "text": [
      "\n",
      "Statement: 18: SELECT COUNT(*) FROM TRADING.THREEPERCENT\n",
      "Runtime ms: 412.00000047683716\n"
     ]
    },
    {
     "data": {
      "text/html": [
       "<div>\n",
       "<style scoped>\n",
       "    .dataframe tbody tr th:only-of-type {\n",
       "        vertical-align: middle;\n",
       "    }\n",
       "\n",
       "    .dataframe tbody tr th {\n",
       "        vertical-align: top;\n",
       "    }\n",
       "\n",
       "    .dataframe thead th {\n",
       "        text-align: right;\n",
       "    }\n",
       "</style>\n",
       "<table border=\"1\" class=\"dataframe\">\n",
       "  <thead>\n",
       "    <tr style=\"text-align: right;\">\n",
       "      <th></th>\n",
       "      <th>1</th>\n",
       "    </tr>\n",
       "  </thead>\n",
       "  <tbody>\n",
       "    <tr>\n",
       "      <td>0</td>\n",
       "      <td>10</td>\n",
       "    </tr>\n",
       "  </tbody>\n",
       "</table>\n",
       "</div>"
      ],
      "text/plain": [
       "    1\n",
       "0  10"
      ]
     },
     "metadata": {},
     "output_type": "display_data"
    },
    {
     "name": "stdout",
     "output_type": "stream",
     "text": [
      "\n",
      "Statement: 19: SELECT * FROM TRADING.THREEPERCENT FETCH FIRST 2 ROWS ONLY\n",
      "Runtime ms: 1235.9999418258667\n"
     ]
    },
    {
     "data": {
      "text/html": [
       "<div>\n",
       "<style scoped>\n",
       "    .dataframe tbody tr th:only-of-type {\n",
       "        vertical-align: middle;\n",
       "    }\n",
       "\n",
       "    .dataframe tbody tr th {\n",
       "        vertical-align: top;\n",
       "    }\n",
       "\n",
       "    .dataframe thead th {\n",
       "        text-align: right;\n",
       "    }\n",
       "</style>\n",
       "<table border=\"1\" class=\"dataframe\">\n",
       "  <thead>\n",
       "    <tr style=\"text-align: right;\">\n",
       "      <th></th>\n",
       "      <th>SYMBOL</th>\n",
       "      <th>PURCHASES</th>\n",
       "    </tr>\n",
       "  </thead>\n",
       "  <tbody>\n",
       "    <tr>\n",
       "      <td>0</td>\n",
       "      <td>AAPL</td>\n",
       "      <td>39166795196.00</td>\n",
       "    </tr>\n",
       "    <tr>\n",
       "      <td>1</td>\n",
       "      <td>BA</td>\n",
       "      <td>5192502109.00</td>\n",
       "    </tr>\n",
       "  </tbody>\n",
       "</table>\n",
       "</div>"
      ],
      "text/plain": [
       "  SYMBOL       PURCHASES\n",
       "0   AAPL  39166795196.00\n",
       "1     BA   5192502109.00"
      ]
     },
     "metadata": {},
     "output_type": "display_data"
    },
    {
     "name": "stdout",
     "output_type": "stream",
     "text": [
      "\n",
      "Statement: 20: SELECT COUNT(*) FROM TRADING.TRANSBYCUSTOMER\n",
      "Runtime ms: 105.99999874830246\n"
     ]
    },
    {
     "data": {
      "text/html": [
       "<div>\n",
       "<style scoped>\n",
       "    .dataframe tbody tr th:only-of-type {\n",
       "        vertical-align: middle;\n",
       "    }\n",
       "\n",
       "    .dataframe tbody tr th {\n",
       "        vertical-align: top;\n",
       "    }\n",
       "\n",
       "    .dataframe thead th {\n",
       "        text-align: right;\n",
       "    }\n",
       "</style>\n",
       "<table border=\"1\" class=\"dataframe\">\n",
       "  <thead>\n",
       "    <tr style=\"text-align: right;\">\n",
       "      <th></th>\n",
       "      <th>1</th>\n",
       "    </tr>\n",
       "  </thead>\n",
       "  <tbody>\n",
       "    <tr>\n",
       "      <td>0</td>\n",
       "      <td>48</td>\n",
       "    </tr>\n",
       "  </tbody>\n",
       "</table>\n",
       "</div>"
      ],
      "text/plain": [
       "    1\n",
       "0  48"
      ]
     },
     "metadata": {},
     "output_type": "display_data"
    },
    {
     "name": "stdout",
     "output_type": "stream",
     "text": [
      "\n",
      "Statement: 21: SELECT * FROM TRADING.TRANSBYCUSTOMER FETCH FIRST 2 ROWS ONLY\n",
      "Runtime ms: 108.99999737739563\n"
     ]
    },
    {
     "data": {
      "text/html": [
       "<div>\n",
       "<style scoped>\n",
       "    .dataframe tbody tr th:only-of-type {\n",
       "        vertical-align: middle;\n",
       "    }\n",
       "\n",
       "    .dataframe tbody tr th {\n",
       "        vertical-align: top;\n",
       "    }\n",
       "\n",
       "    .dataframe thead th {\n",
       "        text-align: right;\n",
       "    }\n",
       "</style>\n",
       "<table border=\"1\" class=\"dataframe\">\n",
       "  <thead>\n",
       "    <tr style=\"text-align: right;\">\n",
       "      <th></th>\n",
       "      <th>QUANTITY</th>\n",
       "      <th>CUSTID</th>\n",
       "      <th>TX_NO</th>\n",
       "      <th>SYMBOL</th>\n",
       "      <th>_ID</th>\n",
       "      <th>TX_DATE</th>\n",
       "      <th>PRICE</th>\n",
       "    </tr>\n",
       "  </thead>\n",
       "  <tbody>\n",
       "    <tr>\n",
       "      <td>0</td>\n",
       "      <td>70</td>\n",
       "      <td>100000</td>\n",
       "      <td>34403</td>\n",
       "      <td>DWDP</td>\n",
       "      <td></td>\n",
       "      <td>2018-01-12</td>\n",
       "      <td>75.12</td>\n",
       "    </tr>\n",
       "    <tr>\n",
       "      <td>1</td>\n",
       "      <td>8</td>\n",
       "      <td>100000</td>\n",
       "      <td>39063</td>\n",
       "      <td>DIS</td>\n",
       "      <td></td>\n",
       "      <td>2018-01-17</td>\n",
       "      <td>111.65</td>\n",
       "    </tr>\n",
       "  </tbody>\n",
       "</table>\n",
       "</div>"
      ],
      "text/plain": [
       "  QUANTITY  CUSTID  TX_NO SYMBOL _ID     TX_DATE   PRICE\n",
       "0       70  100000  34403   DWDP      2018-01-12   75.12\n",
       "1        8  100000  39063    DIS      2018-01-17  111.65"
      ]
     },
     "metadata": {},
     "output_type": "display_data"
    },
    {
     "name": "stdout",
     "output_type": "stream",
     "text": [
      "\n",
      "Statement: 22: SELECT COUNT(*) FROM TRADING.TOPBOUGHTSOLD\n",
      "Runtime ms: 363.0000054836273\n"
     ]
    },
    {
     "data": {
      "text/html": [
       "<div>\n",
       "<style scoped>\n",
       "    .dataframe tbody tr th:only-of-type {\n",
       "        vertical-align: middle;\n",
       "    }\n",
       "\n",
       "    .dataframe tbody tr th {\n",
       "        vertical-align: top;\n",
       "    }\n",
       "\n",
       "    .dataframe thead th {\n",
       "        text-align: right;\n",
       "    }\n",
       "</style>\n",
       "<table border=\"1\" class=\"dataframe\">\n",
       "  <thead>\n",
       "    <tr style=\"text-align: right;\">\n",
       "      <th></th>\n",
       "      <th>1</th>\n",
       "    </tr>\n",
       "  </thead>\n",
       "  <tbody>\n",
       "    <tr>\n",
       "      <td>0</td>\n",
       "      <td>30</td>\n",
       "    </tr>\n",
       "  </tbody>\n",
       "</table>\n",
       "</div>"
      ],
      "text/plain": [
       "    1\n",
       "0  30"
      ]
     },
     "metadata": {},
     "output_type": "display_data"
    },
    {
     "name": "stdout",
     "output_type": "stream",
     "text": [
      "\n",
      "Statement: 23: SELECT * FROM TRADING.TOPBOUGHTSOLD FETCH FIRST 2 ROWS ONLY\n",
      "Runtime ms: 340.0000035762787\n"
     ]
    },
    {
     "data": {
      "text/html": [
       "<div>\n",
       "<style scoped>\n",
       "    .dataframe tbody tr th:only-of-type {\n",
       "        vertical-align: middle;\n",
       "    }\n",
       "\n",
       "    .dataframe tbody tr th {\n",
       "        vertical-align: top;\n",
       "    }\n",
       "\n",
       "    .dataframe thead th {\n",
       "        text-align: right;\n",
       "    }\n",
       "</style>\n",
       "<table border=\"1\" class=\"dataframe\">\n",
       "  <thead>\n",
       "    <tr style=\"text-align: right;\">\n",
       "      <th></th>\n",
       "      <th>SYMBOL</th>\n",
       "      <th>BOUGHT</th>\n",
       "      <th>SOLD</th>\n",
       "    </tr>\n",
       "  </thead>\n",
       "  <tbody>\n",
       "    <tr>\n",
       "      <td>0</td>\n",
       "      <td>AAPL</td>\n",
       "      <td>112983</td>\n",
       "      <td>65659</td>\n",
       "    </tr>\n",
       "    <tr>\n",
       "      <td>1</td>\n",
       "      <td>AXP</td>\n",
       "      <td>291369</td>\n",
       "      <td>168279</td>\n",
       "    </tr>\n",
       "  </tbody>\n",
       "</table>\n",
       "</div>"
      ],
      "text/plain": [
       "  SYMBOL  BOUGHT    SOLD\n",
       "0   AAPL  112983   65659\n",
       "1    AXP  291369  168279"
      ]
     },
     "metadata": {},
     "output_type": "display_data"
    },
    {
     "name": "stdout",
     "output_type": "stream",
     "text": [
      "\n",
      "Statement: 24: SELECT COUNT(*) FROM TRADING.TOPFIVE\n",
      "Runtime ms: 94.9999988079071\n"
     ]
    },
    {
     "data": {
      "text/html": [
       "<div>\n",
       "<style scoped>\n",
       "    .dataframe tbody tr th:only-of-type {\n",
       "        vertical-align: middle;\n",
       "    }\n",
       "\n",
       "    .dataframe tbody tr th {\n",
       "        vertical-align: top;\n",
       "    }\n",
       "\n",
       "    .dataframe thead th {\n",
       "        text-align: right;\n",
       "    }\n",
       "</style>\n",
       "<table border=\"1\" class=\"dataframe\">\n",
       "  <thead>\n",
       "    <tr style=\"text-align: right;\">\n",
       "      <th></th>\n",
       "      <th>1</th>\n",
       "    </tr>\n",
       "  </thead>\n",
       "  <tbody>\n",
       "    <tr>\n",
       "      <td>0</td>\n",
       "      <td>10000</td>\n",
       "    </tr>\n",
       "  </tbody>\n",
       "</table>\n",
       "</div>"
      ],
      "text/plain": [
       "       1\n",
       "0  10000"
      ]
     },
     "metadata": {},
     "output_type": "display_data"
    },
    {
     "name": "stdout",
     "output_type": "stream",
     "text": [
      "\n",
      "Statement: 25: SELECT * FROM TRADING.TOPFIVE FETCH FIRST 2 ROWS ONLY\n",
      "Runtime ms: 275.0000059604645\n"
     ]
    },
    {
     "data": {
      "text/html": [
       "<div>\n",
       "<style scoped>\n",
       "    .dataframe tbody tr th:only-of-type {\n",
       "        vertical-align: middle;\n",
       "    }\n",
       "\n",
       "    .dataframe tbody tr th {\n",
       "        vertical-align: top;\n",
       "    }\n",
       "\n",
       "    .dataframe thead th {\n",
       "        text-align: right;\n",
       "    }\n",
       "</style>\n",
       "<table border=\"1\" class=\"dataframe\">\n",
       "  <thead>\n",
       "    <tr style=\"text-align: right;\">\n",
       "      <th></th>\n",
       "      <th>CUSTID</th>\n",
       "      <th>BALANCE</th>\n",
       "    </tr>\n",
       "  </thead>\n",
       "  <tbody>\n",
       "    <tr>\n",
       "      <td>0</td>\n",
       "      <td>103333</td>\n",
       "      <td>39871.79</td>\n",
       "    </tr>\n",
       "    <tr>\n",
       "      <td>1</td>\n",
       "      <td>103334</td>\n",
       "      <td>-3966.53</td>\n",
       "    </tr>\n",
       "  </tbody>\n",
       "</table>\n",
       "</div>"
      ],
      "text/plain": [
       "   CUSTID   BALANCE\n",
       "0  103333  39871.79\n",
       "1  103334  -3966.53"
      ]
     },
     "metadata": {},
     "output_type": "display_data"
    },
    {
     "name": "stdout",
     "output_type": "stream",
     "text": [
      "\n",
      "Statement: 26: SELECT COUNT(*) FROM TRADING.BOTTOMFIVE\n",
      "Runtime ms: 118.00000071525574\n"
     ]
    },
    {
     "data": {
      "text/html": [
       "<div>\n",
       "<style scoped>\n",
       "    .dataframe tbody tr th:only-of-type {\n",
       "        vertical-align: middle;\n",
       "    }\n",
       "\n",
       "    .dataframe tbody tr th {\n",
       "        vertical-align: top;\n",
       "    }\n",
       "\n",
       "    .dataframe thead th {\n",
       "        text-align: right;\n",
       "    }\n",
       "</style>\n",
       "<table border=\"1\" class=\"dataframe\">\n",
       "  <thead>\n",
       "    <tr style=\"text-align: right;\">\n",
       "      <th></th>\n",
       "      <th>1</th>\n",
       "    </tr>\n",
       "  </thead>\n",
       "  <tbody>\n",
       "    <tr>\n",
       "      <td>0</td>\n",
       "      <td>6667</td>\n",
       "    </tr>\n",
       "  </tbody>\n",
       "</table>\n",
       "</div>"
      ],
      "text/plain": [
       "      1\n",
       "0  6667"
      ]
     },
     "metadata": {},
     "output_type": "display_data"
    },
    {
     "name": "stdout",
     "output_type": "stream",
     "text": [
      "\n",
      "Statement: 27: SELECT * FROM TRADING.BOTTOMFIVE FETCH FIRST 2 ROWS ONLY\n",
      "Runtime ms: 180.00000715255737\n"
     ]
    },
    {
     "data": {
      "text/html": [
       "<div>\n",
       "<style scoped>\n",
       "    .dataframe tbody tr th:only-of-type {\n",
       "        vertical-align: middle;\n",
       "    }\n",
       "\n",
       "    .dataframe tbody tr th {\n",
       "        vertical-align: top;\n",
       "    }\n",
       "\n",
       "    .dataframe thead th {\n",
       "        text-align: right;\n",
       "    }\n",
       "</style>\n",
       "<table border=\"1\" class=\"dataframe\">\n",
       "  <thead>\n",
       "    <tr style=\"text-align: right;\">\n",
       "      <th></th>\n",
       "      <th>CUSTID</th>\n",
       "      <th>BALANCE</th>\n",
       "    </tr>\n",
       "  </thead>\n",
       "  <tbody>\n",
       "    <tr>\n",
       "      <td>0</td>\n",
       "      <td>103333</td>\n",
       "      <td>39871.79</td>\n",
       "    </tr>\n",
       "    <tr>\n",
       "      <td>1</td>\n",
       "      <td>103334</td>\n",
       "      <td>-3966.53</td>\n",
       "    </tr>\n",
       "  </tbody>\n",
       "</table>\n",
       "</div>"
      ],
      "text/plain": [
       "   CUSTID   BALANCE\n",
       "0  103333  39871.79\n",
       "1  103334  -3966.53"
      ]
     },
     "metadata": {},
     "output_type": "display_data"
    },
    {
     "name": "stdout",
     "output_type": "stream",
     "text": [
      "\n",
      "Statement: 28: SELECT COUNT(*) FROM TRADING.OHIO\n",
      "Runtime ms: 11916.999816894531\n"
     ]
    },
    {
     "data": {
      "text/html": [
       "<div>\n",
       "<style scoped>\n",
       "    .dataframe tbody tr th:only-of-type {\n",
       "        vertical-align: middle;\n",
       "    }\n",
       "\n",
       "    .dataframe tbody tr th {\n",
       "        vertical-align: top;\n",
       "    }\n",
       "\n",
       "    .dataframe thead th {\n",
       "        text-align: right;\n",
       "    }\n",
       "</style>\n",
       "<table border=\"1\" class=\"dataframe\">\n",
       "  <thead>\n",
       "    <tr style=\"text-align: right;\">\n",
       "      <th></th>\n",
       "      <th>1</th>\n",
       "    </tr>\n",
       "  </thead>\n",
       "  <tbody>\n",
       "    <tr>\n",
       "      <td>0</td>\n",
       "      <td>49</td>\n",
       "    </tr>\n",
       "  </tbody>\n",
       "</table>\n",
       "</div>"
      ],
      "text/plain": [
       "    1\n",
       "0  49"
      ]
     },
     "metadata": {},
     "output_type": "display_data"
    },
    {
     "name": "stdout",
     "output_type": "stream",
     "text": [
      "\n",
      "Statement: 29: SELECT * FROM TRADING.OHIO FETCH FIRST 2 ROWS ONLY\n",
      "Runtime ms: 1409.999966621399\n"
     ]
    },
    {
     "data": {
      "text/html": [
       "<div>\n",
       "<style scoped>\n",
       "    .dataframe tbody tr th:only-of-type {\n",
       "        vertical-align: middle;\n",
       "    }\n",
       "\n",
       "    .dataframe tbody tr th {\n",
       "        vertical-align: top;\n",
       "    }\n",
       "\n",
       "    .dataframe thead th {\n",
       "        text-align: right;\n",
       "    }\n",
       "</style>\n",
       "<table border=\"1\" class=\"dataframe\">\n",
       "  <thead>\n",
       "    <tr style=\"text-align: right;\">\n",
       "      <th></th>\n",
       "      <th>LASTNAME</th>\n",
       "      <th>TOTAL</th>\n",
       "    </tr>\n",
       "  </thead>\n",
       "  <tbody>\n",
       "    <tr>\n",
       "      <td>0</td>\n",
       "      <td>Boone</td>\n",
       "      <td>2098.25</td>\n",
       "    </tr>\n",
       "    <tr>\n",
       "      <td>1</td>\n",
       "      <td>Burgess</td>\n",
       "      <td>1565.16</td>\n",
       "    </tr>\n",
       "  </tbody>\n",
       "</table>\n",
       "</div>"
      ],
      "text/plain": [
       "  LASTNAME    TOTAL\n",
       "0    Boone  2098.25\n",
       "1  Burgess  1565.16"
      ]
     },
     "metadata": {},
     "output_type": "display_data"
    },
    {
     "name": "stdout",
     "output_type": "stream",
     "text": [
      "\n"
     ]
    }
   ],
   "source": [
    "# Test that the existing views all work\n",
    "sqlText = \\\n",
    "'''\n",
    "-- zOS VSAM\n",
    "SELECT COUNT(*) FROM DVDEMO.STOCK_SYMBOLS;\n",
    "SELECT * FROM DVDEMO.STOCK_SYMBOLS FETCH FIRST 2 ROWS ONLY;\n",
    "\n",
    "-- Folded Virtual Tables\n",
    "SELECT COUNT(*) FROM FOLDING.STOCK_HISTORY;\n",
    "SELECT * FROM FOLDING.STOCK_HISTORY FETCH FIRST 2 ROWS ONLY;\n",
    "SELECT COUNT(*) FROM FOLDING.ACCOUNTS_DV;\n",
    "SELECT * FROM FOLDING.ACCOUNTS_DV FETCH FIRST 2 ROWS ONLY;\n",
    "SELECT COUNT(*) FROM FOLDING.STOCK_TRANSACTIONS_DV;\n",
    "SELECT * FROM FOLDING.STOCK_TRANSACTIONS_DV FETCH FIRST 2 ROWS ONLY;\n",
    "\n",
    "-- Mongo DB\n",
    "SELECT COUNT(CUSTOMER_ID) FROM MONGO_ONPREM.CUSTOMER_CONTACT;\n",
    "SELECT * FROM MONGO_ONPREM.CUSTOMER_CONTACT FETCH FIRST 2 ROWS ONLY;\n",
    "SELECT COUNT(CUSTOMER_ID) FROM MONGO_ONPREM.CUSTOMER_IDENTITY;\n",
    "SELECT * FROM MONGO_ONPREM.CUSTOMER_IDENTITY FETCH FIRST 2 ROWS ONLY;\n",
    "SELECT COUNT(CUSTOMER_ID) FROM MONGO_ONPREM.CUSTOMER_PAYMENT;\n",
    "SELECT * FROM MONGO_ONPREM.CUSTOMER_PAYMENT FETCH FIRST 2 ROWS ONLY;\n",
    "\n",
    "-- Views\n",
    "SELECT COUNT(*) FROM TRADING.MOVING_AVERAGE;\n",
    "SELECT * FROM TRADING.MOVING_AVERAGE FETCH FIRST 2 ROWS ONLY;\n",
    "SELECT COUNT(*) FROM TRADING.VOLUME;\n",
    "SELECT * FROM TRADING.VOLUME FETCH FIRST 2 ROWS ONLY;\n",
    "SELECT COUNT(*) FROM TRADING.THREEPERCENT;\n",
    "SELECT * FROM TRADING.THREEPERCENT FETCH FIRST 2 ROWS ONLY;\n",
    "SELECT COUNT(*) FROM TRADING.TRANSBYCUSTOMER;\n",
    "SELECT * FROM TRADING.TRANSBYCUSTOMER FETCH FIRST 2 ROWS ONLY;\n",
    "SELECT COUNT(*) FROM TRADING.TOPBOUGHTSOLD;\n",
    "SELECT * FROM TRADING.TOPBOUGHTSOLD FETCH FIRST 2 ROWS ONLY;\n",
    "SELECT COUNT(*) FROM TRADING.TOPFIVE;\n",
    "SELECT * FROM TRADING.TOPFIVE FETCH FIRST 2 ROWS ONLY;\n",
    "SELECT COUNT(*) FROM TRADING.BOTTOMFIVE;\n",
    "SELECT * FROM TRADING.BOTTOMFIVE FETCH FIRST 2 ROWS ONLY;\n",
    "SELECT COUNT(*) FROM TRADING.OHIO;\n",
    "SELECT * FROM TRADING.OHIO FETCH FIRST 2 ROWS ONLY;\n",
    "'''\n",
    "\n",
    "CPDAPI.displayResults(CPDAPI.runScript(sqlText))"
   ]
  },
  {
   "cell_type": "markdown",
   "metadata": {},
   "source": [
    "## Lab Teardown"
   ]
  },
  {
   "cell_type": "markdown",
   "metadata": {},
   "source": [
    "### Drop the Existing Project"
   ]
  },
  {
   "cell_type": "markdown",
   "metadata": {},
   "source": [
    "### Remove Tables and Views Created by Lab Participants"
   ]
  },
  {
   "cell_type": "code",
   "execution_count": null,
   "metadata": {},
   "outputs": [],
   "source": [
    "# Delete Virtualized Tables Created by Lab Participants\n",
    "\n",
    "virtualTables = CPDAPI.getVirtualizedTablesDF()\n",
    "virtualUserTables = virtualTables.loc[virtualTables['owner'] != 'USER999']\n",
    "display(virtualUserTables)\n",
    "for index, row in virtualUserTables.iterrows():\n",
    "    schema = row['table_schema']\n",
    "    table = row['table_name']\n",
    "    source = row['data_source_table_name']\n",
    "    CPDAPI.deleteVirtualizedTable(schema, table, source)\n",
    "    if (CPDAPI.getStatusCode(r)==200):\n",
    "        print('Virtualized Table deleted')\n",
    "    else:\n",
    "        print(CPDAPI.getStatusCode(r))\n",
    "display(CPDAPI.getVirtualizedTablesDF())"
   ]
  },
  {
   "cell_type": "code",
   "execution_count": null,
   "metadata": {},
   "outputs": [],
   "source": [
    "# Delete Virtualized Views Created by Lab Participants\n",
    "\n",
    "views = CPDAPI.getVirtualizedViewsDF()\n",
    "userViews = views.loc[views['owner'] != 'USER999']\n",
    "display(userViews)\n",
    "for index, row in userViews.iterrows():\n",
    "    schema = row['viewschema']\n",
    "    view = row['viewname']\n",
    "    CPDAPI.deleteView(schema, view)\n",
    "    if (CPDAPI.getStatusCode(r)==200):\n",
    "        print('View deleted')\n",
    "    else:\n",
    "        print(CPDAPI.getStatusCode(r))\n",
    "display(CPDAPI.getVirtualizedViewsDF())"
   ]
  },
  {
   "cell_type": "markdown",
   "metadata": {},
   "source": [
    "### Remove Users from Data Virtualization Server and CPD"
   ]
  },
  {
   "cell_type": "code",
   "execution_count": null,
   "metadata": {},
   "outputs": [],
   "source": [
    "# Drop x users and engineers from the DV Service\n",
    "ids = 10\n",
    "userList = {'UserRoot':['LABUSER','LABDATAENGINEER']}\n",
    "userListDF = pd.DataFrame(userList) \n",
    "\n",
    "df = CPDAPI.getUsersDF() # Get existing list of users to get the uid\n",
    "\n",
    "for x in range(0, ids):\n",
    "    for row in range(0, len(userListDF)):\n",
    "        display_name = userListDF['UserRoot'].iloc[row]+str(x)\n",
    "        \n",
    "        r = CPDAPI.dropUserFromDV(display_name, df)\n",
    "        if (CPDAPI.getStatusCode(r)==200):\n",
    "            print('User: '+display_name+' dropped from Data Virtualization Service')\n",
    "        else:\n",
    "            print(CPDAPI.getStatusCode(r))"
   ]
  },
  {
   "cell_type": "code",
   "execution_count": null,
   "metadata": {},
   "outputs": [],
   "source": [
    "# Drop x users and engineers from CPD\n",
    "ids = 10\n",
    "userList = {'UserRoot':['labuser','labdataengineer']}\n",
    "userListDF = pd.DataFrame(userList) \n",
    "\n",
    "for x in range(0, ids):\n",
    "    for row in range(0, len(userListDF)):\n",
    "        username = userListDF['UserRoot'].iloc[row]+str(x)\n",
    "\n",
    "        r = CPDAPI.dropUser(username)\n",
    "        if (CPDAPI.getStatusCode(r)==200):\n",
    "            print('User: '+username+' Dropped')\n",
    "        else:\n",
    "            print(CPDAPI.getStatusCode(r))"
   ]
  },
  {
   "cell_type": "markdown",
   "metadata": {},
   "source": [
    "#### Credits: IBM 2019, Peter Kohlmann [kohlmann@ca.ibm.com]"
   ]
  }
 ],
 "metadata": {
  "kernelspec": {
   "display_name": "Python 3",
   "language": "python",
   "name": "python3"
  },
  "language_info": {
   "codemirror_mode": {
    "name": "ipython",
    "version": 3
   },
   "file_extension": ".py",
   "mimetype": "text/x-python",
   "name": "python",
   "nbconvert_exporter": "python",
   "pygments_lexer": "ipython3",
   "version": "3.7.4"
  }
 },
 "nbformat": 4,
 "nbformat_minor": 2
}
