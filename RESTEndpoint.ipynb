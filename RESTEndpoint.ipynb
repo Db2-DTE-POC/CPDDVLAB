{
 "cells": [
  {
   "cell_type": "markdown",
   "metadata": {},
   "source": [
    "# Using Db2 11.5.4 RESTful Programming with Data Virtualization"
   ]
  },
  {
   "cell_type": "markdown",
   "metadata": {},
   "source": [
    "The following notebook is a brief example of how to use the Db2 11.5.4 RESTful Endpoint service to extend the capabilies of Cloud Pak for Data Virtualization. \n",
    "\n",
    "You can extend your Cloud Pak for Data system so that application programmers can create Representational State Transfer (REST) endpoints that can be used to interact with the Data Virtualization Service. \n",
    "\n",
    "Each endpoint is associated with a single SQL statement. Authenticated users of web, mobile, or cloud applications can use these REST endpoints from any REST HTTP client without having to install any Db2 drivers.\n",
    "\n",
    "The Db2 REST server accepts an HTTP request, processes the request body, and returns results in JavaScript Object Notation (JSON).\n",
    "\n",
    "The Db2 REST server is pre-installed and running on Docker on server7 (10.1.1.12) in the Demonstration cluster. As a programmer you can communicate with the service on port 50050. Your welcome note includes the external port you can use to interact with the Db2 RESTful Endpoint service directly.\n",
    "\n",
    "You can find more information about this service at: https://www.ibm.com/support/producthub/db2/docs/content/SSEPGG_11.5.0/com.ibm.db2.luw.admin.rest.doc/doc/c_rest.html."
   ]
  },
  {
   "cell_type": "markdown",
   "metadata": {},
   "source": [
    "## Finding the Db2 RESTful Endpoint Service API Documentation\n",
    "If you are running this notebook from a browser running inside the Cloud Pak for Data cluster, click: http://10.1.1.12:50050/docs\n",
    "If you are running this from a browser from your own desktop, check your welcome note for the address of the Db2 RESTful Service at port 50050."
   ]
  },
  {
   "cell_type": "markdown",
   "metadata": {},
   "source": [
    "## Import the required programming libraries\n",
    "The requests library is the minimum required by Python to construct RESTful service calls. The Pandas library is used to format and manipulate JSON result sets as tables. "
   ]
  },
  {
   "cell_type": "code",
   "execution_count": null,
   "metadata": {},
   "outputs": [],
   "source": [
    "import requests\n",
    "import pandas as pd"
   ]
  },
  {
   "cell_type": "markdown",
   "metadata": {},
   "source": [
    "## Create the Header File required for getting an authetication token\n",
    "The RESTful call to the Db2 RESTful Endpoint service is contructed and transmitted as JSON. The first part of the JSON structure is the headers that define the content tyoe of the request."
   ]
  },
  {
   "cell_type": "code",
   "execution_count": null,
   "metadata": {},
   "outputs": [],
   "source": [
    "headers = {\n",
    "  \"content-type\": \"application/json\"\n",
    "}"
   ]
  },
  {
   "cell_type": "markdown",
   "metadata": {},
   "source": [
    "## RESTful Host\n",
    "The next part defines where the request is sent to. It provides the location of the RESTful service for our calls."
   ]
  },
  {
   "cell_type": "code",
   "execution_count": null,
   "metadata": {},
   "outputs": [],
   "source": [
    "Db2RESTful = \"http://10.1.1.12:50050\""
   ]
  },
  {
   "cell_type": "markdown",
   "metadata": {},
   "source": [
    "## API Authentication Service\n",
    "Each service has its own path in the RESTful call. For authentication we need to point to the `v1/auth` service."
   ]
  },
  {
   "cell_type": "code",
   "execution_count": null,
   "metadata": {},
   "outputs": [],
   "source": [
    "API_Auth = \"/v1/auth\""
   ]
  },
  {
   "cell_type": "markdown",
   "metadata": {},
   "source": [
    "## Authentication\n",
    "To authenticate to the RESTful service you must provide the connection information for the database along with the userid and password that you are using to authenticate with. You can also provide an expiry time so that the access token that gets returned will be invalidated after that time period."
   ]
  },
  {
   "cell_type": "code",
   "execution_count": null,
   "metadata": {},
   "outputs": [],
   "source": [
    "body = {\n",
    "  \"dbParms\": {\n",
    "    \"dbHost\": \"10.1.1.1\",\n",
    "    \"dbName\": \"bigsql\",\n",
    "    \"dbPort\": 30797,\n",
    "    \"isSSLConnection\": False,\n",
    "    \"username\": \"user999\",\n",
    "    \"password\": \"cEs*F5nUZ32#5?_w\"\n",
    "  },\n",
    "  \"expiryTime\": \"300m\"\n",
    "}"
   ]
  },
  {
   "cell_type": "markdown",
   "metadata": {},
   "source": [
    "## API Service\n",
    "When communicating with the RESTful service, you must provide the name of the service that you want to interact with. In this case the authentication service is */v1/auth*. "
   ]
  },
  {
   "cell_type": "code",
   "execution_count": null,
   "metadata": {},
   "outputs": [],
   "source": [
    "try:\n",
    "    response = requests.post(\"{}{}\".format(Db2RESTful,API_Auth), headers=headers, json=body)\n",
    "except Exception as e:\n",
    "    print(\"Unable to call RESTful service. Error={}\".format(repr(e)))"
   ]
  },
  {
   "cell_type": "markdown",
   "metadata": {},
   "source": [
    "A response code of 200 means that the authentication worked properly, otherwise the error that was generated is printed."
   ]
  },
  {
   "cell_type": "code",
   "execution_count": null,
   "metadata": {},
   "outputs": [],
   "source": [
    "print(response)"
   ]
  },
  {
   "cell_type": "markdown",
   "metadata": {},
   "source": [
    "The response includes a connection token that is reused throughout the rest of this lab. It ensures secure a connection without requiring that you reenter a userid and password with each request.  "
   ]
  },
  {
   "cell_type": "code",
   "execution_count": null,
   "metadata": {},
   "outputs": [],
   "source": [
    "if (response.status_code == 200):\n",
    "  token = response.json()[\"token\"]\n",
    "  print(\"Token: {}\".format(token))\n",
    "else: \n",
    "  print(response.json()[\"errors\"])"
   ]
  },
  {
   "cell_type": "markdown",
   "metadata": {},
   "source": [
    "## Reusing the token in the standard header\n",
    "The standard header for all subsequent calls will use this format. It includes the access token."
   ]
  },
  {
   "cell_type": "code",
   "execution_count": null,
   "metadata": {},
   "outputs": [],
   "source": [
    "headers = {\n",
    "  \"authorization\": f\"{token}\",\n",
    "  \"content-type\": \"application/json\"\n",
    "}"
   ]
  },
  {
   "cell_type": "markdown",
   "metadata": {},
   "source": [
    "## Executing an SQL Statement\n",
    "Executing SQL requires a different service endpoint. In this case we will use \"/services/execsql\""
   ]
  },
  {
   "cell_type": "code",
   "execution_count": null,
   "metadata": {},
   "outputs": [],
   "source": [
    "API_execsql = \"/v1/services/execsql\""
   ]
  },
  {
   "cell_type": "markdown",
   "metadata": {},
   "source": [
    "In this example, the code requests that the RESTful function waits until the command is complete."
   ]
  },
  {
   "cell_type": "code",
   "execution_count": null,
   "metadata": {},
   "outputs": [],
   "source": [
    "body = {\n",
    "  \"isQuery\": True,\n",
    "  \"sqlStatement\": \"SELECT * FROM STOCK.STOCK_SYMBOLS WHERE SYMBOL = 'CAT'\",\n",
    "  \"sync\": True\n",
    "}"
   ]
  },
  {
   "cell_type": "code",
   "execution_count": null,
   "metadata": {},
   "outputs": [],
   "source": [
    "try:\n",
    "    response = requests.post(\"{}{}\".format(Db2RESTful,API_execsql), headers=headers, json=body)\n",
    "except Exception as e:\n",
    "    print(\"Unable to call RESTful service. Error={}\".format(repr(e)))"
   ]
  },
  {
   "cell_type": "code",
   "execution_count": null,
   "metadata": {},
   "outputs": [],
   "source": [
    "print(response)"
   ]
  },
  {
   "cell_type": "markdown",
   "metadata": {},
   "source": [
    "Retrieve the results. The Dataframe class converts the json result set into a table. Dataframes can be used to further manipulate results in Python."
   ]
  },
  {
   "cell_type": "code",
   "execution_count": null,
   "metadata": {
    "scrolled": true
   },
   "outputs": [],
   "source": [
    "display(pd.DataFrame(response.json()['resultSet']))"
   ]
  },
  {
   "cell_type": "markdown",
   "metadata": {},
   "source": [
    "## Use Parameters in a SQL Statement\n",
    "Simple parameter passing is also available through the execsql service. In this case we are passing the Stock symbol \"CAT\" into the query to retrieve the full stock name. Try substituting different symbols and run the REST call again. Symbols like PG, DIS, or MMM."
   ]
  },
  {
   "cell_type": "code",
   "execution_count": null,
   "metadata": {},
   "outputs": [],
   "source": [
    "body = {\n",
    "  \"isQuery\": True,\n",
    "  \"parameters\" : {\n",
    "      \"1\" : \"CAT\"\n",
    "  },\n",
    "  \"sqlStatement\": \"SELECT * FROM STOCK.STOCK_SYMBOLS WHERE SYMBOL = ?\",\n",
    "  \"sync\": True\n",
    "}"
   ]
  },
  {
   "cell_type": "code",
   "execution_count": null,
   "metadata": {},
   "outputs": [],
   "source": [
    "try:\n",
    "    response = requests.post(\"{}{}\".format(Db2RESTful,API_execsql), headers=headers, json=body)\n",
    "except Exception as e:\n",
    "    print(\"Unable to call RESTful service. Error={}\".format(repr(e)))"
   ]
  },
  {
   "cell_type": "code",
   "execution_count": null,
   "metadata": {},
   "outputs": [],
   "source": [
    "response.json()[\"resultSet\"]\n",
    "display(pd.DataFrame(response.json()['resultSet']))"
   ]
  },
  {
   "cell_type": "markdown",
   "metadata": {},
   "source": [
    "## Generate a Call and don't wait for the results\n",
    "Turn sync off to require us to poll for the results. This is especially useful for long running queries. "
   ]
  },
  {
   "cell_type": "code",
   "execution_count": null,
   "metadata": {},
   "outputs": [],
   "source": [
    "body = {\n",
    "  \"isQuery\": True,\n",
    "  \"sqlStatement\": \"SELECT * FROM STOCK.STOCK_SYMBOLS WHERE SYMBOL = 'CAT'\",\n",
    "  \"sync\": False\n",
    "}"
   ]
  },
  {
   "cell_type": "code",
   "execution_count": null,
   "metadata": {},
   "outputs": [],
   "source": [
    "try:\n",
    "    response = requests.post(\"{}{}\".format(Db2RESTful,API_execsql), headers=headers, json=body)\n",
    "except Exception as e:\n",
    "    print(\"Unable to call RESTful service. Error={}\".format(repr(e)))"
   ]
  },
  {
   "cell_type": "code",
   "execution_count": null,
   "metadata": {},
   "outputs": [],
   "source": [
    "print(response)"
   ]
  },
  {
   "cell_type": "markdown",
   "metadata": {},
   "source": [
    "Retrieve the job id to retrieve the results later."
   ]
  },
  {
   "cell_type": "code",
   "execution_count": null,
   "metadata": {},
   "outputs": [],
   "source": [
    "job_id = response.json()[\"id\"]"
   ]
  },
  {
   "cell_type": "code",
   "execution_count": null,
   "metadata": {},
   "outputs": [],
   "source": [
    "print(job_id)"
   ]
  },
  {
   "cell_type": "markdown",
   "metadata": {},
   "source": [
    "## Retrieve Result set using Job ID\n",
    "The service API needs to be appended with the Job ID."
   ]
  },
  {
   "cell_type": "code",
   "execution_count": null,
   "metadata": {},
   "outputs": [],
   "source": [
    "API_get = \"/v1/services/\""
   ]
  },
  {
   "cell_type": "markdown",
   "metadata": {},
   "source": [
    "We can limit the number of rows that we return at a time. Setting the limit to zero means all of the rows are to be returned."
   ]
  },
  {
   "cell_type": "code",
   "execution_count": null,
   "metadata": {},
   "outputs": [],
   "source": [
    "body = {\n",
    "  \"limit\": 0\n",
    "}"
   ]
  },
  {
   "cell_type": "markdown",
   "metadata": {},
   "source": [
    "Get the results."
   ]
  },
  {
   "cell_type": "code",
   "execution_count": null,
   "metadata": {},
   "outputs": [],
   "source": [
    "try:\n",
    "    response = requests.get(\"{}{}{}\".format(Db2RESTful,API_get,job_id), headers=headers, json=body)\n",
    "except Exception as e:\n",
    "    print(\"Unable to call RESTful service. Error={}\".format(repr(e)))"
   ]
  },
  {
   "cell_type": "markdown",
   "metadata": {},
   "source": [
    "Retrieve the results."
   ]
  },
  {
   "cell_type": "code",
   "execution_count": null,
   "metadata": {},
   "outputs": [],
   "source": [
    "print(response.json()[\"resultSet\"])\n",
    "display(pd.DataFrame(response.json()[\"resultSet\"]))"
   ]
  },
  {
   "cell_type": "markdown",
   "metadata": {},
   "source": [
    "## Create a Unique RESTful Service\n",
    "The most common way of interacting with the service is to fully encapsulate an SQL statement, including any parameters, in a unique RESTful service. This creates a secure separation between the database service and the RESTful programming service. It also allows you to create versions of the same service to make maintenance and evolution of programming models simple and predictable. "
   ]
  },
  {
   "cell_type": "code",
   "execution_count": null,
   "metadata": {},
   "outputs": [],
   "source": [
    "API_makerest = \"/v1/services\""
   ]
  },
  {
   "cell_type": "markdown",
   "metadata": {},
   "source": [
    "Define the SQL that we want in the RESTful call."
   ]
  },
  {
   "cell_type": "code",
   "execution_count": null,
   "metadata": {},
   "outputs": [],
   "source": [
    "body = {\"isQuery\": True,\n",
    "       \"parameters\": [\n",
    "         {\n",
    "         \"datatype\": \"CHAR(4)\",\n",
    "         \"name\": \"@SYMBOL\"\n",
    "         }\n",
    "       ],\n",
    "       \"schema\": \"STOCK\",\n",
    "       \"serviceDescription\": \"Get full name given symbol\",\n",
    "       \"serviceName\": \"getstock\",\n",
    "       \"sqlStatement\": \"SELECT * FROM STOCK.STOCK_SYMBOLS WHERE SYMBOL = @SYMBOL\",\n",
    "       \"version\": \"1.0\"\n",
    "}"
   ]
  },
  {
   "cell_type": "code",
   "execution_count": null,
   "metadata": {},
   "outputs": [],
   "source": [
    "try:\n",
    "    response = requests.post(\"{}{}\".format(Db2RESTful,API_makerest), headers=headers, json=body)\n",
    "except Exception as e:\n",
    "    print(\"Unable to call RESTful service. Error={}\".format(repr(e)))"
   ]
  },
  {
   "cell_type": "code",
   "execution_count": null,
   "metadata": {},
   "outputs": [],
   "source": [
    "if (response.status_code == 201):\n",
    "  print(\"Service Created\")\n",
    "else:\n",
    "  print(response.json()['errors'])"
   ]
  },
  {
   "cell_type": "markdown",
   "metadata": {},
   "source": [
    "## Call the new RESTful Service\n",
    "Now you can call the RESTful service. In this case we will pass the stock symbol CAT. But like in the previous example you can try rerunning the service call with different stock symbols."
   ]
  },
  {
   "cell_type": "code",
   "execution_count": null,
   "metadata": {},
   "outputs": [],
   "source": [
    "API_runrest = \"/v1/services/getstock/1.0\""
   ]
  },
  {
   "cell_type": "code",
   "execution_count": null,
   "metadata": {},
   "outputs": [],
   "source": [
    "body = {\n",
    "  \"parameters\": {\n",
    "    \"@SYMBOL\": \"CAT\"\n",
    "  },\n",
    "  \"sync\": True\n",
    "}"
   ]
  },
  {
   "cell_type": "code",
   "execution_count": null,
   "metadata": {},
   "outputs": [],
   "source": [
    "try:\n",
    "    response = requests.post(\"{}{}\".format(Db2RESTful,API_runrest), headers=headers, json=body)\n",
    "except Exception as e:\n",
    "    print(\"Unable to call RESTful service. Error={}\".format(repr(e)))"
   ]
  },
  {
   "cell_type": "markdown",
   "metadata": {},
   "source": [
    "A response of 200 indicates a successful service call."
   ]
  },
  {
   "cell_type": "code",
   "execution_count": null,
   "metadata": {},
   "outputs": [],
   "source": [
    "print(response)"
   ]
  },
  {
   "cell_type": "markdown",
   "metadata": {},
   "source": [
    "You can now retrieve the result set, convert it into a Dataframe and display the table."
   ]
  },
  {
   "cell_type": "code",
   "execution_count": null,
   "metadata": {},
   "outputs": [],
   "source": [
    "print(response.json())\n",
    "display(pd.DataFrame(response.json()['resultSet']))"
   ]
  },
  {
   "cell_type": "markdown",
   "metadata": {},
   "source": [
    "## Retreive Service Details\n",
    "You can query each service to see its details, including authoritization, input parameters and output results. "
   ]
  },
  {
   "cell_type": "code",
   "execution_count": null,
   "metadata": {},
   "outputs": [],
   "source": [
    "API_listrest = \"/v1/services/getstock/1.0\""
   ]
  },
  {
   "cell_type": "code",
   "execution_count": null,
   "metadata": {},
   "outputs": [],
   "source": [
    "try:\n",
    "    response = requests.get(\"{}{}\".format(Db2RESTful,API_listrest), headers=headers)\n",
    "except Exception as e:\n",
    "    print(\"Unable to call RESTful service. Error={}\".format(repr(e)))"
   ]
  },
  {
   "cell_type": "code",
   "execution_count": null,
   "metadata": {},
   "outputs": [],
   "source": [
    "print(response.json())"
   ]
  },
  {
   "cell_type": "code",
   "execution_count": null,
   "metadata": {
    "scrolled": true
   },
   "outputs": [],
   "source": [
    "print(\"Service Details:\")\n",
    "print(\"Service Name: \" + response.json()['serviceName'])\n",
    "print(\"Service Version: \" + response.json()['version'])\n",
    "print(\"Service Description: \" + response.json()['serviceDescription'])\n",
    "print(\"Service Creator: \" + response.json()['serviceCreator'])\n",
    "print(\"Service Updater: \" + response.json()['serviceUpdater'])\n",
    "\n",
    "\n",
    "print('Users:')\n",
    "display(pd.DataFrame(response.json()['grantees']['users']))\n",
    "print('Groups:')\n",
    "display(pd.DataFrame(response.json()['grantees']['groups']))\n",
    "print('Roles:')\n",
    "display(pd.DataFrame(response.json()['grantees']['roles']))\n",
    "\n",
    "print('')\n",
    "print('Input Parameters:')\n",
    "display(pd.DataFrame(response.json()['inputParameters']))\n",
    "\n",
    "print('Result Set Fields:')\n",
    "display(pd.DataFrame(response.json()['resultSetFields']))\n",
    "\n"
   ]
  },
  {
   "cell_type": "markdown",
   "metadata": {},
   "source": [
    "## List Available Services\n",
    "You can also list all the user defined services you have access to"
   ]
  },
  {
   "cell_type": "code",
   "execution_count": null,
   "metadata": {},
   "outputs": [],
   "source": [
    "API_listrest = \"/v1/services\""
   ]
  },
  {
   "cell_type": "code",
   "execution_count": null,
   "metadata": {},
   "outputs": [],
   "source": [
    "try:\n",
    "    response = requests.get(\"{}{}\".format(Db2RESTful,API_listrest), headers=headers)\n",
    "except Exception as e:\n",
    "    print(\"Unable to call RESTful service. Error={}\".format(repr(e)))"
   ]
  },
  {
   "cell_type": "code",
   "execution_count": null,
   "metadata": {
    "scrolled": true
   },
   "outputs": [],
   "source": [
    "display(pd.DataFrame(response.json()['Db2Services']))"
   ]
  },
  {
   "cell_type": "markdown",
   "metadata": {},
   "source": [
    "## Delete a Service\n",
    "A single call is also available to delete a service"
   ]
  },
  {
   "cell_type": "code",
   "execution_count": null,
   "metadata": {},
   "outputs": [],
   "source": [
    "API_deleteService = \"/v1/services\"\n",
    "Service = \"/getstock\"\n",
    "Version = \"/1.0\""
   ]
  },
  {
   "cell_type": "code",
   "execution_count": null,
   "metadata": {},
   "outputs": [],
   "source": [
    "try:\n",
    "    response = requests.delete(\"{}{}{}{}\".format(Db2RESTful,API_deleteService,Service,Version), headers=headers)\n",
    "except Exception as e:\n",
    "    print(\"Unable to call RESTful service. Error={}\".format(repr(e)))"
   ]
  },
  {
   "cell_type": "code",
   "execution_count": null,
   "metadata": {},
   "outputs": [],
   "source": [
    "print (response)"
   ]
  },
  {
   "cell_type": "markdown",
   "metadata": {},
   "source": [
    "## Get Service Logs - Coming Soon\n",
    "You can easily download service logs. However you must be authorized as the principal administration user to do so."
   ]
  },
  {
   "cell_type": "code",
   "execution_count": null,
   "metadata": {},
   "outputs": [],
   "source": [
    "API_listrest = \"/v1/logs\""
   ]
  },
  {
   "cell_type": "code",
   "execution_count": null,
   "metadata": {},
   "outputs": [],
   "source": [
    "try:\n",
    "    response = requests.get(\"{}{}\".format(Db2RESTful,API_listrest), headers=headers)\n",
    "except Exception as e:\n",
    "    print(\"Unable to call RESTful service. Error={}\".format(repr(e)))"
   ]
  },
  {
   "cell_type": "code",
   "execution_count": null,
   "metadata": {
    "scrolled": true
   },
   "outputs": [],
   "source": [
    "if (response.status_code == 200):\n",
    "  myFile = response.content\n",
    "  open('/tmp/logs.zip', 'wb').write(myFile)\n",
    "  print(\"Downloaded\",len(myFile),\"bytes.\")\n",
    "else:\n",
    "  print(response.json())"
   ]
  }
 ],
 "metadata": {
  "kernelspec": {
   "display_name": "Python 3",
   "language": "python",
   "name": "python3"
  },
  "language_info": {
   "codemirror_mode": {
    "name": "ipython",
    "version": 3
   },
   "file_extension": ".py",
   "mimetype": "text/x-python",
   "name": "python",
   "nbconvert_exporter": "python",
   "pygments_lexer": "ipython3",
   "version": "3.7.6"
  }
 },
 "nbformat": 4,
 "nbformat_minor": 4
}
