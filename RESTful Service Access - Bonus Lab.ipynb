{
 "cells": [
  {
   "cell_type": "markdown",
   "metadata": {
    "id": "e4d11c19-9b61-4124-8075-9f5bf76ff435"
   },
   "source": [
    "# Using Db2 11.5 RESTful Programming with Data Virtualization"
   ]
  },
  {
   "cell_type": "markdown",
   "metadata": {
    "id": "31caeba5-e494-4bdd-a6d1-752322a4b559"
   },
   "source": [
    "The following notebook is a brief example of how to use the Db2 11.5.4 RESTful Endpoint service to extend the capabilies of Cloud Pak for Data Virtualization. \n",
    "\n",
    "You can extend your Cloud Pak for Data system so that application programmers can create Representational State Transfer (REST) endpoints that can be used to interact with the Data Virtualization Service. \n",
    "\n",
    "Each endpoint is associated with a single SQL statement. Authenticated users of web, mobile, or cloud applications can use these REST endpoints from any REST HTTP client without having to install any Db2 drivers.\n",
    "\n",
    "The Db2 REST server accepts an HTTP request, processes the request body, and returns results in JavaScript Object Notation (JSON).\n",
    "\n",
    "The Db2 REST server is pre-installed and running on Docker on server7 (10.1.1.12) in the Demonstration cluster. As a programmer you can communicate with the service on port 50050. Your welcome note includes the external port you can use to interact with the Db2 RESTful Endpoint service directly.\n",
    "\n",
    "You can find more information about this service at: https://www.ibm.com/support/producthub/db2/docs/content/SSEPGG_11.5.0/com.ibm.db2.luw.admin.rest.doc/doc/c_rest.html."
   ]
  },
  {
   "cell_type": "markdown",
   "metadata": {
    "id": "891f5996-9132-4ac3-a783-cbc02bd19260"
   },
   "source": [
    "## Finding the Db2 RESTful Endpoint Service API Documentation\n",
    "If you are running this notebook from a browser running inside the Cloud Pak for Data cluster, click: http://10.1.1.12:50050/docs\n",
    "\n",
    "If you are running this from a browser from your own desktop, check your welcome note for the address of the Db2 RESTful Service at port 50050."
   ]
  },
  {
   "cell_type": "markdown",
   "metadata": {
    "id": "d9e96ea4-52ef-490d-87dc-034e9e2a70dd"
   },
   "source": [
    "## Import the required programming libraries\n",
    "The requests library is the minimum required by Python to construct RESTful service calls. The Pandas library is used to format and manipulate JSON result sets as tables. "
   ]
  },
  {
   "cell_type": "code",
   "execution_count": null,
   "metadata": {
    "id": "6c5f3e8a-459d-40db-9037-0791952fac64"
   },
   "outputs": [],
   "source": [
    "import requests\n",
    "import pandas as pd"
   ]
  },
  {
   "cell_type": "markdown",
   "metadata": {
    "id": "902455ae-1ef4-4b4a-9109-95f9c8d6ad63"
   },
   "source": [
    "## Create the Header File required for getting an authetication token\n",
    "The RESTful call to the Db2 RESTful Endpoint service is contructed and transmitted as JSON. The first part of the JSON structure is the headers that define the content tyoe of the request."
   ]
  },
  {
   "cell_type": "code",
   "execution_count": null,
   "metadata": {
    "id": "3082fd94-bd6b-4323-8767-7d1793b0e820"
   },
   "outputs": [],
   "source": [
    "headers = {\n",
    "  \"content-type\": \"application/json\"\n",
    "}"
   ]
  },
  {
   "cell_type": "markdown",
   "metadata": {
    "id": "43d07a2c-57d9-4b69-8e83-4ee408801f38"
   },
   "source": [
    "## RESTful Host\n",
    "The next part defines where the request is sent to. It provides the location of the RESTful service for our calls."
   ]
  },
  {
   "cell_type": "code",
   "execution_count": null,
   "metadata": {
    "id": "c04f6690-8ea3-4d20-8b31-fb02a20f8f46"
   },
   "outputs": [],
   "source": [
    "Db2RESTful = \"http://10.1.1.12:50050\""
   ]
  },
  {
   "cell_type": "markdown",
   "metadata": {
    "id": "fe736175-3beb-40e3-8d27-79aca59d595c"
   },
   "source": [
    "## API Authentication Service\n",
    "Each service has its own path in the RESTful call. For authentication we need to point to the `v1/auth` service."
   ]
  },
  {
   "cell_type": "code",
   "execution_count": null,
   "metadata": {
    "id": "32fc7c08-80cf-4f01-8595-79d430247d22"
   },
   "outputs": [],
   "source": [
    "API_Auth = \"/v1/auth\""
   ]
  },
  {
   "cell_type": "markdown",
   "metadata": {
    "id": "5016024d-677d-4c85-8e35-bd317702bd6a"
   },
   "source": [
    "## Authentication\n",
    "To authenticate to the RESTful service you must provide the connection information for the database along with the userid and password that you are using to authenticate with. You can also provide an expiry time so that the access token that gets returned will be invalidated after that time period."
   ]
  },
  {
   "cell_type": "code",
   "execution_count": null,
   "metadata": {
    "id": "09091fdf-2e52-484a-b051-b364405c9207"
   },
   "outputs": [],
   "source": [
    "body = {\n",
    "  \"dbParms\": {\n",
    "    \"dbHost\": \"10.1.1.1\",\n",
    "    \"dbName\": \"bigsql\",\n",
    "    \"dbPort\": 32601,\n",
    "    \"isSSLConnection\": False,\n",
    "    \"username\": \"ADMIN\",\n",
    "    \"password\": \"password\"\n",
    "  },\n",
    "  \"expiryTime\": \"300m\"\n",
    "}"
   ]
  },
  {
   "cell_type": "markdown",
   "metadata": {
    "id": "e077b696-8b8f-4cb6-a2ba-49479284fc3f"
   },
   "source": [
    "## API Service\n",
    "When communicating with the RESTful service, you must provide the name of the service that you want to interact with. In this case the authentication service is */v1/auth*. "
   ]
  },
  {
   "cell_type": "code",
   "execution_count": null,
   "metadata": {
    "id": "9aa2258d-2914-475e-b49c-bb3eda4d6502"
   },
   "outputs": [],
   "source": [
    "try:\n",
    "    response = requests.post(\"{}{}\".format(Db2RESTful,API_Auth), headers=headers, json=body)\n",
    "except Exception as e:\n",
    "    print(\"Unable to call RESTful service. Error={}\".format(repr(e)))"
   ]
  },
  {
   "cell_type": "markdown",
   "metadata": {
    "id": "5cefdd28-f4e9-4339-8dba-6ce019ca837c"
   },
   "source": [
    "A response code of 200 means that the authentication worked properly, otherwise the error that was generated is printed."
   ]
  },
  {
   "cell_type": "code",
   "execution_count": null,
   "metadata": {
    "id": "8c7c0c9d-cf58-4671-a98c-145b74e7fb07"
   },
   "outputs": [],
   "source": [
    "print(response)"
   ]
  },
  {
   "cell_type": "markdown",
   "metadata": {
    "id": "5c54c0a4-23c0-4e7f-84b2-89401ba2db80"
   },
   "source": [
    "The response includes a connection token that is reused throughout the rest of this lab. It ensures secure a connection without requiring that you reenter a userid and password with each request.  "
   ]
  },
  {
   "cell_type": "code",
   "execution_count": null,
   "metadata": {
    "id": "c12df37a-66b7-4da2-9c24-6ccd0d2316a0"
   },
   "outputs": [],
   "source": [
    "if (response.status_code == 200):\n",
    "  token = response.json()[\"token\"]\n",
    "  print(\"Token: {}\".format(token))\n",
    "else: \n",
    "  print(response.json()[\"errors\"])"
   ]
  },
  {
   "cell_type": "markdown",
   "metadata": {
    "id": "68b3a4c0-9413-4237-8ec1-d4c3e7d9f8b9"
   },
   "source": [
    "## Reusing the token in the standard header\n",
    "The standard header for all subsequent calls will use this format. It includes the access token."
   ]
  },
  {
   "cell_type": "code",
   "execution_count": null,
   "metadata": {
    "id": "e959e283-28bc-46cc-b2bc-47cadf6088c3"
   },
   "outputs": [],
   "source": [
    "headers = {\n",
    "  \"authorization\": f\"{token}\",\n",
    "  \"content-type\": \"application/json\"\n",
    "}"
   ]
  },
  {
   "cell_type": "markdown",
   "metadata": {
    "id": "6603bc33-16b3-4874-9f57-a5b6eaceb022"
   },
   "source": [
    "## Executing an SQL Statement\n",
    "Executing SQL requires a different service endpoint. In this case we will use \"/services/execsql\""
   ]
  },
  {
   "cell_type": "code",
   "execution_count": null,
   "metadata": {
    "id": "f4afc441-dded-46be-b92b-16ea87294734"
   },
   "outputs": [],
   "source": [
    "API_execsql = \"/v1/services/execsql\""
   ]
  },
  {
   "cell_type": "markdown",
   "metadata": {
    "id": "6f55cd2e-5f92-4b80-9bb0-953b69eced9f"
   },
   "source": [
    "In this example, the code requests that the RESTful function waits until the command is complete."
   ]
  },
  {
   "cell_type": "code",
   "execution_count": null,
   "metadata": {
    "id": "eaa0070c-404a-425f-819f-5862f867a14d"
   },
   "outputs": [],
   "source": [
    "body = {\n",
    "  \"isQuery\": True,\n",
    "  \"sqlStatement\": \"SELECT * FROM NETEZZA.STOCK_SYMBOLS WHERE SYMBOL = 'CAT'\",\n",
    "  \"sync\": True\n",
    "}"
   ]
  },
  {
   "cell_type": "code",
   "execution_count": null,
   "metadata": {
    "id": "ee640b67-c30e-4c7b-81b0-bcdf6326a3f8"
   },
   "outputs": [],
   "source": [
    "try:\n",
    "    response = requests.post(\"{}{}\".format(Db2RESTful,API_execsql), headers=headers, json=body)\n",
    "except Exception as e:\n",
    "    print(\"Unable to call RESTful service. Error={}\".format(repr(e)))"
   ]
  },
  {
   "cell_type": "code",
   "execution_count": null,
   "metadata": {
    "id": "c471626d-c9ca-47ed-be5c-25fe455e9090"
   },
   "outputs": [],
   "source": [
    "print(response)"
   ]
  },
  {
   "cell_type": "markdown",
   "metadata": {
    "id": "bd2ae8db-adb8-49da-8afc-aa0e570ba26d"
   },
   "source": [
    "Retrieve the results. The Dataframe class converts the json result set into a table. Dataframes can be used to further manipulate results in Python."
   ]
  },
  {
   "cell_type": "code",
   "execution_count": null,
   "metadata": {
    "id": "fbe90ba9-b206-46d3-b6d1-533c9706f993",
    "scrolled": true
   },
   "outputs": [],
   "source": [
    "display(pd.DataFrame(response.json()['resultSet']))"
   ]
  },
  {
   "cell_type": "markdown",
   "metadata": {
    "id": "2bb14fcd-749d-4fb3-be7b-856dcdc0cc8d"
   },
   "source": [
    "## Use Parameters in a SQL Statement\n",
    "Simple parameter passing is also available through the execsql service. In this case we are passing the Stock symbol \"CAT\" into the query to retrieve the full stock name. Try substituting different symbols and run the REST call again. Symbols like PG, DIS, or MMM."
   ]
  },
  {
   "cell_type": "code",
   "execution_count": null,
   "metadata": {
    "id": "fd786876-573a-4894-8c58-50f3ea10c35c"
   },
   "outputs": [],
   "source": [
    "body = {\n",
    "  \"isQuery\": True,\n",
    "  \"parameters\" : {\n",
    "      \"1\" : \"CAT\"\n",
    "  },\n",
    "  \"sqlStatement\": \"SELECT * FROM NETEZZA.STOCK_SYMBOLS WHERE SYMBOL = ?\",\n",
    "  \"sync\": True\n",
    "}"
   ]
  },
  {
   "cell_type": "code",
   "execution_count": null,
   "metadata": {
    "id": "d6b5dcda-216a-46fc-be58-8b8c9ce05fe2"
   },
   "outputs": [],
   "source": [
    "try:\n",
    "    response = requests.post(\"{}{}\".format(Db2RESTful,API_execsql), headers=headers, json=body)\n",
    "except Exception as e:\n",
    "    print(\"Unable to call RESTful service. Error={}\".format(repr(e)))"
   ]
  },
  {
   "cell_type": "code",
   "execution_count": null,
   "metadata": {
    "id": "fc967747-c8d5-4852-84a7-8c827d308158"
   },
   "outputs": [],
   "source": [
    "response.json()[\"resultSet\"]\n",
    "display(pd.DataFrame(response.json()['resultSet']))"
   ]
  },
  {
   "cell_type": "markdown",
   "metadata": {
    "id": "f5ba078c-538a-4002-bc7b-df6827b9b157"
   },
   "source": [
    "## Generate a Call and don't wait for the results\n",
    "Turn sync off to require us to poll for the results. This is especially useful for long running queries. "
   ]
  },
  {
   "cell_type": "code",
   "execution_count": null,
   "metadata": {
    "id": "a85611be-ec51-4115-846f-9bd5100f9f53"
   },
   "outputs": [],
   "source": [
    "body = {\n",
    "  \"isQuery\": True,\n",
    "  \"sqlStatement\": \"SELECT * FROM NETEZZA.STOCK_SYMBOLS WHERE SYMBOL = 'CAT'\",\n",
    "  \"sync\": False\n",
    "}"
   ]
  },
  {
   "cell_type": "code",
   "execution_count": null,
   "metadata": {
    "id": "77dd9135-daae-4f52-8ee5-1e684d122d51"
   },
   "outputs": [],
   "source": [
    "try:\n",
    "    response = requests.post(\"{}{}\".format(Db2RESTful,API_execsql), headers=headers, json=body)\n",
    "except Exception as e:\n",
    "    print(\"Unable to call RESTful service. Error={}\".format(repr(e)))"
   ]
  },
  {
   "cell_type": "code",
   "execution_count": null,
   "metadata": {
    "id": "13e3f152-13d7-469b-bb60-765e5e7c2669"
   },
   "outputs": [],
   "source": [
    "print(response)"
   ]
  },
  {
   "cell_type": "markdown",
   "metadata": {
    "id": "3487278b-9fe9-413a-8a04-fed90fd4f09a"
   },
   "source": [
    "Retrieve the job id to retrieve the results later."
   ]
  },
  {
   "cell_type": "code",
   "execution_count": null,
   "metadata": {
    "id": "1e221328-a516-496c-a7ea-f320d6569197"
   },
   "outputs": [],
   "source": [
    "job_id = response.json()[\"id\"]"
   ]
  },
  {
   "cell_type": "code",
   "execution_count": null,
   "metadata": {
    "id": "928c2fce-eaa3-4931-a41c-806bd2d7f2ad"
   },
   "outputs": [],
   "source": [
    "print(job_id)"
   ]
  },
  {
   "cell_type": "markdown",
   "metadata": {
    "id": "a2fbc087-9924-40fe-84cc-c062e886da24"
   },
   "source": [
    "## Retrieve Result set using Job ID\n",
    "The service API needs to be appended with the Job ID."
   ]
  },
  {
   "cell_type": "code",
   "execution_count": null,
   "metadata": {
    "id": "dd4eaaf9-f0dd-46dd-8dcb-4015e6be0c81"
   },
   "outputs": [],
   "source": [
    "API_get = \"/v1/services/\""
   ]
  },
  {
   "cell_type": "markdown",
   "metadata": {
    "id": "b6ef83a0-0abf-473d-8a82-719b38dcd738"
   },
   "source": [
    "We can limit the number of rows that we return at a time. Setting the limit to zero means all of the rows are to be returned."
   ]
  },
  {
   "cell_type": "code",
   "execution_count": null,
   "metadata": {
    "id": "4fa2b281-fa44-43bd-9740-92f675335139"
   },
   "outputs": [],
   "source": [
    "body = {\n",
    "  \"limit\": 0\n",
    "}"
   ]
  },
  {
   "cell_type": "markdown",
   "metadata": {
    "id": "4ddc0332-7fa0-4dff-9914-89b3f8156ee7"
   },
   "source": [
    "Get the results."
   ]
  },
  {
   "cell_type": "code",
   "execution_count": null,
   "metadata": {
    "id": "81a89482-e55f-4467-8206-c1802d7cf0cb"
   },
   "outputs": [],
   "source": [
    "try:\n",
    "    response = requests.get(\"{}{}{}\".format(Db2RESTful,API_get,job_id), headers=headers, json=body)\n",
    "except Exception as e:\n",
    "    print(\"Unable to call RESTful service. Error={}\".format(repr(e)))"
   ]
  },
  {
   "cell_type": "markdown",
   "metadata": {
    "id": "9327dbbb-71bb-4d60-b865-6258370bc269"
   },
   "source": [
    "Retrieve the results."
   ]
  },
  {
   "cell_type": "code",
   "execution_count": null,
   "metadata": {
    "id": "8dcce89c-44a2-4e70-9efe-c28c5f7dcbbb"
   },
   "outputs": [],
   "source": [
    "print(response.json()[\"resultSet\"])\n",
    "display(pd.DataFrame(response.json()[\"resultSet\"]))"
   ]
  },
  {
   "cell_type": "markdown",
   "metadata": {
    "id": "02d15b28ad4c4ac5801a8eeb7c137fe3"
   },
   "source": [
    "## Using RESTful Endpoint Services\n",
    "The most common way of interacting with the service is to fully encapsulate an SQL statement, including any parameters, in a unique RESTful service. This creates a secure separation between the database service and the RESTful programming service. It also allows you to create versions of the same service to make maintenance and evolution of programming models simple and predictable."
   ]
  },
  {
   "cell_type": "markdown",
   "metadata": {
    "id": "b10a6108dd5c4eacad2ac25917a6d888"
   },
   "source": [
    "### Create a RESTful Service\n",
    "Now that the RESTful Service metadata is created in your database, you can create your first service. In this example you will pass an company symbol to the service and retrieve the long name of the company."
   ]
  },
  {
   "cell_type": "code",
   "execution_count": null,
   "metadata": {
    "id": "815a94df-278d-4f03-baf1-fc917a31abd9"
   },
   "outputs": [],
   "source": [
    "API_makerest = \"/v1/services\""
   ]
  },
  {
   "cell_type": "markdown",
   "metadata": {
    "id": "e4f8c637-1d23-40a4-b764-c301ad10da1f"
   },
   "source": [
    "Define the SQL that we want in the RESTful call."
   ]
  },
  {
   "cell_type": "code",
   "execution_count": null,
   "metadata": {
    "id": "4191ea4e-534f-4b6d-acf2-8a400bba9eea"
   },
   "outputs": [],
   "source": [
    "body = {\"isQuery\": True,\n",
    "       \"parameters\": [\n",
    "         {\n",
    "         \"datatype\": \"VARCHAR(4)\",\n",
    "         \"name\": \"@SYMBOL\"\n",
    "         }\n",
    "       ],\n",
    "       \"schema\": \"STOCK\",\n",
    "       \"serviceDescription\": \"Get full name given symbol\",\n",
    "       \"serviceName\": \"getstock\",\n",
    "       \"sqlStatement\": \"SELECT * FROM TRADING.STOCK_SYMBOLS WHERE SYMBOL = @SYMBOL\",\n",
    "       \"version\": \"1.0\"\n",
    "}"
   ]
  },
  {
   "cell_type": "code",
   "execution_count": null,
   "metadata": {
    "id": "1a6fe6fc-cb00-46a7-b869-ea1851f60c14"
   },
   "outputs": [],
   "source": [
    "try:\n",
    "    response = requests.post(\"{}{}\".format(Db2RESTful,API_makerest), headers=headers, json=body)\n",
    "except Exception as e:\n",
    "    print(\"Unable to call RESTful service. Error={}\".format(repr(e)))"
   ]
  },
  {
   "cell_type": "code",
   "execution_count": null,
   "metadata": {
    "id": "090b8695-6848-40ed-9c16-e0334c0aa889"
   },
   "outputs": [],
   "source": [
    "if (response.status_code == 201):\n",
    "  print(\"Service Created\")\n",
    "else:\n",
    "  print(response.json()['errors'])"
   ]
  },
  {
   "cell_type": "markdown",
   "metadata": {
    "id": "e884dab8-c946-4386-a35c-3ecbe954102d"
   },
   "source": [
    "## Call the new RESTful Service\n",
    "Now you can call the RESTful service. In this case we will pass the stock symbol CAT. But like in the previous example you can try rerunning the service call with different stock symbols."
   ]
  },
  {
   "cell_type": "code",
   "execution_count": null,
   "metadata": {
    "id": "92fc2023-8af2-4c0d-afa9-50f0584f8182"
   },
   "outputs": [],
   "source": [
    "API_runrest = \"/v1/services/getstock/1.0\""
   ]
  },
  {
   "cell_type": "code",
   "execution_count": null,
   "metadata": {
    "id": "e812c465-200e-492a-9596-06b800be6b0d"
   },
   "outputs": [],
   "source": [
    "body = {\n",
    "  \"parameters\": {\n",
    "    \"@SYMBOL\": \"CAT\"\n",
    "  },\n",
    "  \"sync\": True\n",
    "}"
   ]
  },
  {
   "cell_type": "code",
   "execution_count": null,
   "metadata": {
    "id": "f1ff444e-72cf-47ea-9a89-28b6ac15e27b"
   },
   "outputs": [],
   "source": [
    "try:\n",
    "    response = requests.post(\"{}{}\".format(Db2RESTful,API_runrest), headers=headers, json=body)\n",
    "except Exception as e:\n",
    "    print(\"Unable to call RESTful service. Error={}\".format(repr(e)))"
   ]
  },
  {
   "cell_type": "markdown",
   "metadata": {
    "id": "23a4e81a-a6a4-49e3-ba9d-1851d10788a6"
   },
   "source": [
    "A response of 200 indicates a successful service call."
   ]
  },
  {
   "cell_type": "code",
   "execution_count": null,
   "metadata": {
    "id": "504096f0-d099-4832-89b3-50636d048025"
   },
   "outputs": [],
   "source": [
    "print(response)"
   ]
  },
  {
   "cell_type": "markdown",
   "metadata": {
    "id": "f26cbea9-d1e2-4dc3-824e-52ab6e7bd643"
   },
   "source": [
    "You can now retrieve the result set, convert it into a Dataframe and display the table."
   ]
  },
  {
   "cell_type": "code",
   "execution_count": null,
   "metadata": {
    "id": "28f09bab-93f2-48ef-bd9b-93a24dbf8444"
   },
   "outputs": [],
   "source": [
    "print(response.json())\n",
    "display(pd.DataFrame(response.json()['resultSet']))"
   ]
  },
  {
   "cell_type": "markdown",
   "metadata": {
    "id": "23fff121-2041-44af-a3bf-16fad866da43"
   },
   "source": [
    "## Retreive Service Details\n",
    "You can query each service to see its details, including authoritization, input parameters and output results. "
   ]
  },
  {
   "cell_type": "code",
   "execution_count": null,
   "metadata": {
    "id": "e9c98999-636b-4757-9961-db572d5310de"
   },
   "outputs": [],
   "source": [
    "API_listrest = \"/v1/services/getstock/1.0\""
   ]
  },
  {
   "cell_type": "code",
   "execution_count": null,
   "metadata": {
    "id": "a595f005-5de2-4326-afef-3891967822f9"
   },
   "outputs": [],
   "source": [
    "try:\n",
    "    response = requests.get(\"{}{}\".format(Db2RESTful,API_listrest), headers=headers)\n",
    "except Exception as e:\n",
    "    print(\"Unable to call RESTful service. Error={}\".format(repr(e)))"
   ]
  },
  {
   "cell_type": "code",
   "execution_count": null,
   "metadata": {
    "id": "bf86249d-fe6a-420b-9602-5100dd206fd8"
   },
   "outputs": [],
   "source": [
    "print(response.json())"
   ]
  },
  {
   "cell_type": "code",
   "execution_count": null,
   "metadata": {
    "id": "21d85256-f195-4669-b77d-2130665e17e8",
    "scrolled": true
   },
   "outputs": [],
   "source": [
    "print(\"Service Details:\")\n",
    "print(\"Service Name: \" + response.json()['serviceName'])\n",
    "print(\"Service Version: \" + response.json()['version'])\n",
    "print(\"Service Description: \" + response.json()['serviceDescription'])\n",
    "print(\"Service Creator: \" + response.json()['serviceCreator'])\n",
    "print(\"Service Updater: \" + response.json()['serviceUpdater'])\n",
    "\n",
    "\n",
    "print('Users:')\n",
    "display(pd.DataFrame(response.json()['grantees']['users']))\n",
    "print('Groups:')\n",
    "display(pd.DataFrame(response.json()['grantees']['groups']))\n",
    "print('Roles:')\n",
    "display(pd.DataFrame(response.json()['grantees']['roles']))\n",
    "\n",
    "print('')\n",
    "print('Input Parameters:')\n",
    "display(pd.DataFrame(response.json()['inputParameters']))\n",
    "\n",
    "print('Result Set Fields:')\n",
    "display(pd.DataFrame(response.json()['resultSetFields']))\n",
    "\n"
   ]
  },
  {
   "cell_type": "markdown",
   "metadata": {
    "id": "a50fcc03-a4e8-423c-8a58-186880a63bd4"
   },
   "source": [
    "## List Available Services\n",
    "You can also list all the user defined services you have access to"
   ]
  },
  {
   "cell_type": "code",
   "execution_count": null,
   "metadata": {
    "id": "c654d89e-4b17-42a3-8464-9c4f49f20e14"
   },
   "outputs": [],
   "source": [
    "API_listrest = \"/v1/services\""
   ]
  },
  {
   "cell_type": "code",
   "execution_count": null,
   "metadata": {
    "id": "d1796ec1-1b0b-4229-abe9-37ea8c433f81"
   },
   "outputs": [],
   "source": [
    "try:\n",
    "    response = requests.get(\"{}{}\".format(Db2RESTful,API_listrest), headers=headers)\n",
    "except Exception as e:\n",
    "    print(\"Unable to call RESTful service. Error={}\".format(repr(e)))"
   ]
  },
  {
   "cell_type": "code",
   "execution_count": null,
   "metadata": {
    "id": "651b0689-0e47-4894-a7a2-143e26c60609",
    "scrolled": true
   },
   "outputs": [],
   "source": [
    "display(pd.DataFrame(response.json()['Db2Services']))"
   ]
  },
  {
   "cell_type": "markdown",
   "metadata": {
    "id": "dd0634ba-ff15-4c10-bb5d-66e21b5998da"
   },
   "source": [
    "## Delete a Service\n",
    "A single call is also available to delete a service"
   ]
  },
  {
   "cell_type": "code",
   "execution_count": null,
   "metadata": {
    "id": "86790e7d-0f61-4b15-81a4-5914ff94b510"
   },
   "outputs": [],
   "source": [
    "API_deleteService = \"/v1/services\"\n",
    "Service = \"/getstock\"\n",
    "Version = \"/1.0\""
   ]
  },
  {
   "cell_type": "code",
   "execution_count": null,
   "metadata": {
    "id": "c66dbac9-bd55-4ea3-97c6-f79588647b12"
   },
   "outputs": [],
   "source": [
    "try:\n",
    "    response = requests.delete(\"{}{}{}{}\".format(Db2RESTful,API_deleteService,Service,Version), headers=headers)\n",
    "except Exception as e:\n",
    "    print(\"Unable to call RESTful service. Error={}\".format(repr(e)))"
   ]
  },
  {
   "cell_type": "code",
   "execution_count": null,
   "metadata": {
    "id": "ab21a71f-97d1-4a2d-abb6-713368d6cc36"
   },
   "outputs": [],
   "source": [
    "print (response)"
   ]
  },
  {
   "cell_type": "markdown",
   "metadata": {
    "id": "a0ab506b-e557-4b29-b687-1329c5fb9ca1"
   },
   "source": [
    "## Get Service Logs\n",
    "You can easily download service logs. However you must be authorized as the principal administration user to do so."
   ]
  },
  {
   "cell_type": "code",
   "execution_count": null,
   "metadata": {
    "id": "66aee330-227a-495a-8c1a-5d4505beb266"
   },
   "outputs": [],
   "source": [
    "API_listrest = \"/v1/logs\""
   ]
  },
  {
   "cell_type": "code",
   "execution_count": null,
   "metadata": {
    "id": "faea2407-8813-4b88-8987-3de2b9b47e2d"
   },
   "outputs": [],
   "source": [
    "try:\n",
    "    response = requests.get(\"{}{}\".format(Db2RESTful,API_listrest), headers=headers)\n",
    "except Exception as e:\n",
    "    print(\"Unable to call RESTful service. Error={}\".format(repr(e)))"
   ]
  },
  {
   "cell_type": "code",
   "execution_count": null,
   "metadata": {
    "id": "29074309-568b-449c-a2b8-65366165fcb7",
    "scrolled": true
   },
   "outputs": [],
   "source": [
    "if (response.status_code == 200):\n",
    "  myFile = response.content\n",
    "  open('/tmp/logs.zip', 'wb').write(myFile)\n",
    "  print(\"Downloaded\",len(myFile),\"bytes.\")\n",
    "else:\n",
    "  print(response.json())"
   ]
  },
  {
   "cell_type": "markdown",
   "metadata": {
    "id": "3d1612669d974cdab545b4e6f81802d6"
   },
   "source": [
    "## Setup the Meta Data Tables and Stored Procedures to manage Endpoint Services¶\n",
    "The RESTful service was already setup for you on the Data Virtualization engine. Before you can start defining and running your own RESTful Endpoint services on another Db2 based engine you need call the service to create the table and stored procedures in the database you are using.\n",
    "\n",
    "The following steps create a tables and two stored procedures in the RESTENDPOINT schema. To recreate the service drop all the tables and procedures in the RESTENDPOINT schema and run the service call below.\n",
    "\n",
    "### ONLY RUN THESE STEPS IF YOU NEED TO RECREATE THE SERVICE METADATA TABLES"
   ]
  },
  {
   "cell_type": "code",
   "execution_count": null,
   "metadata": {
    "id": "03341313811b41c98ad5a09dc68538f6"
   },
   "outputs": [],
   "source": [
    "API_makerest = \"/v1/metadata/setup\""
   ]
  },
  {
   "cell_type": "markdown",
   "metadata": {
    "id": "23ecb99359654b2981eced95883143e2"
   },
   "source": [
    "You can specify the schema that the new table and stored procedures will be created in. In this example we will use RESTENDPOINT"
   ]
  },
  {
   "cell_type": "code",
   "execution_count": null,
   "metadata": {
    "id": "4bf37959bfc14c33844088cd2993e9ff"
   },
   "outputs": [],
   "source": [
    "body = {\n",
    "  \"schema\": \"RESTENDPOINT\"\n",
    "}"
   ]
  },
  {
   "cell_type": "code",
   "execution_count": null,
   "metadata": {
    "id": "5dc9f1fd8dcd4388b378fdea6f1e8be6"
   },
   "outputs": [],
   "source": [
    "try:\n",
    "    response = requests.post(\"{}{}\".format(Db2RESTful,API_makerest), headers=headers, json=body)\n",
    "except Exception as e:\n",
    "    print(\"Unable to call RESTful service. Error={}\".format(repr(e)))"
   ]
  },
  {
   "cell_type": "markdown",
   "metadata": {
    "id": "cd58fd2d0a924127842a5d8d4af91eef"
   },
   "source": [
    "If the process is successful the service returns a 201 status code."
   ]
  },
  {
   "cell_type": "code",
   "execution_count": null,
   "metadata": {
    "id": "4ebb6b077d704a598dcf0cf5baf17cb9"
   },
   "outputs": [],
   "source": [
    "if (response.status_code == 201):\n",
    "  print(response.reason)\n",
    "else:\n",
    "  print(response.json())"
   ]
  }
 ],
 "metadata": {
  "kernelspec": {
   "display_name": "Python 3.7",
   "language": "python",
   "name": "python3"
  },
  "language_info": {
   "codemirror_mode": {
    "name": "ipython",
    "version": 3
   },
   "file_extension": ".py",
   "mimetype": "text/x-python",
   "name": "python",
   "nbconvert_exporter": "python",
   "pygments_lexer": "ipython3",
   "version": "3.7.9"
  }
 },
 "nbformat": 4,
 "nbformat_minor": 4
}
